{
 "cells": [
  {
   "cell_type": "code",
   "execution_count": 1,
   "metadata": {},
   "outputs": [],
   "source": [
    "import json\n",
    "from collections import OrderedDict"
   ]
  },
  {
   "cell_type": "code",
   "execution_count": 2,
   "metadata": {},
   "outputs": [],
   "source": [
    "browser_list = ['collection', 'coupang', 'smartstore']\n",
    "selector_list = ['css', 'xpath']"
   ]
  },
  {
   "cell_type": "code",
   "execution_count": 3,
   "metadata": {},
   "outputs": [],
   "source": [
    "selector_dict = OrderedDict()\n",
    "for browser in browser_list:\n",
    "    tmp = OrderedDict()\n",
    "    for selector in selector_list:\n",
    "        tmp[selector] = OrderedDict()\n",
    "        selector_dict[browser] = tmp"
   ]
  },
  {
   "cell_type": "code",
   "execution_count": 4,
   "metadata": {},
   "outputs": [
    {
     "data": {
      "text/plain": [
       "OrderedDict([('collection',\n",
       "              OrderedDict([('css', OrderedDict()), ('xpath', OrderedDict())])),\n",
       "             ('coupang',\n",
       "              OrderedDict([('css', OrderedDict()), ('xpath', OrderedDict())])),\n",
       "             ('smartstore',\n",
       "              OrderedDict([('css', OrderedDict()),\n",
       "                           ('xpath', OrderedDict())]))])"
      ]
     },
     "execution_count": 4,
     "metadata": {},
     "output_type": "execute_result"
    }
   ],
   "source": [
    "selector_dict"
   ]
  },
  {
   "cell_type": "markdown",
   "metadata": {},
   "source": [
    "## collection"
   ]
  },
  {
   "cell_type": "code",
   "execution_count": 5,
   "metadata": {},
   "outputs": [],
   "source": [
    "selector_dict['collection']['css']['sort_button_area'] = 'div.filter_sort_box__223qy'\n",
    "selector_dict['collection']['css']['sort_button_click_wait'] = 'a.filter_on__X0_Fb[data-nclick=\"N=a:rev.rec\"]'\n",
    "\n",
    "selector_dict['collection']['css']['reviews_section'] = 'div#section_review'\n",
    "selector_dict['collection']['css']['review_list'] = 'ul.reviewItems_list_review__1sgcJ'\n",
    "selector_dict['collection']['css']['review_text'] = 'p.reviewItems_text__XIsTc'\n",
    "selector_dict['collection']['css']['review_info_area'] = 'span.reviewItems_etc__1YqVF'\n",
    "selector_dict['collection']['css']['review_score'] = 'span.reviewItems_average__16Ya-'\n",
    "\n",
    "selector_dict['collection']['css']['review_page_button_area'] = 'div.pagination_pagination__2M9a4' #리뷰 페이지 버튼\n",
    "\n",
    "selector_dict['collection']['css']['err_no_product'] = 'p.g_err_txt'\n",
    "selector_dict['collection']['css']['err_sale_stopped'] = 'div.noResult_no_result__2G94c'"
   ]
  },
  {
   "cell_type": "code",
   "execution_count": 6,
   "metadata": {},
   "outputs": [],
   "source": [
    "selector_dict['collection']['xpath']['sort_button'] = \"//*[contains(text(), '최신순')]\""
   ]
  },
  {
   "cell_type": "markdown",
   "metadata": {},
   "source": [
    "## coupang"
   ]
  },
  {
   "cell_type": "code",
   "execution_count": 7,
   "metadata": {},
   "outputs": [],
   "source": [
    "selector_dict['coupang']['css']['move_to_review_button'] = 'li[name=\"review\"]'\n",
    "selector_dict['coupang']['css']['move_to_review_button_click_wait'] = 'li.active[name=\"review\"]'\n",
    "\n",
    "selector_dict['coupang']['css']['sort_button_area'] = 'div.sdp-review__article__order__sort'\n",
    "selector_dict['coupang']['css']['sort_button'] = 'sdp-review__article__order__sort__newest-btn'\n",
    "selector_dict['coupang']['css']['sort_button_click_wait'] = 'button.sdp-review__article__order__sort__btn--active'\n",
    "\n",
    "selector_dict['coupang']['css']['review_cell'] = 'article.js_reviewArticleReviewList'\n",
    "selector_dict['coupang']['css']['review_title'] = 'div.sdp-review__article__list__headline'\n",
    "selector_dict['coupang']['css']['review_text'] = 'div.js_reviewArticleContent'\n",
    "selector_dict['coupang']['css']['review_score'] = 'div.js_reviewArticleRatingValue'\n",
    "selector_dict['coupang']['css']['review_date'] = 'div.sdp-review__article__list__info__product-info__reg-date'\n",
    "\n",
    "selector_dict['coupang']['css']['review_page_button_area'] = 'div.js_reviewArticlePagingContainer'\n",
    "selector_dict['coupang']['css']['review_next_page_button'] = 'button.js_reviewArticlePageNextBtn'\n",
    "selector_dict['coupang']['css']['review_select_page_button'] = 'button.js_reviewArticlePageBtn[data-page=\"{}\"]'\n",
    "selector_dict['coupang']['css']['review_page_change_wait'] = 'button.sdp-review__article__page__num--active[data-page=\"{}\"]'"
   ]
  },
  {
   "cell_type": "code",
   "execution_count": 8,
   "metadata": {},
   "outputs": [
    {
     "data": {
      "text/plain": [
       "OrderedDict()"
      ]
     },
     "execution_count": 8,
     "metadata": {},
     "output_type": "execute_result"
    }
   ],
   "source": [
    "selector_dict['coupang']['xpath']"
   ]
  },
  {
   "cell_type": "markdown",
   "metadata": {},
   "source": [
    "## smartstore"
   ]
  },
  {
   "cell_type": "code",
   "execution_count": 9,
   "metadata": {},
   "outputs": [],
   "source": [
    "selector_dict['smartstore']['css']['sort_button_area'] = 'div.WiSiiSdHv3'\n",
    "\n",
    "selector_dict['smartstore']['css']['err_blocked'] = 'strong.title_error'\n",
    "selector_dict['smartstore']['css']['err_sale_stopped'] = 'div._2BQ-WF2QUb'\n",
    "selector_dict['smartstore']['css']['err_closed_market'] = 'div._2lBcB1LfGU'\n",
    "selector_dict['smartstore']['css']['err_review_count_zero'] = 'span.q9fRhG-eTG'\n",
    "\n",
    "\n",
    "selector_dict['smartstore']['css']['review_list'] = 'div.review_list'\n",
    "selector_dict['smartstore']['css']['review_cell'] = 'li._2389dRohZq'\n",
    "selector_dict['smartstore']['css']['review_score'] = 'em._15NU42F3kT'\n",
    "\n",
    "selector_dict['smartstore']['css']['review_info_area'] = 'div._2FmJXrTVEX'\n",
    "selector_dict['smartstore']['css']['review_date'] = 'span._3QDEeS6NLn'\n",
    "\n",
    "selector_dict['smartstore']['css']['review_text_area'] = 'div._19SE1Dnqkf'\n",
    "selector_dict['smartstore']['css']['review_text'] = 'span._3QDEeS6NLn'\n",
    "\n",
    "\n",
    "selector_dict['smartstore']['css']['review_page_button_area'] = 'div._1HJarNZHiI'\n",
    "selector_dict['smartstore']['css']['review_next_page_button'] = 'a._2Ar8-aEUTq'\n",
    "selector_dict['smartstore']['css']['is_last_page'] = 'aria-hidden'\n",
    "selector_dict['smartstore']['css']['review_select_page_button'] = '//a[contains(@class, \"UWN4IvaQza\") and text()=\"{}\"]'\n",
    "selector_dict['smartstore']['css']['review_page_change_wait'] = '//a[@aria-current=\"true\" and @role=\"menuitem\" and text()=\"{}\"]'"
   ]
  },
  {
   "cell_type": "code",
   "execution_count": 10,
   "metadata": {},
   "outputs": [],
   "source": [
    "selector_dict['smartstore']['xpath']['sort_button'] = '//a[contains(text(), \"최신순\")]'\n",
    "selector_dict['smartstore']['xpath']['sort_button_click_wait'] = '//a[@aria-checked=\"true\" and contains(text(), \"최신순\")]'"
   ]
  },
  {
   "cell_type": "code",
   "execution_count": 11,
   "metadata": {},
   "outputs": [
    {
     "data": {
      "text/plain": [
       "OrderedDict([('collection',\n",
       "              OrderedDict([('css',\n",
       "                            OrderedDict([('sort_button_area',\n",
       "                                          'div.filter_sort_box__223qy'),\n",
       "                                         ('sort_button_click_wait',\n",
       "                                          'a.filter_on__X0_Fb[data-nclick=\"N=a:rev.rec\"]'),\n",
       "                                         ('reviews_section',\n",
       "                                          'div#section_review'),\n",
       "                                         ('review_list',\n",
       "                                          'ul.reviewItems_list_review__1sgcJ'),\n",
       "                                         ('review_text',\n",
       "                                          'p.reviewItems_text__XIsTc'),\n",
       "                                         ('review_info_area',\n",
       "                                          'span.reviewItems_etc__1YqVF'),\n",
       "                                         ('review_score',\n",
       "                                          'span.reviewItems_average__16Ya-'),\n",
       "                                         ('review_page_button_area',\n",
       "                                          'div.pagination_pagination__2M9a4'),\n",
       "                                         ('err_no_product', 'p.g_err_txt'),\n",
       "                                         ('err_sale_stopped',\n",
       "                                          'div.noResult_no_result__2G94c')])),\n",
       "                           ('xpath',\n",
       "                            OrderedDict([('sort_button',\n",
       "                                          \"//*[contains(text(), '최신순')]\")]))])),\n",
       "             ('coupang',\n",
       "              OrderedDict([('css',\n",
       "                            OrderedDict([('move_to_review_button',\n",
       "                                          'li[name=\"review\"]'),\n",
       "                                         ('move_to_review_button_click_wait',\n",
       "                                          'li.active[name=\"review\"]'),\n",
       "                                         ('sort_button_area',\n",
       "                                          'div.sdp-review__article__order__sort'),\n",
       "                                         ('sort_button',\n",
       "                                          'sdp-review__article__order__sort__newest-btn'),\n",
       "                                         ('sort_button_click_wait',\n",
       "                                          'button.sdp-review__article__order__sort__btn--active'),\n",
       "                                         ('review_cell',\n",
       "                                          'article.js_reviewArticleReviewList'),\n",
       "                                         ('review_title',\n",
       "                                          'div.sdp-review__article__list__headline'),\n",
       "                                         ('review_text',\n",
       "                                          'div.js_reviewArticleContent'),\n",
       "                                         ('review_score',\n",
       "                                          'div.js_reviewArticleRatingValue'),\n",
       "                                         ('review_date',\n",
       "                                          'div.sdp-review__article__list__info__product-info__reg-date'),\n",
       "                                         ('review_page_button_area',\n",
       "                                          'div.js_reviewArticlePagingContainer'),\n",
       "                                         ('review_next_page_button',\n",
       "                                          'button.js_reviewArticlePageNextBtn'),\n",
       "                                         ('review_select_page_button',\n",
       "                                          'button.js_reviewArticlePageBtn[data-page=\"{}\"]'),\n",
       "                                         ('review_page_change_wait',\n",
       "                                          'button.sdp-review__article__page__num--active[data-page=\"{}\"]')])),\n",
       "                           ('xpath', OrderedDict())])),\n",
       "             ('smartstore',\n",
       "              OrderedDict([('css',\n",
       "                            OrderedDict([('sort_button_area',\n",
       "                                          'div.WiSiiSdHv3'),\n",
       "                                         ('err_blocked', 'strong.title_error'),\n",
       "                                         ('err_sale_stopped',\n",
       "                                          'div._2BQ-WF2QUb'),\n",
       "                                         ('err_closed_market',\n",
       "                                          'div._2lBcB1LfGU'),\n",
       "                                         ('err_review_count_zero',\n",
       "                                          'span.q9fRhG-eTG'),\n",
       "                                         ('review_list', 'div.review_list'),\n",
       "                                         ('review_cell', 'li._2389dRohZq'),\n",
       "                                         ('review_score', 'em._15NU42F3kT'),\n",
       "                                         ('review_info_area',\n",
       "                                          'div._2FmJXrTVEX'),\n",
       "                                         ('review_date', 'span._3QDEeS6NLn'),\n",
       "                                         ('review_text_area',\n",
       "                                          'div._19SE1Dnqkf'),\n",
       "                                         ('review_text', 'span._3QDEeS6NLn'),\n",
       "                                         ('review_page_button_area',\n",
       "                                          'div._1HJarNZHiI'),\n",
       "                                         ('review_next_page_button',\n",
       "                                          'a._2Ar8-aEUTq'),\n",
       "                                         ('is_last_page', 'aria-hidden'),\n",
       "                                         ('review_select_page_button',\n",
       "                                          '//a[contains(@class, \"UWN4IvaQza\") and text()=\"{}\"]'),\n",
       "                                         ('review_page_change_wait',\n",
       "                                          '//a[@aria-current=\"true\" and @role=\"menuitem\" and text()=\"{}\"]')])),\n",
       "                           ('xpath',\n",
       "                            OrderedDict([('sort_button',\n",
       "                                          '//a[contains(text(), \"최신순\")]'),\n",
       "                                         ('sort_button_click_wait',\n",
       "                                          '//a[@aria-checked=\"true\" and contains(text(), \"최신순\")]')]))]))])"
      ]
     },
     "execution_count": 11,
     "metadata": {},
     "output_type": "execute_result"
    }
   ],
   "source": [
    "selector_dict"
   ]
  },
  {
   "cell_type": "code",
   "execution_count": null,
   "metadata": {},
   "outputs": [],
   "source": []
  },
  {
   "cell_type": "code",
   "execution_count": 12,
   "metadata": {},
   "outputs": [],
   "source": [
    "with open('selector_dict.json', 'w', encoding='utf-8') as f:\n",
    "    json.dump(selector_dict, f, ensure_ascii=False, indent='\\t')"
   ]
  },
  {
   "cell_type": "code",
   "execution_count": 13,
   "metadata": {},
   "outputs": [],
   "source": [
    "with open('selector_dict.json', 'r') as f:\n",
    "    a = json.load(f)"
   ]
  },
  {
   "cell_type": "code",
   "execution_count": 14,
   "metadata": {},
   "outputs": [
    {
     "data": {
      "text/plain": [
       "{'collection': {'css': {'sort_button_area': 'div.filter_sort_box__223qy',\n",
       "   'sort_button_click_wait': 'a.filter_on__X0_Fb[data-nclick=\"N=a:rev.rec\"]',\n",
       "   'reviews_section': 'div#section_review',\n",
       "   'review_list': 'ul.reviewItems_list_review__1sgcJ',\n",
       "   'review_text': 'p.reviewItems_text__XIsTc',\n",
       "   'review_info_area': 'span.reviewItems_etc__1YqVF',\n",
       "   'review_score': 'span.reviewItems_average__16Ya-',\n",
       "   'review_page_button_area': 'div.pagination_pagination__2M9a4',\n",
       "   'err_no_product': 'p.g_err_txt',\n",
       "   'err_sale_stopped': 'div.noResult_no_result__2G94c'},\n",
       "  'xpath': {'sort_button': \"//*[contains(text(), '최신순')]\"}},\n",
       " 'coupang': {'css': {'move_to_review_button': 'li[name=\"review\"]',\n",
       "   'move_to_review_button_click_wait': 'li.active[name=\"review\"]',\n",
       "   'sort_button_area': 'div.sdp-review__article__order__sort',\n",
       "   'sort_button': 'sdp-review__article__order__sort__newest-btn',\n",
       "   'sort_button_click_wait': 'button.sdp-review__article__order__sort__btn--active',\n",
       "   'review_cell': 'article.js_reviewArticleReviewList',\n",
       "   'review_title': 'div.sdp-review__article__list__headline',\n",
       "   'review_text': 'div.js_reviewArticleContent',\n",
       "   'review_score': 'div.js_reviewArticleRatingValue',\n",
       "   'review_date': 'div.sdp-review__article__list__info__product-info__reg-date',\n",
       "   'review_page_button_area': 'div.js_reviewArticlePagingContainer',\n",
       "   'review_next_page_button': 'button.js_reviewArticlePageNextBtn',\n",
       "   'review_select_page_button': 'button.js_reviewArticlePageBtn[data-page=\"{}\"]',\n",
       "   'review_page_change_wait': 'button.sdp-review__article__page__num--active[data-page=\"{}\"]'},\n",
       "  'xpath': {}},\n",
       " 'smartstore': {'css': {'sort_button_area': 'div.WiSiiSdHv3',\n",
       "   'err_blocked': 'strong.title_error',\n",
       "   'err_sale_stopped': 'div._2BQ-WF2QUb',\n",
       "   'err_closed_market': 'div._2lBcB1LfGU',\n",
       "   'err_review_count_zero': 'span.q9fRhG-eTG',\n",
       "   'review_list': 'div.review_list',\n",
       "   'review_cell': 'li._2389dRohZq',\n",
       "   'review_score': 'em._15NU42F3kT',\n",
       "   'review_info_area': 'div._2FmJXrTVEX',\n",
       "   'review_date': 'span._3QDEeS6NLn',\n",
       "   'review_text_area': 'div._19SE1Dnqkf',\n",
       "   'review_text': 'span._3QDEeS6NLn',\n",
       "   'review_page_button_area': 'div._1HJarNZHiI',\n",
       "   'review_next_page_button': 'a._2Ar8-aEUTq',\n",
       "   'is_last_page': 'aria-hidden',\n",
       "   'review_select_page_button': '//a[contains(@class, \"UWN4IvaQza\") and text()=\"{}\"]',\n",
       "   'review_page_change_wait': '//a[@aria-current=\"true\" and @role=\"menuitem\" and text()=\"{}\"]'},\n",
       "  'xpath': {'sort_button': '//a[contains(text(), \"최신순\")]',\n",
       "   'sort_button_click_wait': '//a[@aria-checked=\"true\" and contains(text(), \"최신순\")]'}}}"
      ]
     },
     "execution_count": 14,
     "metadata": {},
     "output_type": "execute_result"
    }
   ],
   "source": [
    "a"
   ]
  },
  {
   "cell_type": "code",
   "execution_count": null,
   "metadata": {},
   "outputs": [],
   "source": []
  }
 ],
 "metadata": {
  "kernelspec": {
   "display_name": "Python 3",
   "language": "python",
   "name": "python3"
  },
  "language_info": {
   "codemirror_mode": {
    "name": "ipython",
    "version": 3
   },
   "file_extension": ".py",
   "mimetype": "text/x-python",
   "name": "python",
   "nbconvert_exporter": "python",
   "pygments_lexer": "ipython3",
   "version": "3.7.7"
  }
 },
 "nbformat": 4,
 "nbformat_minor": 4
}
