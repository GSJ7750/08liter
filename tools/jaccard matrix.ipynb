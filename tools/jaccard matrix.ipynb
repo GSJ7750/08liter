{
 "cells": [
  {
   "cell_type": "code",
   "execution_count": 6,
   "metadata": {},
   "outputs": [],
   "source": [
    "import copy, re\n",
    "import numpy as np\n",
    "from krwordrank.hangle import normalize\n",
    "\n",
    "def get_jaccard_matrix(product_names):\n",
    "    def cleaning_symbols(text):\n",
    "        return re.sub('[-=+,#/\\?;:^$.@*\\\"※~&%ㆍ!』\\\\‘|\\(\\)\\[\\]\\<\\>`\\'…》]', '', text)\n",
    "    \n",
    "    def get_jaccard_similar(product_name1, product_name2, jaccard=False):\n",
    "        product_name1_tmp = normalize(str(product_name1), english=True, number=False)\n",
    "        product_name2_tmp = normalize(str(product_name2), english=True, number=False)\n",
    "        s1 = set(product_name1_tmp)\n",
    "        if ' ' in s1:\n",
    "            s1.remove(' ')\n",
    "        s2 = set(product_name2_tmp)\n",
    "        if ' ' in s2:\n",
    "            s2.remove(' ')\n",
    "        if jaccard:\n",
    "            sim = (len(s1.intersection(s2))) / len(s1.union(s2))  # +0.00001\n",
    "        else:\n",
    "            sim = len(s1.intersection(s2)) / len(s1)  # +0.00001\n",
    "\n",
    "\n",
    "        return sim\n",
    "    \n",
    "    \n",
    "    product_names = np.asarray(product_names)\n",
    "    products = copy.deepcopy(product_names)\n",
    "    products = np.vectorize(cleaning_symbols)(products)\n",
    "    \n",
    "    matrix = []\n",
    "    for p in products:\n",
    "        temp = []\n",
    "        for target in products:\n",
    "            temp.append(get_jaccard_similar(p, target))\n",
    "        matrix.append(temp)\n",
    "        \n",
    "    return matrix"
   ]
  },
  {
   "cell_type": "code",
   "execution_count": 7,
   "metadata": {},
   "outputs": [],
   "source": [
    "p = ['안국건강 안국 눈에 좋은 루테인 플러스'\n",
    "    ,'[안국건강] 눈에 좋은 루테인 플러스 500mg x 30캡슐'\n",
    "    ,'[안국건강] 눈에좋은루테인플러스 60캡슐2개월)'\n",
    "    ,'[안국건강] 안국 눈에 좋은 루테인 플러스 120캡슐 1박스(4개월분)'\n",
    "    ,'안국 눈에좋은 루테인 플러스 180캡슐 세트 1개'\n",
    "    ,'세노비스 루테인 오메가3 . 눈건강에 좋은 오메가3 60캡슐'\n",
    "    ,'한미헬스케어 눈에 좋은 루테인 골드 2병 6개월분 눈영양제 눈건강']"
   ]
  },
  {
   "cell_type": "code",
   "execution_count": 8,
   "metadata": {},
   "outputs": [
    {
     "data": {
      "text/plain": [
       "[[1.0,\n",
       "  1.0,\n",
       "  1.0,\n",
       "  1.0,\n",
       "  0.8571428571428571,\n",
       "  0.7142857142857143,\n",
       "  0.7142857142857143],\n",
       " [0.7368421052631579,\n",
       "  1.0,\n",
       "  0.8421052631578947,\n",
       "  0.8421052631578947,\n",
       "  0.7368421052631579,\n",
       "  0.631578947368421,\n",
       "  0.5263157894736842],\n",
       " [0.7777777777777778,\n",
       "  0.8888888888888888,\n",
       "  1.0,\n",
       "  1.0,\n",
       "  0.8333333333333334,\n",
       "  0.6666666666666666,\n",
       "  0.6666666666666666],\n",
       " [0.7, 0.8, 0.9, 1.0, 0.75, 0.6, 0.65],\n",
       " [0.7058823529411765,\n",
       "  0.8235294117647058,\n",
       "  0.8823529411764706,\n",
       "  0.8823529411764706,\n",
       "  1.0,\n",
       "  0.6470588235294118,\n",
       "  0.5294117647058824],\n",
       " [0.5555555555555556,\n",
       "  0.6666666666666666,\n",
       "  0.6666666666666666,\n",
       "  0.6666666666666666,\n",
       "  0.6111111111111112,\n",
       "  1.0,\n",
       "  0.5555555555555556],\n",
       " [0.4166666666666667,\n",
       "  0.4166666666666667,\n",
       "  0.5,\n",
       "  0.5416666666666666,\n",
       "  0.375,\n",
       "  0.4166666666666667,\n",
       "  1.0]]"
      ]
     },
     "execution_count": 8,
     "metadata": {},
     "output_type": "execute_result"
    }
   ],
   "source": [
    "get_jaccard_matrix(p)"
   ]
  },
  {
   "cell_type": "code",
   "execution_count": null,
   "metadata": {},
   "outputs": [],
   "source": []
  }
 ],
 "metadata": {
  "kernelspec": {
   "display_name": "ai_report",
   "language": "python",
   "name": "ai_report"
  },
  "language_info": {
   "codemirror_mode": {
    "name": "ipython",
    "version": 3
   },
   "file_extension": ".py",
   "mimetype": "text/x-python",
   "name": "python",
   "nbconvert_exporter": "python",
   "pygments_lexer": "ipython3",
   "version": "3.7.7"
  }
 },
 "nbformat": 4,
 "nbformat_minor": 4
}
