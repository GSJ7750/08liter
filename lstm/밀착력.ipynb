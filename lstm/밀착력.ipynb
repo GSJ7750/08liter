{
 "cells": [
  {
   "cell_type": "code",
   "execution_count": 88,
   "metadata": {},
   "outputs": [],
   "source": [
    "from gensim.models import FastText\n",
    "import xgboost as xgb\n",
    "import pandas as pd\n",
    "from sklearn.model_selection import train_test_split\n",
    "import sentencepiece as spm\n",
    "from tqdm import tqdm\n",
    "import regex as re\n",
    "from sklearn.metrics import classification_report, accuracy_score\n",
    "import numpy as np\n",
    "import itertools\n",
    "from tensorflow.keras.preprocessing.sequence import pad_sequences\n",
    "import tensorflow as tf\n",
    "from sklearn.preprocessing import OneHotEncoder"
   ]
  },
  {
   "cell_type": "code",
   "execution_count": 106,
   "metadata": {},
   "outputs": [],
   "source": [
    "sp = spm.SentencePieceProcessor()\n",
    "sp.load('Tokenizer/all_reviews/global_spm.model')\n",
    "\n",
    "ft_model= FastText.load('0806_fasttext_model_all_reviews_bigram_skipgram_epoch=5_WS=5_alpha=0.05_mincount=150_maxn=4')"
   ]
  },
  {
   "cell_type": "code",
   "execution_count": 107,
   "metadata": {},
   "outputs": [],
   "source": [
    "def clean_reivew(review):\n",
    "    review = ''.join(re.compile('[가-힣.!? ]').findall(review))\n",
    "    \n",
    "    review = re.sub(r'\\!+', '!', review)\n",
    "    review = re.sub(r'\\?+', '?', review)\n",
    "    review = re.sub(r'\\.+', '.', review)\n",
    "    review = re.sub(r'\\([^)]*\\)', '', review)    # 괄호 안 내용 삭제\n",
    "    review = re.sub(r'\\[[^)]*\\]', '', review)    # 대괄호 안 내용 삭제\n",
    "    \n",
    "    return review"
   ]
  },
  {
   "cell_type": "code",
   "execution_count": 108,
   "metadata": {},
   "outputs": [],
   "source": [
    "reviews = pd.read_excel('200428_밀착력_with_rating.xlsx', index_col=0)"
   ]
  },
  {
   "cell_type": "code",
   "execution_count": 109,
   "metadata": {},
   "outputs": [
    {
     "data": {
      "text/html": [
       "<div>\n",
       "<style scoped>\n",
       "    .dataframe tbody tr th:only-of-type {\n",
       "        vertical-align: middle;\n",
       "    }\n",
       "\n",
       "    .dataframe tbody tr th {\n",
       "        vertical-align: top;\n",
       "    }\n",
       "\n",
       "    .dataframe thead th {\n",
       "        text-align: right;\n",
       "    }\n",
       "</style>\n",
       "<table border=\"1\" class=\"dataframe\">\n",
       "  <thead>\n",
       "    <tr style=\"text-align: right;\">\n",
       "      <th></th>\n",
       "      <th>구분</th>\n",
       "      <th>rating</th>\n",
       "      <th>리뷰</th>\n",
       "    </tr>\n",
       "  </thead>\n",
       "  <tbody>\n",
       "    <tr>\n",
       "      <th>0</th>\n",
       "      <td>1</td>\n",
       "      <td>1</td>\n",
       "      <td>상품 후기가 좋아서 구매했는데 그저 그런 펜슬 붓 나쁘지 않음 얇게 잘 그려져요 근...</td>\n",
       "    </tr>\n",
       "    <tr>\n",
       "      <th>1</th>\n",
       "      <td>1</td>\n",
       "      <td>1</td>\n",
       "      <td>진짜별로임 선스틱인데 너무매트해서 바르면 피부에밀착되지않고 밀리는현상이있음 얼굴에는...</td>\n",
       "    </tr>\n",
       "    <tr>\n",
       "      <th>2</th>\n",
       "      <td>1</td>\n",
       "      <td>1</td>\n",
       "      <td>우선 발림성이 무겁고 백탁현상이 심한거 같습니다 저만 그런건지 다른사람도 발랐을때 ...</td>\n",
       "    </tr>\n",
       "    <tr>\n",
       "      <th>3</th>\n",
       "      <td>1</td>\n",
       "      <td>1</td>\n",
       "      <td>원래 쓰던거랑 발림성이 다름 2년동안 썼는데 여기껀 좀더 꾸덕하고 파운데이션이 낌 ...</td>\n",
       "    </tr>\n",
       "    <tr>\n",
       "      <th>4</th>\n",
       "      <td>1</td>\n",
       "      <td>1</td>\n",
       "      <td>홈쇼핑에 속았어요 커버력 발림성 전혀 광고하곤 달라요 밀림 오지구여 모공끼임 쪄네요</td>\n",
       "    </tr>\n",
       "    <tr>\n",
       "      <th>...</th>\n",
       "      <td>...</td>\n",
       "      <td>...</td>\n",
       "      <td>...</td>\n",
       "    </tr>\n",
       "    <tr>\n",
       "      <th>11197</th>\n",
       "      <td>1</td>\n",
       "      <td>1</td>\n",
       "      <td>접착력이 낮고 효과가 별로 없음 여름에 땀흘리는건 당연한데 땀흘리면 떨어짐 이게 무...</td>\n",
       "    </tr>\n",
       "    <tr>\n",
       "      <th>11198</th>\n",
       "      <td>1</td>\n",
       "      <td>2</td>\n",
       "      <td>아니 이때까지 몇번을삿는데 이번에온거는 색깔도틀리고재질도틀리고 왜이렇게잘떨어지나요?...</td>\n",
       "    </tr>\n",
       "    <tr>\n",
       "      <th>11199</th>\n",
       "      <td>2</td>\n",
       "      <td>2</td>\n",
       "      <td>양은많은데..좀유분이적고뻣뻣한느낌이들어요</td>\n",
       "    </tr>\n",
       "    <tr>\n",
       "      <th>11200</th>\n",
       "      <td>2</td>\n",
       "      <td>3</td>\n",
       "      <td>향이 너무 강해요  지속력은 오래가는데  향기가 강하다 보니 조금 힘들어요</td>\n",
       "    </tr>\n",
       "    <tr>\n",
       "      <th>11201</th>\n",
       "      <td>3</td>\n",
       "      <td>4</td>\n",
       "      <td>그리기 편한데 저는 생각보다 잘 번지고 밀착이 안되서 손 등에 올리고 말려보았는데 ...</td>\n",
       "    </tr>\n",
       "  </tbody>\n",
       "</table>\n",
       "<p>11115 rows × 3 columns</p>\n",
       "</div>"
      ],
      "text/plain": [
       "       구분  rating                                                 리뷰\n",
       "0       1       1  상품 후기가 좋아서 구매했는데 그저 그런 펜슬 붓 나쁘지 않음 얇게 잘 그려져요 근...\n",
       "1       1       1  진짜별로임 선스틱인데 너무매트해서 바르면 피부에밀착되지않고 밀리는현상이있음 얼굴에는...\n",
       "2       1       1  우선 발림성이 무겁고 백탁현상이 심한거 같습니다 저만 그런건지 다른사람도 발랐을때 ...\n",
       "3       1       1  원래 쓰던거랑 발림성이 다름 2년동안 썼는데 여기껀 좀더 꾸덕하고 파운데이션이 낌 ...\n",
       "4       1       1     홈쇼핑에 속았어요 커버력 발림성 전혀 광고하곤 달라요 밀림 오지구여 모공끼임 쪄네요\n",
       "...    ..     ...                                                ...\n",
       "11197   1       1  접착력이 낮고 효과가 별로 없음 여름에 땀흘리는건 당연한데 땀흘리면 떨어짐 이게 무...\n",
       "11198   1       2  아니 이때까지 몇번을삿는데 이번에온거는 색깔도틀리고재질도틀리고 왜이렇게잘떨어지나요?...\n",
       "11199   2       2                             양은많은데..좀유분이적고뻣뻣한느낌이들어요\n",
       "11200   2       3          향이 너무 강해요  지속력은 오래가는데  향기가 강하다 보니 조금 힘들어요\n",
       "11201   3       4  그리기 편한데 저는 생각보다 잘 번지고 밀착이 안되서 손 등에 올리고 말려보았는데 ...\n",
       "\n",
       "[11115 rows x 3 columns]"
      ]
     },
     "execution_count": 109,
     "metadata": {},
     "output_type": "execute_result"
    }
   ],
   "source": [
    "reviews"
   ]
  },
  {
   "cell_type": "code",
   "execution_count": 110,
   "metadata": {},
   "outputs": [],
   "source": [
    "X_raw = reviews['리뷰'].values"
   ]
  },
  {
   "cell_type": "code",
   "execution_count": 111,
   "metadata": {},
   "outputs": [
    {
     "name": "stderr",
     "output_type": "stream",
     "text": [
      "100%|██████████| 11115/11115 [00:00<00:00, 15376.60it/s]\n"
     ]
    }
   ],
   "source": [
    "X = [sp.EncodeAsIds(clean_reivew(review)) for review in tqdm(X_raw)]"
   ]
  },
  {
   "cell_type": "code",
   "execution_count": 112,
   "metadata": {},
   "outputs": [],
   "source": [
    "X = pad_sequences(X, maxlen=100, padding='post', truncating='post')"
   ]
  },
  {
   "cell_type": "code",
   "execution_count": 113,
   "metadata": {},
   "outputs": [
    {
     "data": {
      "text/plain": [
       "array([  390,  5280,   539,   794,  3130,   367, 20548,  6271,  2852,\n",
       "        7114,  9576,    20, 17131,    55,   488, 14127,    15,  3130,\n",
       "         367,  7007,   121,   890,  4381,  4515,  9490, 26618,   459,\n",
       "       25799,  6873,   171, 10477,  1680, 28230,   102,  3761,   246,\n",
       "        1048,  1528,  6628,    17,    20,  8885,  1528,   270, 25485,\n",
       "          10,  1153, 15408,  1528,  1586, 24308, 24092, 14267, 16163,\n",
       "        6405,   316,  1387,   505,     0,     0,     0,     0,     0,\n",
       "           0,     0,     0,     0,     0,     0,     0,     0,     0,\n",
       "           0,     0,     0,     0,     0,     0,     0,     0,     0,\n",
       "           0,     0,     0,     0,     0,     0,     0,     0,     0,\n",
       "           0,     0,     0,     0,     0,     0,     0,     0,     0,\n",
       "           0], dtype=int32)"
      ]
     },
     "execution_count": 113,
     "metadata": {},
     "output_type": "execute_result"
    }
   ],
   "source": [
    "X[0]"
   ]
  },
  {
   "cell_type": "code",
   "execution_count": 114,
   "metadata": {},
   "outputs": [],
   "source": [
    "y = np.array(reviews['구분'].values)\n",
    "y = [[_y] for _y in y]"
   ]
  },
  {
   "cell_type": "code",
   "execution_count": 115,
   "metadata": {},
   "outputs": [],
   "source": [
    "ohe = OneHotEncoder()\n",
    "ohe.fit(y)\n",
    "y = ohe.transform(y).toarray()"
   ]
  },
  {
   "cell_type": "code",
   "execution_count": 116,
   "metadata": {},
   "outputs": [],
   "source": [
    "X_train, X_test, y_train, y_test = train_test_split(X, y, random_state=7, test_size = .3)"
   ]
  },
  {
   "cell_type": "code",
   "execution_count": 117,
   "metadata": {},
   "outputs": [
    {
     "data": {
      "text/plain": [
       "(32000, 384)"
      ]
     },
     "execution_count": 117,
     "metadata": {},
     "output_type": "execute_result"
    }
   ],
   "source": [
    "sp = spm.SentencePieceProcessor()\n",
    "sp.load('Tokenizer/all_reviews/global_spm.model')\n",
    "\n",
    "with open('Tokenizer/all_reviews/global_spm.vocab', 'r') as f:\n",
    "    vocab = f.readlines()\n",
    "    \n",
    "vocab = [token.split('\\t')[0] for token in vocab]\n",
    "embedding_matrix = np.asarray([ft_model.wv.get_vector(word) for word in vocab])\n",
    "embedding_matrix.shape"
   ]
  },
  {
   "cell_type": "code",
   "execution_count": 118,
   "metadata": {},
   "outputs": [],
   "source": [
    "from tensorflow.keras.utils import to_categorical\n",
    "from tensorflow.keras.models import Sequential, Model\n",
    "from tensorflow.keras.preprocessing import sequence\n",
    "from tensorflow.keras.layers import Dense, Dropout, Embedding, LSTM, Bidirectional, SpatialDropout1D, concatenate, GlobalMaxPooling1D, Conv1D, GlobalAveragePooling1D, Activation, Input,Lambda, Flatten\n",
    "from tensorflow.keras import callbacks\n",
    "from tensorflow.keras import backend as K\n",
    "import tensorflow as tf"
   ]
  },
  {
   "cell_type": "code",
   "execution_count": 119,
   "metadata": {},
   "outputs": [
    {
     "name": "stdout",
     "output_type": "stream",
     "text": [
      "Model: \"sequential_6\"\n",
      "_________________________________________________________________\n",
      "Layer (type)                 Output Shape              Param #   \n",
      "=================================================================\n",
      "embedding_6 (Embedding)      (None, 100, 384)          12288000  \n",
      "_________________________________________________________________\n",
      "dropout_15 (Dropout)         (None, 100, 384)          0         \n",
      "_________________________________________________________________\n",
      "bidirectional_6 (Bidirection (None, 512)               1312768   \n",
      "_________________________________________________________________\n",
      "dropout_16 (Dropout)         (None, 512)               0         \n",
      "_________________________________________________________________\n",
      "dense_9 (Dense)              (None, 128)               65664     \n",
      "_________________________________________________________________\n",
      "dropout_17 (Dropout)         (None, 128)               0         \n",
      "_________________________________________________________________\n",
      "dense_10 (Dense)             (None, 4)                 516       \n",
      "=================================================================\n",
      "Total params: 13,666,948\n",
      "Trainable params: 1,378,948\n",
      "Non-trainable params: 12,288,000\n",
      "_________________________________________________________________\n"
     ]
    }
   ],
   "source": [
    "model = Sequential()\n",
    "\n",
    "model.add(Embedding(input_dim=len(embedding_matrix), weights=[embedding_matrix], output_dim=ft_model.wv.vector_size, input_length=100, trainable=False))\n",
    "model.add(Dropout(0.3))\n",
    "model.add(Bidirectional(LSTM(256)))\n",
    "model.add(Dropout(0.3))\n",
    "model.add(Dense(128, activation='relu'))\n",
    "model.add(Dropout(0.3))\n",
    "model.add(Dense(4, activation='softmax'))\n",
    "model.summary()"
   ]
  },
  {
   "cell_type": "code",
   "execution_count": 120,
   "metadata": {},
   "outputs": [],
   "source": [
    "model.compile('adam', loss='categorical_crossentropy', metrics=['accuracy'])"
   ]
  },
  {
   "cell_type": "code",
   "execution_count": 121,
   "metadata": {},
   "outputs": [
    {
     "name": "stdout",
     "output_type": "stream",
     "text": [
      "Train on 7780 samples\n",
      "Epoch 1/10\n",
      "7780/7780 [==============================] - 55s 7ms/sample - loss: 0.9728 - acc: 0.5798\n",
      "Epoch 2/10\n",
      "7780/7780 [==============================] - 53s 7ms/sample - loss: 0.8876 - acc: 0.6087\n",
      "Epoch 3/10\n",
      "7780/7780 [==============================] - 53s 7ms/sample - loss: 0.8242 - acc: 0.6370\n",
      "Epoch 4/10\n",
      "7780/7780 [==============================] - 53s 7ms/sample - loss: 0.7774 - acc: 0.6632\n",
      "Epoch 5/10\n",
      "7780/7780 [==============================] - 53s 7ms/sample - loss: 0.7531 - acc: 0.6793\n",
      "Epoch 6/10\n",
      "7780/7780 [==============================] - 53s 7ms/sample - loss: 0.7104 - acc: 0.6932\n",
      "Epoch 7/10\n",
      "7780/7780 [==============================] - 53s 7ms/sample - loss: 0.6946 - acc: 0.7057\n",
      "Epoch 8/10\n",
      "7780/7780 [==============================] - 53s 7ms/sample - loss: 0.6621 - acc: 0.7125\n",
      "Epoch 9/10\n",
      "7780/7780 [==============================] - 53s 7ms/sample - loss: 0.6367 - acc: 0.7292\n",
      "Epoch 10/10\n",
      "7780/7780 [==============================] - 53s 7ms/sample - loss: 0.6020 - acc: 0.7422\n"
     ]
    },
    {
     "data": {
      "text/plain": [
       "<tensorflow.python.keras.callbacks.History at 0x7f9039cb4e10>"
      ]
     },
     "execution_count": 121,
     "metadata": {},
     "output_type": "execute_result"
    }
   ],
   "source": [
    "model.fit(X_train, y_train, batch_size=64, epochs=10)"
   ]
  },
  {
   "cell_type": "code",
   "execution_count": 122,
   "metadata": {},
   "outputs": [
    {
     "name": "stdout",
     "output_type": "stream",
     "text": [
      "3335/3335 [==============================] - 8s 2ms/sample - loss: 0.7629 - acc: 0.6903\n"
     ]
    },
    {
     "data": {
      "text/plain": [
       "[0.7629001637091344, 0.69025487]"
      ]
     },
     "execution_count": 122,
     "metadata": {},
     "output_type": "execute_result"
    }
   ],
   "source": [
    "model.evaluate(X_test,y_test)"
   ]
  },
  {
   "cell_type": "markdown",
   "metadata": {},
   "source": [
    "#0806_fasttext_model_all_reviews_bigram_skipgram_epoch=5_WS=5_alpha=0.05_mincount=100_maxn=4\n",
    "\n",
    "Train on 7780 samples\n",
    "Epoch 1/10\n",
    "7780/7780 [==============================] - 55s 7ms/sample - loss: 0.9714 - acc: 0.5761\n",
    "Epoch 2/10\n",
    "7780/7780 [==============================] - 53s 7ms/sample - loss: 0.8722 - acc: 0.6198\n",
    "Epoch 3/10\n",
    "7780/7780 [==============================] - 53s 7ms/sample - loss: 0.8267 - acc: 0.6488\n",
    "Epoch 4/10\n",
    "7780/7780 [==============================] - 111s 14ms/sample - loss: 0.7987 - acc: 0.6483\n",
    "Epoch 5/10\n",
    "7780/7780 [==============================] - 172s 22ms/sample - loss: 0.7550 - acc: 0.6725\n",
    "Epoch 6/10\n",
    "7780/7780 [==============================] - 179s 23ms/sample - loss: 0.7465 - acc: 0.6823\n",
    "Epoch 7/10\n",
    "7780/7780 [==============================] - 120s 15ms/sample - loss: 0.7006 - acc: 0.6979\n",
    "Epoch 8/10\n",
    "7780/7780 [==============================] - 54s 7ms/sample - loss: 0.6736 - acc: 0.7121\n",
    "Epoch 9/10\n",
    "7780/7780 [==============================] - 57s 7ms/sample - loss: 0.6477 - acc: 0.7222\n",
    "Epoch 10/10\n",
    "7780/7780 [==============================] - 53s 7ms/sample - loss: 0.6261 - acc: 0.7341\n",
    "<tensorflow.python.keras.callbacks.History at 0x7f903a5aac10>\n",
    "model.evaluate(X_test,y_test)\n",
    "3335/3335 [==============================] - 7s 2ms/sample - loss: 0.7604 - acc: 0.6858\n",
    "[0.7604041670215899, 0.6857571]"
   ]
  },
  {
   "cell_type": "markdown",
   "metadata": {},
   "source": [
    "WS=2\n",
    "\n",
    "Train on 7780 samples\n",
    "Epoch 1/10\n",
    "7780/7780 [==============================] - 57s 7ms/sample - loss: 0.9834 - acc: 0.5753\n",
    "Epoch 2/10\n",
    "7780/7780 [==============================] - 57s 7ms/sample - loss: 0.8781 - acc: 0.6194\n",
    "Epoch 3/10\n",
    "7780/7780 [==============================] - 56s 7ms/sample - loss: 0.8342 - acc: 0.6365\n",
    "Epoch 4/10\n",
    "7780/7780 [==============================] - 57s 7ms/sample - loss: 0.7919 - acc: 0.6608\n",
    "Epoch 5/10\n",
    "7780/7780 [==============================] - 55s 7ms/sample - loss: 0.7686 - acc: 0.6680\n",
    "Epoch 6/10\n",
    "7780/7780 [==============================] - 56s 7ms/sample - loss: 0.7412 - acc: 0.6846\n",
    "Epoch 7/10\n",
    "7780/7780 [==============================] - 56s 7ms/sample - loss: 0.7226 - acc: 0.6914\n",
    "Epoch 8/10\n",
    "7780/7780 [==============================] - 55s 7ms/sample - loss: 0.7026 - acc: 0.6973\n",
    "Epoch 9/10\n",
    "7780/7780 [==============================] - 56s 7ms/sample - loss: 0.6854 - acc: 0.7055\n",
    "Epoch 10/10\n",
    "7780/7780 [==============================] - 56s 7ms/sample - loss: 0.6501 - acc: 0.7220\n",
    "<tensorflow.python.keras.callbacks.History at 0x7f903bdf8550>\n",
    "model.evaluate(X_test,y_test)\n",
    "3335/3335 [==============================] - 10s 3ms/sample - loss: 0.8219 - acc: 0.6528\n",
    "[0.8219285628606176, 0.6527736]"
   ]
  },
  {
   "cell_type": "markdown",
   "metadata": {},
   "source": [
    "Epoch 1/10\n",
    "7780/7780 [==============================] - 57s 7ms/sample - loss: 0.9758 - acc: 0.5744\n",
    "Epoch 2/10\n",
    "7780/7780 [==============================] - 56s 7ms/sample - loss: 0.8727 - acc: 0.6171\n",
    "Epoch 3/10\n",
    "7780/7780 [==============================] - 56s 7ms/sample - loss: 0.8374 - acc: 0.6289\n",
    "Epoch 4/10\n",
    "7780/7780 [==============================] - 56s 7ms/sample - loss: 0.7964 - acc: 0.6577\n",
    "Epoch 5/10\n",
    "7780/7780 [==============================] - 56s 7ms/sample - loss: 0.7755 - acc: 0.6731\n",
    "Epoch 6/10\n",
    "7780/7780 [==============================] - 56s 7ms/sample - loss: 0.7717 - acc: 0.6679\n",
    "Epoch 7/10\n",
    "7780/7780 [==============================] - 55s 7ms/sample - loss: 0.7364 - acc: 0.6850\n",
    "Epoch 8/10\n",
    "7780/7780 [==============================] - 57s 7ms/sample - loss: 0.7208 - acc: 0.6923\n",
    "Epoch 9/10\n",
    "7780/7780 [==============================] - 57s 7ms/sample - loss: 0.6951 - acc: 0.7054\n",
    "Epoch 10/10\n",
    "7780/7780 [==============================] - 56s 7ms/sample - loss: 0.6792 - acc: 0.7150\n",
    "\n",
    "model.evaluate(X_test,y_test)\n",
    "3335/3335 [==============================] - 9s 3ms/sample - loss: 0.7890 - acc: 0.6585\n",
    "[0.7890483795792267, 0.65847075]"
   ]
  },
  {
   "cell_type": "code",
   "execution_count": 384,
   "metadata": {},
   "outputs": [],
   "source": [
    "y_predicted = model.predict(np.array([X_test[0]])) # 입력한 테스트용 샘플에 대해서 예측 y를 리턴\n",
    "y_predicted = np.argmax(y_predicted, axis=-1) # 원-핫 인코딩을 다시 정수 인코딩으로 변경함.\n",
    "true = np.argmax(y_test[0], -1) # 원-핫 인코딩을 다시 정수 인코딩으로 변경함."
   ]
  },
  {
   "cell_type": "code",
   "execution_count": 385,
   "metadata": {},
   "outputs": [
    {
     "data": {
      "text/plain": [
       "array([0])"
      ]
     },
     "execution_count": 385,
     "metadata": {},
     "output_type": "execute_result"
    }
   ],
   "source": [
    "y_predicted"
   ]
  },
  {
   "cell_type": "code",
   "execution_count": 386,
   "metadata": {},
   "outputs": [
    {
     "data": {
      "text/plain": [
       "0"
      ]
     },
     "execution_count": 386,
     "metadata": {},
     "output_type": "execute_result"
    }
   ],
   "source": [
    "true"
   ]
  },
  {
   "cell_type": "code",
   "execution_count": 381,
   "metadata": {},
   "outputs": [
    {
     "data": {
      "text/plain": [
       "['붙',\n",
       " '혔',\n",
       " '을때',\n",
       " '검정색',\n",
       " '이라',\n",
       " '살인',\n",
       " '마',\n",
       " '같았',\n",
       " '는데',\n",
       " '보습',\n",
       " '하고',\n",
       " '향은',\n",
       " '좋네요',\n",
       " '재구매',\n",
       " '예정입니다']"
      ]
     },
     "execution_count": 381,
     "metadata": {},
     "output_type": "execute_result"
    }
   ],
   "source": [
    "[sp.Decode(int(_id)) for _id in X_test[0] if _id]"
   ]
  },
  {
   "cell_type": "code",
   "execution_count": null,
   "metadata": {},
   "outputs": [],
   "source": []
  }
 ],
 "metadata": {
  "kernelspec": {
   "display_name": "Gale",
   "language": "python",
   "name": "gale"
  },
  "language_info": {
   "codemirror_mode": {
    "name": "ipython",
    "version": 3
   },
   "file_extension": ".py",
   "mimetype": "text/x-python",
   "name": "python",
   "nbconvert_exporter": "python",
   "pygments_lexer": "ipython3",
   "version": "3.7.7"
  }
 },
 "nbformat": 4,
 "nbformat_minor": 4
}
