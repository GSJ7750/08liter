{
 "cells": [
  {
   "cell_type": "code",
   "execution_count": 94,
   "metadata": {},
   "outputs": [],
   "source": [
    "import pickle, re, os, sys, json, time\n",
    "import pandas as pd\n",
    "import numpy as np\n",
    "import matplotlib\n",
    "import matplotlib.pyplot as plt\n",
    "import matplotlib.font_manager as fm\n",
    "import seaborn as sns\n",
    "import sentencepiece as spm\n",
    "%matplotlib inline\n",
    "matplotlib.rcParams['axes.unicode_minus'] = False\n",
    "plt.rcParams['font.family'] = 'NanumGothic'\n",
    "\n",
    "from collections import Counter\n",
    "from konlpy.tag import Okt, Mecab\n",
    "from tqdm.notebook import tqdm\n",
    "\n",
    "from wordcloud import WordCloud\n",
    "from datetime import datetime\n",
    "from dateutil.relativedelta import relativedelta\n",
    "\n",
    "from root.utils.read_write_db import read\n",
    "from root.utils.db_func import get_category_info, get_category_id_by_name, get_parent_category, get_category_tree, get_category_name\n",
    "from root.utils.mysql import MySQL, get_db_info"
   ]
  },
  {
   "cell_type": "code",
   "execution_count": 95,
   "metadata": {},
   "outputs": [],
   "source": [
    "from selenium import webdriver\n",
    "from selenium.webdriver import ChromeOptions\n",
    "from selenium.webdriver.common.by import By\n",
    "from selenium.webdriver.support.ui import WebDriverWait"
   ]
  },
  {
   "cell_type": "code",
   "execution_count": 96,
   "metadata": {},
   "outputs": [],
   "source": [
    "presuffix_list = [\n",
    "    '가격만족도 성능 사용편의성 등',\n",
    "    '가격만족도성능사용편의성 등',\n",
    "    '재구매횟수 또는 기간',\n",
    "    '그 외 도움이 될 만한 사용후기',\n",
    "    '상태 배송',\n",
    "    '옥션 안드로이드 앱으로 작성',\n",
    "    '마켓 안드로이드 앱에서 작성',\n",
    "    '상태배송'\n",
    "]"
   ]
  },
  {
   "cell_type": "code",
   "execution_count": 97,
   "metadata": {},
   "outputs": [],
   "source": [
    "def get_inform_text(diff):\n",
    "    category_name, count = diff\n",
    "    if count > 0:\n",
    "        return '{}({}개 증가)'.format(category_name, int(count))\n",
    "    else:\n",
    "        return '{}({}개 감소)'.format(category_name, int(abs(count)))"
   ]
  },
  {
   "cell_type": "code",
   "execution_count": 98,
   "metadata": {},
   "outputs": [],
   "source": [
    "def clean_review(text):\n",
    "    for presuffix in presuffix_list:\n",
    "        text = text.replace(presuffix, '')\n",
    "    text = re.sub('[-=+,#/\\?:^$.@*\\\"※~&%ㆍ!;』\\\\‘|\\(\\)\\[\\]\\<\\>`\\'…》]', '', text).replace('\\n', ' ').replace('\\t', ' ').strip()\n",
    "    if len(text):\n",
    "        return text\n",
    "    else:\n",
    "        return np.nan"
   ]
  },
  {
   "cell_type": "code",
   "execution_count": 99,
   "metadata": {},
   "outputs": [],
   "source": [
    "def get_tokens(review, tokenizer, use_tag=True):\n",
    "    try:\n",
    "        if use_tag:\n",
    "            try:\n",
    "                return [token for token, pos in tokenizer.pos(review, norm=True) if pos in tag_list]\n",
    "            except:\n",
    "                return [token for token, pos in tokenizer.pos(review) if pos in tag_list]\n",
    "        else:\n",
    "            return [token for token in tokenizer.morphs(review)]\n",
    "    except:\n",
    "        return []"
   ]
  },
  {
   "cell_type": "code",
   "execution_count": 100,
   "metadata": {},
   "outputs": [],
   "source": [
    "def get_category_name_by_campaign_id(campaign_id, db = None):\n",
    "    sql = \"select c.liter_category from zeliterai.campaign c where c.liter_campaign_id = {}\".format(campaign_id)\n",
    "    result = db.execute(sql)[0]['liter_category']\n",
    "    return result"
   ]
  },
  {
   "cell_type": "code",
   "execution_count": 101,
   "metadata": {},
   "outputs": [],
   "source": [
    "def get_top_category_by_campaign_id(campaign_id, db=None):\n",
    "    cat_dict = {85:'food',\n",
    "               205:'cosmetics'}\n",
    "    \n",
    "    sql = \"select cl.category_id from zeliterai.campaign c join zeliterai.category_language cl on c.liter_category = cl.name where c.liter_campaign_id = {}\".format(campaign_id)\n",
    "    category_id = db.execute(sql)\n",
    "    if category_id:\n",
    "        category_id = category_id[0]['category_id']\n",
    "    else:\n",
    "        raise Exception('category_id를 찾을 수 없습니다')\n",
    "    \n",
    "    parent_category_code = 'N'\n",
    "    while parent_category_code:\n",
    "        parent_category_code = get_category_tree(category_id)[0]['parent_id']\n",
    "        if parent_category_code:\n",
    "            category_id = parent_category_code\n",
    "        elif category_id in cat_dict:\n",
    "            return cat_dict[category_id]\n",
    "        else:\n",
    "            raise Exception('식품 또는 화장품이 아닙니다.')\n",
    "            "
   ]
  },
  {
   "cell_type": "code",
   "execution_count": 102,
   "metadata": {},
   "outputs": [],
   "source": [
    "host, db_name, user, password = get_db_info()\n",
    "db = MySQL(host, db_name, user, password)"
   ]
  },
  {
   "cell_type": "code",
   "execution_count": 105,
   "metadata": {},
   "outputs": [],
   "source": [
    "tokenizer = Mecab()\n",
    "#tokenizer = Okt()\n",
    "\n",
    "tag_list = ['NNG', 'NNB', 'NNP', 'VV', 'VA']    # 일반명사, 의존명사, 고유명사, 동사, 형용사\n",
    "#tag_list = ['Noun', 'Verb', 'Adjective', 'Adverb']"
   ]
  },
  {
   "cell_type": "code",
   "execution_count": 107,
   "metadata": {},
   "outputs": [],
   "source": [
    "font_path = '/usr/share/fonts/truetype/nanum/NanumSquareB.ttf'\n",
    "fontprop = fm.FontProperties(fname=font_path, size=5)"
   ]
  },
  {
   "cell_type": "code",
   "execution_count": 108,
   "metadata": {},
   "outputs": [],
   "source": [
    "campaign_id = 40184\n",
    "category_name = get_category_name_by_campaign_id(campaign_id, db)\n",
    "category_id = get_category_id_by_name(category_name)\n",
    "category_list = list(get_category_info(category_name))"
   ]
  },
  {
   "cell_type": "code",
   "execution_count": 109,
   "metadata": {},
   "outputs": [],
   "source": [
    "condition = ['all', 'all', 'all', 'all']\n",
    "critical_review_num = 1\n",
    "min_review_length=1"
   ]
  },
  {
   "cell_type": "code",
   "execution_count": 110,
   "metadata": {},
   "outputs": [],
   "source": [
    "now = datetime.now()\n",
    "end_date = datetime(now.year, now.month, 1)\n",
    "start_date = end_date + relativedelta(months=-6)"
   ]
  },
  {
   "cell_type": "code",
   "execution_count": 111,
   "metadata": {},
   "outputs": [],
   "source": [
    "category_reviews = read(category_list, condition, critical_review_num, min_review_length, start_date, end_date)\n",
    "category_reviews.drop_duplicates(subset=['product_name', 'content'], inplace=True)\n",
    "category_reviews['content'] = category_reviews['content'].map(clean_review)\n",
    "category_reviews.dropna(subset=['content'], inplace=True)"
   ]
  },
  {
   "cell_type": "code",
   "execution_count": 112,
   "metadata": {},
   "outputs": [],
   "source": [
    "dataset = pd.read_excel('201203_1815_3M손소독제.xlsx')\n",
    "dataset.dropna(inplace=True)\n",
    "dataset['yearmonth'] = dataset.date.dt.strftime('%Y-%m')"
   ]
  },
  {
   "cell_type": "code",
   "execution_count": 113,
   "metadata": {},
   "outputs": [
    {
     "data": {
      "application/vnd.jupyter.widget-view+json": {
       "model_id": "b20aa752fc2849949c50583dd36e460b",
       "version_major": 2,
       "version_minor": 0
      },
      "text/plain": [
       "HBox(children=(FloatProgress(value=0.0, max=8375.0), HTML(value='')))"
      ]
     },
     "metadata": {},
     "output_type": "display_data"
    },
    {
     "name": "stdout",
     "output_type": "stream",
     "text": [
      "\n"
     ]
    }
   ],
   "source": [
    "corpus = []\n",
    "for review in tqdm(dataset['리뷰'].values):\n",
    "    corpus.append(get_tokens(review, tokenizer))"
   ]
  },
  {
   "cell_type": "markdown",
   "metadata": {},
   "source": [
    "### Keyword Trend"
   ]
  },
  {
   "cell_type": "code",
   "execution_count": 153,
   "metadata": {},
   "outputs": [],
   "source": [
    "def get_mean_vectors(subject_dict):\n",
    "    mean_vector_dict = dict()\n",
    "    for subject_name, keywords in subject_dict.items():\n",
    "        vectors = list()\n",
    "        if subject_name == '기타':\n",
    "            continue\n",
    "        for keyword in keywords:\n",
    "            vectors.append(ft_model.wv.get_vector(keyword))\n",
    "        mean_vector = np.asarray(vectors).mean(axis=0)\n",
    "        mean_vector_dict[subject_name] = mean_vector\n",
    "    return mean_vector_dict\n",
    "\n",
    "def get_subject_review_dict(reviews, subject_review_dict):\n",
    "    review_tokens = get_tokens(review, tokenizer)\n",
    "    subjects = list()\n",
    "    for word in review_tokens:\n",
    "        true_index = ft_model.wv.cosine_similarities(ft_model.wv[word], np.asarray(list(mean_vector_dict.values()))) > 0.8\n",
    "        subjects.extend(list(np.asarray(list(mean_vector_dict.keys()))[true_index]))\n",
    "    for subject_name in set(subjects):\n",
    "        subject_review_dict[subject_name] = subject_review_dict.get(subject_name, []) + [review]\n",
    "    return subject_review_dict"
   ]
  },
  {
   "cell_type": "code",
   "execution_count": 154,
   "metadata": {},
   "outputs": [],
   "source": [
    "category = get_top_category_by_campaign_id(campaign_id, db)"
   ]
  },
  {
   "cell_type": "code",
   "execution_count": 32,
   "metadata": {},
   "outputs": [],
   "source": [
    "json_path = '키워드 추출/mecab_{}_dict.json'.format(category)\n",
    "ft_model_path = '키워드 추출/ft_mecab_{}.pkl'.format(category)"
   ]
  },
  {
   "cell_type": "code",
   "execution_count": null,
   "metadata": {},
   "outputs": [],
   "source": [
    "with open(json_path, 'r') as f:\n",
    "    subject_dict = json.load(f)"
   ]
  },
  {
   "cell_type": "code",
   "execution_count": null,
   "metadata": {},
   "outputs": [],
   "source": [
    "with open(ft_model_path, 'rb') as f:\n",
    "    ft_model = pickle.load(f)\n",
    "vocab = ft_model.wv.index2word"
   ]
  },
  {
   "cell_type": "code",
   "execution_count": null,
   "metadata": {},
   "outputs": [],
   "source": [
    "mean_vector_dict = get_mean_vectors(subject_dict)"
   ]
  },
  {
   "cell_type": "code",
   "execution_count": null,
   "metadata": {},
   "outputs": [],
   "source": [
    "category_reviews['yearmonth'] = category_reviews.created_at.dt.strftime('%Y-%m')"
   ]
  },
  {
   "cell_type": "code",
   "execution_count": null,
   "metadata": {},
   "outputs": [],
   "source": [
    "total_count = list()\n",
    "for month in tqdm(category_reviews['yearmonth'].unique()):\n",
    "    subject_review_dict = dict()\n",
    "    temp_data = category_reviews[category_reviews['yearmonth'] == month]\n",
    "    for review in temp_data['content'].values:\n",
    "        subject_review_dict = get_subject_review_dict(review, subject_review_dict)\n",
    "    for subject, reviews in subject_review_dict.items():\n",
    "        total_count.append([month, subject, len(reviews)])"
   ]
  },
  {
   "cell_type": "code",
   "execution_count": null,
   "metadata": {},
   "outputs": [],
   "source": [
    "total_count = pd.DataFrame(total_count, columns=['month', 'subject_name', 'count'])"
   ]
  },
  {
   "cell_type": "code",
   "execution_count": null,
   "metadata": {},
   "outputs": [],
   "source": [
    "min_month = total_count.month.min()\n",
    "max_month = total_count.month.max()"
   ]
  },
  {
   "cell_type": "code",
   "execution_count": null,
   "metadata": {},
   "outputs": [],
   "source": [
    "diff_df = pd.DataFrame([], index=subject_dict.keys())\n",
    "diff_df = diff_df.join(total_count.loc[total_count['month'] == min_month].set_index('subject_name').drop('month', axis=1))\n",
    "diff_df = diff_df.join(total_count.loc[total_count['month'] == max_month].set_index('subject_name').drop('month', axis=1), rsuffix='max')\n",
    "diff_df.columns = ['min_month', 'max_month']\n",
    "diff_df.fillna(0, inplace=True)\n",
    "diff_df['diff'] = diff_df.max_month - diff_df.min_month"
   ]
  },
  {
   "cell_type": "code",
   "execution_count": null,
   "metadata": {},
   "outputs": [],
   "source": [
    "diff_list = diff_df['diff'].reset_index().values.tolist()"
   ]
  },
  {
   "cell_type": "code",
   "execution_count": null,
   "metadata": {},
   "outputs": [],
   "source": [
    "subject_trend = pd.DataFrame()\n",
    "for month in sorted(total_count.month.unique()):\n",
    "    temp = total_count[total_count['month'] == month].sort_values(by='count', ascending=False).iloc[:15]\n",
    "    subject_trend = pd.concat([subject_trend, temp['subject_name'].rename(month).reset_index(drop=True)], axis=1)"
   ]
  },
  {
   "cell_type": "code",
   "execution_count": null,
   "metadata": {},
   "outputs": [],
   "source": [
    "display(subject_trend)\n",
    "print('{} 카테고리의 리뷰 중 지난 6개월 간 가장 언급량이 많이 늘어난 주제는 {}, 가장 많이 줄어든 주제는 {} 입니다.'.format(category_name, get_inform_text(max(diff_list, key=lambda x:x[1])), get_inform_text(min(diff_list, key=lambda x:x[1]))))"
   ]
  },
  {
   "cell_type": "markdown",
   "metadata": {},
   "source": [
    "------"
   ]
  },
  {
   "cell_type": "markdown",
   "metadata": {},
   "source": [
    "##### 구매결정요인 점수 트렌드"
   ]
  },
  {
   "cell_type": "code",
   "execution_count": 151,
   "metadata": {},
   "outputs": [],
   "source": [
    "dataset['평점'] = dataset['rating']\n",
    "del dataset['rating']"
   ]
  },
  {
   "cell_type": "code",
   "execution_count": null,
   "metadata": {},
   "outputs": [],
   "source": [
    "factor_colnames = list(dataset.columns.drop(['리뷰', 'date', '평점', 'yearmonth']))"
   ]
  },
  {
   "cell_type": "code",
   "execution_count": null,
   "metadata": {},
   "outputs": [],
   "source": [
    "# map_dict = {1:1, 2:3, 3:5}\n",
    "map_dict = {1:1, 3:5}\n",
    "for colname in factor_colnames:\n",
    "    dataset[colname] = dataset[colname].map(map_dict)"
   ]
  },
  {
   "cell_type": "code",
   "execution_count": null,
   "metadata": {},
   "outputs": [],
   "source": [
    "plt.figure(figsize=(16,8))\n",
    "sns.lineplot(data=dataset.groupby('yearmonth')[['평점',] + factor_colnames].mean())\n",
    "plt.show()"
   ]
  },
  {
   "cell_type": "markdown",
   "metadata": {},
   "source": [
    "### 네이버 카테고리 인기검색어"
   ]
  },
  {
   "cell_type": "code",
   "execution_count": 155,
   "metadata": {},
   "outputs": [],
   "source": [
    "client_id = '_o_e_RVsRYAi2t27Pi6z'\n",
    "client_secret = 'tI0kN6fFpN'"
   ]
  },
  {
   "cell_type": "code",
   "execution_count": 156,
   "metadata": {},
   "outputs": [
    {
     "data": {
      "text/plain": [
       "({'id': 556, 'parent_id': 491},\n",
       " {'id': 557, 'parent_id': 556},\n",
       " {'id': 558, 'parent_id': 556},\n",
       " {'id': 559, 'parent_id': 556},\n",
       " {'id': 560, 'parent_id': 556},\n",
       " {'id': 561, 'parent_id': 556},\n",
       " {'id': 562, 'parent_id': 556},\n",
       " {'id': 563, 'parent_id': 556})"
      ]
     },
     "execution_count": 156,
     "metadata": {},
     "output_type": "execute_result"
    }
   ],
   "source": [
    "parent_category = get_parent_category(category_id)\n",
    "parent_tree = get_category_tree(parent_category['id'])\n",
    "parent_tree"
   ]
  },
  {
   "cell_type": "code",
   "execution_count": 157,
   "metadata": {},
   "outputs": [],
   "source": [
    "import urllib.request\n",
    "url = \"https://openapi.naver.com/v1/datalab/shopping/category/keywords\"\n",
    "body = '{\"startDate\":\"2020-06-01\",\"endDate\":\"2020-11-30\",\"timeUnit\":\"week\",\"category\":\"50000155\",\"keyword\":[' \\\n",
    "       '{\"name\" : \"반려동물\", \"param\": [\"달미펫\"]},' \\\n",
    "       '{\"name\" : \"반려동물\", \"param\": [\"페스룸\"]}' \\\n",
    "       ']}'\n",
    "\n",
    "rq = urllib.request.Request(url)\n",
    "rq.add_header(\"X-Naver-Client-Id\",client_id)\n",
    "rq.add_header(\"X-Naver-Client-Secret\",client_secret)\n",
    "rq.add_header(\"Content-Type\",\"application/json\")\n",
    "response = urllib.request.urlopen(rq, data=body.encode(\"utf-8\"))\n",
    "rescode = response.getcode()\n",
    "if(rescode==200):\n",
    "    response_body = response.read()\n",
    "else:\n",
    "    print(\"Error Code:\" + rescode)"
   ]
  },
  {
   "cell_type": "code",
   "execution_count": 158,
   "metadata": {},
   "outputs": [],
   "source": [
    "result = json.loads(response_body)['results']"
   ]
  },
  {
   "cell_type": "code",
   "execution_count": 159,
   "metadata": {},
   "outputs": [
    {
     "data": {
      "text/plain": [
       "{'startDate': '2020-06-01',\n",
       " 'endDate': '2020-12-06',\n",
       " 'timeUnit': 'week',\n",
       " 'results': [{'title': '반려동물',\n",
       "   'keyword': ['페스룸'],\n",
       "   'data': [{'period': '2020-06-01', 'ratio': 73.97097},\n",
       "    {'period': '2020-06-08', 'ratio': 78.34879},\n",
       "    {'period': '2020-06-15', 'ratio': 70.87794},\n",
       "    {'period': '2020-06-22', 'ratio': 75.16059},\n",
       "    {'period': '2020-06-29', 'ratio': 92.0295},\n",
       "    {'period': '2020-07-06', 'ratio': 83.84487},\n",
       "    {'period': '2020-07-13', 'ratio': 78.18225},\n",
       "    {'period': '2020-07-20', 'ratio': 77.80157},\n",
       "    {'period': '2020-07-27', 'ratio': 85.17725},\n",
       "    {'period': '2020-08-03', 'ratio': 83.86866},\n",
       "    {'period': '2020-08-10', 'ratio': 83.20247},\n",
       "    {'period': '2020-08-17', 'ratio': 94.48013},\n",
       "    {'period': '2020-08-24', 'ratio': 96.40732},\n",
       "    {'period': '2020-08-31', 'ratio': 100},\n",
       "    {'period': '2020-09-07', 'ratio': 92.36259},\n",
       "    {'period': '2020-09-14', 'ratio': 71.71068},\n",
       "    {'period': '2020-09-21', 'ratio': 66.69045},\n",
       "    {'period': '2020-09-28', 'ratio': 57.60171},\n",
       "    {'period': '2020-10-05', 'ratio': 65.31049},\n",
       "    {'period': '2020-10-12', 'ratio': 57.33999},\n",
       "    {'period': '2020-10-19', 'ratio': 40.1142},\n",
       "    {'period': '2020-10-26', 'ratio': 30.90649},\n",
       "    {'period': '2020-11-02', 'ratio': 31.54889},\n",
       "    {'period': '2020-11-09', 'ratio': 31.21579},\n",
       "    {'period': '2020-11-16', 'ratio': 29.76445},\n",
       "    {'period': '2020-11-23', 'ratio': 26.43349},\n",
       "    {'period': '2020-11-30', 'ratio': 72.9241}]}]}"
      ]
     },
     "execution_count": 159,
     "metadata": {},
     "output_type": "execute_result"
    }
   ],
   "source": [
    "json.loads(response_body)"
   ]
  },
  {
   "cell_type": "markdown",
   "metadata": {},
   "source": [
    "##### 카테고리 인기검색어 크롤링"
   ]
  },
  {
   "cell_type": "code",
   "execution_count": 160,
   "metadata": {},
   "outputs": [],
   "source": [
    "from root.crawling.browser import UntilTextMatch"
   ]
  },
  {
   "cell_type": "code",
   "execution_count": 161,
   "metadata": {},
   "outputs": [],
   "source": [
    "def get_category_code(category_id, db, site_id=3):\n",
    "    query = 'select category_code '\\\n",
    "            'from site_category '\\\n",
    "            'where category_id={} and site_id={}'.format(category_id, site_id)\n",
    "    return db.execute(query)[0]"
   ]
  },
  {
   "cell_type": "code",
   "execution_count": 162,
   "metadata": {},
   "outputs": [],
   "source": [
    "url = 'https://datalab.naver.com/shoppingInsight/sCategory.naver'"
   ]
  },
  {
   "cell_type": "code",
   "execution_count": 163,
   "metadata": {},
   "outputs": [],
   "source": [
    "pc_user_agent = 'Mozilla/5.0 (X11; Linux x86_64) AppleWebKit/537.36 (KHTML, like Gecko) Chrome/83.0.4103.106 Whale/2.8.107.16 Safari/537.36'"
   ]
  },
  {
   "cell_type": "code",
   "execution_count": 164,
   "metadata": {},
   "outputs": [],
   "source": [
    "chrome_options = ChromeOptions()  # chrome_option object\n",
    "chrome_options.add_argument(\"user-agent={}\".format(pc_user_agent))\n",
    "# chrome_options.add_argument('--headless')  # not open web window\n",
    "chrome_options.add_argument('--disable-gpu')  # not using gpu\n",
    "prefs = {\"profile.managed_default_content_settings.images\": 2,\n",
    "        \"profile.default_content_settings.images\": 2}   # 이미지를 로드하지 않도록 해서 속도를 높임\n",
    "chrome_options.add_experimental_option(\"prefs\", prefs)\n",
    "\n",
    "# headless일 경우 설정해야 할 속성들\n",
    "chrome_options.add_argument(\"--window-size=1920x1080\")\n",
    "chrome_options.add_argument(\"--no-sandbox\")\n",
    "chrome_options.add_argument(\"--disable-dev-shm-usage\")\n",
    "chrome_options.add_argument(\"start-maximised\")\n",
    "\n",
    "driver_path = '../../webdriver/Linux/chromedriver'"
   ]
  },
  {
   "cell_type": "code",
   "execution_count": 165,
   "metadata": {},
   "outputs": [],
   "source": [
    "wait_seconds = 3"
   ]
  },
  {
   "cell_type": "code",
   "execution_count": null,
   "metadata": {},
   "outputs": [],
   "source": [
    "driver = webdriver.Chrome(driver_path, options=chrome_options)\n",
    "driver.implicitly_wait(wait_seconds)"
   ]
  },
  {
   "cell_type": "code",
   "execution_count": null,
   "metadata": {},
   "outputs": [],
   "source": [
    "driver.get(url)"
   ]
  },
  {
   "cell_type": "code",
   "execution_count": null,
   "metadata": {},
   "outputs": [],
   "source": [
    "form = driver.find_element_by_css_selector('div.insite_inquiry')"
   ]
  },
  {
   "cell_type": "code",
   "execution_count": null,
   "metadata": {},
   "outputs": [],
   "source": [
    "category_tree = [get_category_code(category_id, db)['category_code']]\n",
    "while True:\n",
    "    c = get_parent_category(category_id)\n",
    "    category_id = c['id']\n",
    "    category_code = get_category_code(category_id, db)['category_code']\n",
    "    category_tree.append(category_code)\n",
    "    if c['depth'] == 0:\n",
    "        break"
   ]
  },
  {
   "cell_type": "code",
   "execution_count": null,
   "metadata": {},
   "outputs": [],
   "source": [
    "category_tree = category_tree[::-1]"
   ]
  },
  {
   "cell_type": "code",
   "execution_count": null,
   "metadata": {},
   "outputs": [],
   "source": [
    "category_form = form.find_elements_by_css_selector('div.form_row')[0]"
   ]
  },
  {
   "cell_type": "code",
   "execution_count": null,
   "metadata": {},
   "outputs": [],
   "source": [
    "category_list = category_form.find_elements_by_css_selector('div.select')"
   ]
  },
  {
   "cell_type": "code",
   "execution_count": null,
   "metadata": {},
   "outputs": [],
   "source": [
    "for category_form, category_code in zip(category_list, category_tree):\n",
    "    category_form.click()\n",
    "    category_form.find_element_by_css_selector('a[data-cid=\"{}\"]'.format(category_code)).click()"
   ]
  },
  {
   "cell_type": "code",
   "execution_count": null,
   "metadata": {},
   "outputs": [],
   "source": [
    "date_form = form.find_elements_by_css_selector('div.form_row')[1]"
   ]
  },
  {
   "cell_type": "code",
   "execution_count": null,
   "metadata": {},
   "outputs": [],
   "source": [
    "date_period = date_form.find_element_by_css_selector('div.set_period_target')"
   ]
  },
  {
   "cell_type": "code",
   "execution_count": null,
   "metadata": {},
   "outputs": [],
   "source": [
    "buttons = date_period.find_elements_by_css_selector('span.select_btn')"
   ]
  },
  {
   "cell_type": "code",
   "execution_count": null,
   "metadata": {},
   "outputs": [],
   "source": [
    "result = dict()\n",
    "for i in range((end_date.year - start_date.year) * 12 + (end_date.month - start_date.month)):\n",
    "    temp_start_date = start_date + relativedelta(months=i)\n",
    "    temp_end_date = temp_start_date + relativedelta(months=1)\n",
    "    \n",
    "    date_buttons_list = temp_start_date.strftime('%Y.%m.%d').split('.') + temp_end_date.strftime('%Y.%m.%d').split('.')\n",
    "    \n",
    "    for button, date in zip(buttons, date_buttons_list):\n",
    "        button.click()\n",
    "        button.find_element_by_xpath('..//a[text()={}]'.format(date)).click()\n",
    "    submit = form.find_element_by_css_selector('a.btn_submit')\n",
    "    submit.click()\n",
    "    waittext = '{}. ~ {}.'.format(temp_start_date.strftime('%Y.%m.%d'), temp_end_date.strftime('%Y.%m.%d'))\n",
    "    date_title = driver.find_element_by_css_selector('span.title_sub')\n",
    "    WebDriverWait(driver, 3).until(UntilTextMatch(date_title, waittext))\n",
    "    \n",
    "    rank_table = driver.find_element_by_css_selector('ul.rank_top1000_list')\n",
    "    rankings = rank_table.find_elements_by_css_selector('a')\n",
    "    colname = temp_end_date.strftime('%Y-%m')\n",
    "    keywords = [rank.text.split()[1] for rank in rankings]\n",
    "    result[colname] = keywords"
   ]
  },
  {
   "cell_type": "code",
   "execution_count": null,
   "metadata": {},
   "outputs": [],
   "source": [
    "pd.DataFrame(result)"
   ]
  },
  {
   "cell_type": "markdown",
   "metadata": {},
   "source": [
    "### Bert Highlight"
   ]
  },
  {
   "cell_type": "code",
   "execution_count": 114,
   "metadata": {},
   "outputs": [],
   "source": [
    "import warnings, torch, copy\n",
    "from tokenization_kobert import KoBertTokenizer\n",
    "from transformers import DistilBertForSequenceClassification\n",
    "from keras.preprocessing.sequence import pad_sequences\n",
    "from gensim.models.phrases import Phrases\n",
    "from chatspace import ChatSpace\n",
    "from root.utils.db_func import get_factor_name_list\n",
    "from konlpy.tag import Kkma\n",
    "\n",
    "#lime\n",
    "from lime.lime_text import LimeTextExplainer\n",
    "import kss\n",
    "from hanspell import spell_checker\n",
    "from sklearn.cluster import DBSCAN\n",
    "from scipy.special import softmax\n",
    "from sklearn.metrics import classification_report, accuracy_score\n",
    "\n",
    "#only hangle, english, number\n",
    "from krwordrank.hangle import normalize\n",
    "\n",
    "#soy_tokenizer\n",
    "from soynlp.word import WordExtractor\n",
    "from soynlp.tokenizer import LTokenizer\n",
    "from soynlp.noun import LRNounExtractor_v2\n",
    "from soynlp.hangle import compose, decompose, character_is_korean\n",
    "\n",
    "sys.path.append('/home/literai-deploy/Workspace/hit_prediction/')"
   ]
  },
  {
   "cell_type": "code",
   "execution_count": 115,
   "metadata": {},
   "outputs": [],
   "source": [
    "warnings.filterwarnings(action='ignore')"
   ]
  },
  {
   "cell_type": "code",
   "execution_count": 116,
   "metadata": {},
   "outputs": [],
   "source": [
    "def get_jaccard_matrix(product_names):\n",
    "    def cleaning_symbols(text):\n",
    "        return re.sub('[-=+,#/\\?;:^$.@*\\“※~&%ㆍ!』\\\\‘|\\(\\)\\[\\]\\<\\>`\\‘…》]', '', text)\n",
    "    def get_jaccard_distance(product_name1, product_name2):\n",
    "        product_name1_tmp = normalize(str(product_name1), english=True, number=False)\n",
    "        product_name2_tmp = normalize(str(product_name2), english=True, number=False)\n",
    "        s1 = set(product_name1_tmp)\n",
    "        if ' ' in s1:\n",
    "            s1.remove(' ')\n",
    "        s2 = set(product_name2_tmp)\n",
    "        if ' ' in s2:\n",
    "            s2.remove(' ')\n",
    "        sim = (len(s1.intersection(s2))) / len(s1.union(s2))  # +0.00001\n",
    "        return 1 - sim    # distance이므로 1-sim 해줘야 함\n",
    "    product_names = np.asarray(product_names)\n",
    "    product_names = np.vectorize(cleaning_symbols)(product_names)\n",
    "    matrix = []\n",
    "    for p in product_names:\n",
    "        temp = []\n",
    "        for target in product_names:\n",
    "            temp.append(get_jaccard_distance(p, target))\n",
    "        matrix.append(temp)\n",
    "    return matrix"
   ]
  },
  {
   "cell_type": "code",
   "execution_count": 117,
   "metadata": {},
   "outputs": [],
   "source": [
    "def to_ngrams(words, n_list):\n",
    "    ngrams = []\n",
    "    for n in n_list:\n",
    "        for b in range(0, len(words) - n + 1):\n",
    "            ngrams.append(tuple(words[b:b+n]))\n",
    "    return '\\t'.join([' '.join(t) for t in ngrams])"
   ]
  },
  {
   "cell_type": "code",
   "execution_count": 118,
   "metadata": {},
   "outputs": [],
   "source": [
    "def write_html_lime(contents, reviews, targets, preds, acc, n_reviews=None, label=None):\n",
    "    explainer = LimeTextExplainer(class_names=[0, 1, 2], bow=False, split_expression='\\t')\n",
    "    def get_ordered_list(alphas):\n",
    "        result = list()\n",
    "        for token, prob in alphas.items():\n",
    "            if prob > 0.2:\n",
    "                result.append((token, prob))\n",
    "        return result\n",
    "    if not n_reviews:\n",
    "        n_reviews = len(reviews)\n",
    "    alpha_list = list()\n",
    "    kkma = Kkma()\n",
    "    for review, content, target, preds in zip(contents, reviews, targets, preds):\n",
    "        review = review[0]\n",
    "        try:\n",
    "            explanation = explainer.explain_instance('\\t'.join(kss.split_sentences(correct_spell(review, custom_dict))), predict, num_samples=20, num_features=5, labels=[label,])\n",
    "#             explanation = explainer.explain_instance(to_ngrams(correct_spell(review, custom_dict).split(), [3, 5]), predict, num_samples=100, num_features=10, labels=[label,])\n",
    "        except:\n",
    "            continue\n",
    "        if target == 1:\n",
    "            continue\n",
    "        if target != preds:\n",
    "            continue\n",
    "        alphas = dict(explanation.as_list(label=label))\n",
    "        alpha_list.append(get_ordered_list(alphas))\n",
    "    return alpha_list"
   ]
  },
  {
   "cell_type": "code",
   "execution_count": 119,
   "metadata": {},
   "outputs": [],
   "source": [
    "include_english = False\n",
    "include_number = False\n",
    "\n",
    "'''\n",
    "Process Hangul Jamo Sentence.\n",
    "Inspired By:\n",
    "https://lovit.github.io/nlp/representation/2018/10/22/fasttext_subword\n",
    "'''\n",
    "def clean_review(text):\n",
    "    presuffix_list = [\n",
    "    '가격만족도 성능 사용편의성 등',\n",
    "    '가격만족도성능사용편의성 등',\n",
    "    '재구매횟수 또는 기간',\n",
    "    '그 외 도움이 될 만한 사용후기',\n",
    "    '상태 배송',\n",
    "    '옥션 안드로이드 앱으로 작성',\n",
    "    'G마켓 안드로이드 앱에서 작성',\n",
    "    '상태배송'\n",
    "    ]\n",
    "    text = str(text)\n",
    "    for presuffix in presuffix_list:\n",
    "        text = text.replace(presuffix, '')\n",
    "    text = ' '.join(re.compile('[가-힣]+').findall(text))\n",
    "    if len(text):\n",
    "        return text.strip()\n",
    "    else:\n",
    "        return np.nan\n",
    "\n",
    "doublespace_pattern = re.compile('\\s+')\n",
    "def jamo_to_word(jamo):\n",
    "    jamo_list, idx = [], 0\n",
    "    while idx < len(jamo):\n",
    "        if not character_is_korean(jamo[idx]):\n",
    "            jamo_list.append(jamo[idx])\n",
    "            idx += 1\n",
    "        else:\n",
    "            jamo_list.append(jamo[idx:idx + 3])\n",
    "            idx += 3\n",
    "    word = \"\"\n",
    "    for jamo_char in jamo_list:\n",
    "        if len(jamo_char) == 1:\n",
    "            word += jamo_char\n",
    "        # elif jamo_char[1] == \"-\" and jamo_char[2] == \"-\":   ###자음 하나만 나오는 경우\n",
    "        #     word += jamo_char[0]\n",
    "        # elif jamo_char[0] == \"-\" and jamo_char[2] == \"-\":   ###모음 하나만 나오는 경우\n",
    "        #     word += jamo_char[1]\n",
    "        elif len(jamo_char) == 2:\n",
    "            word += compose(jamo_char[0], jamo_char[1], \" \")\n",
    "        elif jamo_char[2] == \"-\":\n",
    "            word += compose(jamo_char[0], jamo_char[1], \" \")\n",
    "        else:\n",
    "            word += compose(jamo_char[0], jamo_char[1], jamo_char[2])\n",
    "    return word\n",
    "\n",
    "def jamo_sentence(sent):\n",
    "\n",
    "    def transform(char):\n",
    "        if char == ' ':\n",
    "            return char\n",
    "        cjj = decompose(char)\n",
    "        if len(cjj) == 1:\n",
    "            return cjj\n",
    "        cjj_ = ''.join(c if c != ' ' else '-' for c in cjj)\n",
    "        return cjj_\n",
    "\n",
    "    sent_ = []\n",
    "    for char in sent:\n",
    "        if character_is_korean(char):\n",
    "            sent_.append(transform(char))\n",
    "        else:\n",
    "            sent_.append(char)\n",
    "    sent_ = doublespace_pattern.sub(' ', ''.join(sent_))\n",
    "    return sent_\n",
    "\n",
    "class Tokenizer():\n",
    "    def __init__(self, space_correction, d):\n",
    "        self.space_correction = space_correction\n",
    "        self.model_path = model_path\n",
    "\n",
    "        self.tokenizer_dir = os.path.join(self.model_path, 'tokenizer','soynlp')\n",
    "        if not os.path.exists(self.tokenizer_dir): os.makedirs(self.tokenizer_dir)\n",
    "\n",
    "    def apply_soyspacing(self):\n",
    "        # spacing_correction\n",
    "            model = CountSpace()\n",
    "            model.load_model(os.path.join(self.model_path, 'model_soyspacing'), json_format=False)\n",
    "\n",
    "            rule_file = os.path.join(self.model_path, 'spacing_rules')\n",
    "            mc = 10  # min_count\n",
    "            ft = 0.3  # force_abs_threshold\n",
    "            nt = -0.3  # nonspace_threshold\n",
    "            st = 0.3  # space_threshold\n",
    "\n",
    "            rule_dict = None\n",
    "            # #specific rules for spacing\n",
    "            # if not rule_file:\n",
    "            #     rule_dict = None\n",
    "            # else:\n",
    "            #     rule_dict = RuleDict(rule_file)\n",
    "\n",
    "            # correct\n",
    "            print('spacing is correcting.....')\n",
    "            for file in tqdm(self.texts.keys()):\n",
    "                text_tmp = []\n",
    "                for text in self.texts[file]:\n",
    "                    text_corrected, tags = model.correct(doc=text, verbose=False, force_abs_threshold=ft,\n",
    "                                                         nonspace_threshold=nt, space_threshold=st, min_count=mc,\n",
    "                                                         rules=rule_dict)\n",
    "                    text_tmp.append(text_corrected)\n",
    "                self.texts[file] = text_tmp\n",
    "\n",
    "    def train(self, texts, subword, tokenizer_name=str(datetime.now())):\n",
    "        self.texts = texts\n",
    "\n",
    "        texts_tmp = copy.deepcopy(self.texts)\n",
    "        self.texts = {}\n",
    "        for key, values in texts_tmp.items():\n",
    "            if isinstance(values, str) or isinstance(values, float):\n",
    "                self.texts[key] = normalize(str(values).replace('\\n', '  '), english=include_english, number=include_number)\n",
    "            elif isinstance(values, list):\n",
    "                self.texts[key] = [normalize(value.replace('\\n', '  '), english=include_english, number=include_number) for value in values]\n",
    "\n",
    "        if self.space_correction == True: self.apply_soyspacing()\n",
    "\n",
    "        # subword\n",
    "        scores = {}\n",
    "        if subword == 0:\n",
    "            print('no subword treatment')\n",
    "\n",
    "        elif subword ==11 or subword==12:\n",
    "            print('mecab does not need traning')\n",
    "\n",
    "        # soynlp:: word score를 저장\n",
    "        elif subword == 2 or subword == 3 or subword == 23:\n",
    "            text_all = [text for texts in self.texts.values() for text in texts]\n",
    "\n",
    "            if subword == 2:\n",
    "                word_extractor = WordExtractor(min_frequency=2, min_cohesion_forward=0.05,\n",
    "                                               min_right_branching_entropy=0.01)\n",
    "                word_extractor.train(text_all)\n",
    "                word_score = word_extractor.extract()\n",
    "                print('number of scored words = %d' % len(word_score))\n",
    "                scores = {word: score.cohesion_forward for word, score in word_score.items()}\n",
    "            elif subword == 3:\n",
    "                noun_extractor = LRNounExtractor_v2(verbose=False)\n",
    "                nouns = noun_extractor.train_extract(text_all)\n",
    "                scores = {noun: score.score for noun, score in nouns.items()}\n",
    "            elif subword == 23:\n",
    "                word_extractor = WordExtractor(min_frequency=2, min_cohesion_forward=0.05,\n",
    "                                               min_right_branching_entropy=0.01)\n",
    "                word_extractor.train(text_all)\n",
    "                word_score = word_extractor.extract()\n",
    "                print('number of scored words = %d' % len(word_score))\n",
    "\n",
    "                cohension_branching_scores = {word: score.cohesion_forward * score.right_branching_entropy for\n",
    "                                              word, score\n",
    "                                              in word_score.items()}\n",
    "                # cohension_scores = {word:score.cohesion_forward for word, score in word_score.items()}\n",
    "\n",
    "                noun_extractor = LRNounExtractor_v2(verbose=False)\n",
    "                nouns = noun_extractor.train_extract(text_all)\n",
    "                noun_scores = {noun: score.score for noun, score in nouns.items()}\n",
    "\n",
    "                scores = {noun: score + cohension_branching_scores.get(noun, 0) for noun, score in noun_scores.items()}\n",
    "                for token, cohesion in cohension_branching_scores.items():\n",
    "                    if token not in scores: scores.update({token: cohesion})\n",
    "                \n",
    "            # tokenizer_name = str(datetime.now().strftime('%Y%m%d')[2:]) + '_tokenizer' + tokenizer_name #str(self.texts.keys())[10:-1].replace('/','_') #str(subword)\n",
    "            with open(os.path.join(self.tokenizer_dir, tokenizer_name), 'wb') as f:\n",
    "                pickle.dump(scores, f, protocol=pickle.HIGHEST_PROTOCOL)\n",
    "\n",
    "        elif subword == 4:\n",
    "            self.tokenizer_dir = os.path.join(self.model_path, 'tokenizer','sentencepiece')\n",
    "            model_path = os.path.join(self.tokenizer_dir, tokenizer_name)\n",
    "            texts = [clean_review(text) for texts in self.texts.values() for text in texts]\n",
    "            print('SUBWORD4')\n",
    "            temp_file = 'temp.txt'\n",
    "            with open (temp_file, 'w') as f:\n",
    "                for text in texts:\n",
    "                    if len(texts):\n",
    "                        f.write(str(text))\n",
    "                        f.write('\\n')\n",
    "            if not os.path.exists(model_path):\n",
    "                os.mkdir(model_path)\n",
    "            spm.SentencePieceTrainer.Train('--input={} --model_prefix={} --vocab_size=5000 --bos_id=-1 --eos_id=-1 --unk_id=1 --pad_id=0 --model_type=bpe'.format(temp_file, os.path.join(model_path, 'spm')))\n",
    "            print('Done')\n",
    "            os.remove(temp_file)\n",
    "\n",
    "    def run(self, texts, subword, jamo, tokenizer_name=None):\n",
    "        self.texts = texts\n",
    "\n",
    "        # 한글 영어 숫자만 남기고 다 지움.\n",
    "        texts_tmp = copy.deepcopy(self.texts)\n",
    "        self.texts = {}\n",
    "        for key, values in texts_tmp.items():\n",
    "            if isinstance(values, str) or isinstance(values, float):\n",
    "                self.texts[key] = normalize(str(values).replace('\\n', '  '), english=include_english, number=include_number)\n",
    "            elif isinstance(values, list):\n",
    "                self.texts[key] = [normalize(value.replace('\\n', '  '), english=include_english, number=include_number) for value in values]\n",
    "\n",
    "        if self.space_correction == True: self.apply_soyspacing()\n",
    "\n",
    "        if subword == 0:\n",
    "            pass\n",
    "\n",
    "        elif subword ==11 or subword==12:\n",
    "            ##내용파악에는 명사추출이 좋으나, 의도파악에는 형태소 분석이 좋다.\n",
    "            if subword ==11 :\n",
    "                mecab = Mecab().morphs\n",
    "                for file in self.texts.keys():\n",
    "                    text_tmp = []\n",
    "                    for text in self.texts[file]:\n",
    "                        #print('before',text)\n",
    "                        text_subword = ''\n",
    "                        for token in mecab(text):\n",
    "                            text_subword += token + ' '\n",
    "                        #print('after',text_subword)\n",
    "                        text_tmp.append(text_subword)\n",
    "                    self.texts[file] = text_tmp\n",
    "            elif subword == 12:\n",
    "                mecab = Mecab().nouns\n",
    "                for file in self.texts.keys():\n",
    "                    text_tmp = []\n",
    "                    for text in self.texts[file]:\n",
    "                        #print('before',text)\n",
    "                        text_subword = ''\n",
    "                        for token in mecab(text):\n",
    "                            if len(token) == 1: continue\n",
    "                            text_subword += token + ' '\n",
    "                        #print('after',text_subword)\n",
    "                        text_tmp.append(text_subword)\n",
    "                    self.texts[file] = text_tmp\n",
    "\n",
    "        elif subword in os.listdir(self.tokenizer_dir):\n",
    "            with open(os.path.join(self.tokenizer_dir,subword),'rb') as f:\n",
    "                scores = pickle.load(f)\n",
    "\n",
    "            #transform\n",
    "            ltokenizer = LTokenizer(scores = scores)\n",
    "            for file in self.texts.keys():\n",
    "                text_tmp = []\n",
    "                for text in self.texts[file]:\n",
    "                    #print('before',text)\n",
    "                    text_token = ''\n",
    "                    for token in ltokenizer.tokenize(text):\n",
    "                        if token not in scores: continue\n",
    "                        if scores[token] < 0.1: continue  #print(subword, scores[subword])\n",
    "                        text_token += token+' '\n",
    "                    #print('after',text_token)\n",
    "                    text_tmp.append(text_token)\n",
    "                self.texts[file] = text_tmp\n",
    "\n",
    "        elif subword==4:\n",
    "            sp = spm.SentencePieceProcessor()\n",
    "            sp_path = os.path.join(self.model_path, 'tokenizer', 'sentencepiece', tokenizer_name, 'spm.model')\n",
    "            sp.load(sp_path)\n",
    "            for i, sentence in  tqdm(enumerate(texts['content'])):\n",
    "                texts['content'][i] = sp.EncodeAsPieces(sentence)\n",
    "\n",
    "        else:\n",
    "            print('subword option ',subword,' is not recognized')\n",
    "\n",
    "        if jamo == True:\n",
    "            texts_tmp = copy.deepcopy(self.texts)\n",
    "            self.texts = {}\n",
    "            for key, values in texts_tmp.items():\n",
    "                if isinstance(values,str):\n",
    "                    self.texts[key] = jamo_sentence(values)\n",
    "                elif isinstance(values,list):\n",
    "                    self.texts[key] = [jamo_sentence(value) for value in values]\n",
    "\n",
    "        return self.texts\n"
   ]
  },
  {
   "cell_type": "code",
   "execution_count": 120,
   "metadata": {},
   "outputs": [],
   "source": [
    "def del_gmarket_auction(text):\n",
    "    presuffix_list = [\n",
    "            '가격만족도 성능 사용편의성 등',\n",
    "            '가격만족도성능사용편의성 등',\n",
    "            '재구매횟수 또는 기간',\n",
    "            '그 외 도움이 될 만한 사용후기',\n",
    "            '상태 배송',\n",
    "            '옥션 안드로이드 앱으로 작성',\n",
    "            'G마켓 안드로이드 앱에서 작성',\n",
    "            '상태배송'\n",
    "        ]\n",
    "    for presuffix in presuffix_list:\n",
    "            text = text.replace(presuffix, '')\n",
    "    text = re.sub('[-=+,#/\\?:^$.@*\\\"※~&%ㆍ!;』\\\\‘|\\(\\)\\[\\]\\<\\>`\\'…》]', '', text).replace('\\n', ' ').replace('\\t', ' ').strip()\n",
    "    if len(text):\n",
    "        return text\n",
    "    else:\n",
    "        return np.nan"
   ]
  },
  {
   "cell_type": "code",
   "execution_count": 121,
   "metadata": {},
   "outputs": [],
   "source": [
    "def format_time(elapsed):\n",
    "    elapsed_rounded = int(round((elapsed)))  # 반올림\n",
    "    return str(timedelta(seconds=elapsed_rounded))  # hh:mm:ss으로 형태 변경"
   ]
  },
  {
   "cell_type": "code",
   "execution_count": 122,
   "metadata": {},
   "outputs": [],
   "source": [
    "def flat_accuracy(preds, labels):\n",
    "    pred_flat = np.argmax(preds, axis=1).flatten()\n",
    "    labels_flat = labels.flatten()\n",
    "    return np.sum(pred_flat == labels_flat) / len(labels_flat)"
   ]
  },
  {
   "cell_type": "code",
   "execution_count": 123,
   "metadata": {},
   "outputs": [],
   "source": [
    "def tokenizing(sentences):\n",
    "    for i in range(len(sentences)):\n",
    "        sentences[i] = \"[CLS] \" + str(sentences[i]) + \" [SEP]\"\n",
    "\n",
    "    # BERT의 토크나이저로 문장을 토큰으로 분리\n",
    "    tokenized_texts = [bert_tokenizer.tokenize(sent) for sent in sentences]\n",
    "\n",
    "    # 토큰을 숫자 인덱스로 변환\n",
    "    input_ids = [bert_tokenizer.convert_tokens_to_ids(x) for x in tokenized_texts]\n",
    "\n",
    "    # 문장을 self.MAX_LEN 길이에 맞게 자르고, 모자란 부분을 패딩 0으로 채움\n",
    "    input_ids = pad_sequences(input_ids, maxlen=MAX_LEN, dtype=\"long\", truncating=\"post\", padding=\"post\")\n",
    "\n",
    "    # 어텐션 마스크를 패딩이 아니면 1, 패딩이면 0으로 설정\n",
    "    # 패딩 부분은 BERT 모델에서 어텐션을 수행하지 않아 속도 향상\n",
    "    attention_masks = []\n",
    "    for seq in input_ids:\n",
    "        seq_mask = [float(i>0) for i in seq]\n",
    "        attention_masks.append(seq_mask)\n",
    "\n",
    "    inputs = torch.tensor(input_ids).to(device)\n",
    "    masks = torch.tensor(attention_masks).to(device)\n",
    "\n",
    "    return inputs, masks"
   ]
  },
  {
   "cell_type": "code",
   "execution_count": 124,
   "metadata": {},
   "outputs": [],
   "source": [
    "def inference(sentences):\n",
    "    probs = predict(sentences)\n",
    "    return np.array(probs).argmax(axis=1)[0]"
   ]
  },
  {
   "cell_type": "code",
   "execution_count": 125,
   "metadata": {},
   "outputs": [],
   "source": [
    "def predict(sentences):\n",
    "    result = list()\n",
    "    for sentence in sentences:\n",
    "        sentence = copy.deepcopy(sentence)\n",
    "        b_input_ids, b_input_mask = tokenizing(sentences=[sentence])\n",
    "        outputs = model(b_input_ids, attention_mask=b_input_mask)\n",
    "        logits = outputs[0]\n",
    "        logits = logits.detach().cpu().numpy()\n",
    "        result.extend(softmax(logits))\n",
    "    return np.asarray(result)"
   ]
  },
  {
   "cell_type": "code",
   "execution_count": 126,
   "metadata": {},
   "outputs": [],
   "source": [
    "def get_tokens(sentence, except_vocabs=[]):\n",
    "    try:\n",
    "        tokens = [token for token, pos in tokenizer.pos(sentence, norm=True, stem=True) if pos in tag_list if token not in except_vocabs]\n",
    "    except:\n",
    "        tokens = [token for token, pos in tokenizer.pos(sentence) if len(set(pos.split('+')).intersection(set(tag_list)))]\n",
    "    return tokens"
   ]
  },
  {
   "cell_type": "code",
   "execution_count": 127,
   "metadata": {},
   "outputs": [],
   "source": [
    "def correct_spell(review, custom_dict={}):\n",
    "    result = spell_checker.check(review).checked\n",
    "    for k, v in custom_dict.items():\n",
    "        result = result.replace(k, v)\n",
    "    return result"
   ]
  },
  {
   "cell_type": "code",
   "execution_count": 128,
   "metadata": {},
   "outputs": [],
   "source": [
    "def get_score_dict(dataset, factor_name):\n",
    "    reviews = dataset['리뷰'].values.copy()\n",
    "    scores = dataset[factor_name].values\n",
    "    contents = [[review] for review in reviews]\n",
    "    yhat = list()\n",
    "    for review in tqdm(contents):\n",
    "        yhat.append(inference(review))\n",
    "    print(factor_name, 'Classification Report')\n",
    "    print(classification_report(scores, yhat))\n",
    "    acc = accuracy_score(scores, yhat)\n",
    "    \n",
    "    label = 0\n",
    "    true_index = np.asarray(yhat) == label\n",
    "    bad_alpha_list = write_html_lime(np.asarray(contents)[true_index], reviews[true_index], np.asarray(scores)[true_index], np.asarray(yhat)[true_index], acc, label=label)\n",
    "    bad_score_dict = dict()\n",
    "    for review in bad_alpha_list:\n",
    "        if len(review):\n",
    "            for token, score in review:\n",
    "#                 token = spell_checker.check(token).checked\n",
    "                bad_score_dict[token] = bad_score_dict.get(token, list()) + [score,]\n",
    "    if factor_name == '평점':\n",
    "        label=1\n",
    "    else:\n",
    "        label=2\n",
    "    true_index = np.asarray(yhat) == label\n",
    "    good_alpha_list = write_html_lime(np.asarray(contents)[true_index], reviews[true_index], np.asarray(scores)[true_index], np.asarray(yhat)[true_index], acc, label=label)\n",
    "    good_score_dict = dict()\n",
    "    for review in good_alpha_list:\n",
    "        if len(review):\n",
    "            for token, score in review:\n",
    "                token = spell_checker.check(token).checked\n",
    "                good_score_dict[token] = good_score_dict.get(token, list()) + [score,]\n",
    "    \n",
    "    for k, v in good_score_dict.items():\n",
    "        good_score_dict[k] = np.mean(v)\n",
    "    for k, v in bad_score_dict.items():\n",
    "        bad_score_dict[k] = np.mean(v)\n",
    "                \n",
    "    return good_score_dict, bad_score_dict, good_alpha_list, bad_alpha_list"
   ]
  },
  {
   "cell_type": "code",
   "execution_count": 129,
   "metadata": {},
   "outputs": [],
   "source": [
    "def get_token_coocur(alpha_list):\n",
    "    token_coocur = list()\n",
    "    alpha_list = [[k for k, _ in review] for review in alpha_list]\n",
    "    for review in alpha_list:\n",
    "        temp = list()\n",
    "        for token in review:\n",
    "            for ngram in trigram[get_tokens(token, except_vocabs)]:\n",
    "                temp.append(custom_vocab.get(ngram, ngram))\n",
    "        if len(temp):\n",
    "            token_coocur.append(temp)\n",
    "    return token_coocur"
   ]
  },
  {
   "cell_type": "code",
   "execution_count": 130,
   "metadata": {},
   "outputs": [],
   "source": [
    "custom_dict = {'구성비' : '가성비'}\n",
    "MAX_LEN=128\n",
    "\n",
    "dataset_path = '../../dataset/bert_model_dataset'\n",
    "model_path = '../../model'"
   ]
  },
  {
   "cell_type": "code",
   "execution_count": 131,
   "metadata": {},
   "outputs": [],
   "source": [
    "tokenizer = Okt()\n",
    "# tokenizer = Mecab()\n",
    "# tokenizer = Kkma()\n",
    "\n",
    "tag_list = ['Adjective', 'Noun']   # Okt\n",
    "# tag_list = ['NNG', 'NNP', 'VV', 'VA']   # mecab, kkma"
   ]
  },
  {
   "cell_type": "code",
   "execution_count": 132,
   "metadata": {},
   "outputs": [
    {
     "name": "stdout",
     "output_type": "stream",
     "text": [
      "Loading JIT Compiled ChatSpace Model\n"
     ]
    }
   ],
   "source": [
    "spacer = ChatSpace()"
   ]
  },
  {
   "cell_type": "code",
   "execution_count": 133,
   "metadata": {},
   "outputs": [],
   "source": [
    "device = torch.device(\"cuda\")"
   ]
  },
  {
   "cell_type": "code",
   "execution_count": 134,
   "metadata": {},
   "outputs": [],
   "source": [
    "factor_name_list = get_factor_name_list(category_name).tolist()\n",
    "factor_name_list.remove('브랜드')\n",
    "factor_name_list.append('평점')"
   ]
  },
  {
   "cell_type": "code",
   "execution_count": 135,
   "metadata": {},
   "outputs": [],
   "source": [
    "dataset = pd.read_excel('../../log/classification/201203_1815_퓨렐 손소독제.xlsx')\n",
    "dataset.dropna(inplace=True)\n",
    "dataset['리뷰'] = dataset['리뷰'].map(del_gmarket_auction)"
   ]
  },
  {
   "cell_type": "code",
   "execution_count": 136,
   "metadata": {},
   "outputs": [],
   "source": [
    "bert_tokenizer = KoBertTokenizer.from_pretrained('monologg/distilkobert', do_lower_case=False)"
   ]
  },
  {
   "cell_type": "code",
   "execution_count": 138,
   "metadata": {},
   "outputs": [
    {
     "data": {
      "application/vnd.jupyter.widget-view+json": {
       "model_id": "cced84cd7ed84be39606386f163fc374",
       "version_major": 2,
       "version_minor": 0
      },
      "text/plain": [
       "HBox(children=(FloatProgress(value=0.0, max=32.0), HTML(value='')))"
      ]
     },
     "metadata": {},
     "output_type": "display_data"
    },
    {
     "name": "stdout",
     "output_type": "stream",
     "text": [
      "\n",
      "가격 Classification Report\n",
      "              precision    recall  f1-score   support\n",
      "\n",
      "           1       1.00      1.00      1.00        31\n",
      "           2       1.00      1.00      1.00         1\n",
      "\n",
      "    accuracy                           1.00        32\n",
      "   macro avg       1.00      1.00      1.00        32\n",
      "weighted avg       1.00      1.00      1.00        32\n",
      "\n"
     ]
    },
    {
     "data": {
      "application/vnd.jupyter.widget-view+json": {
       "model_id": "44401c6c5e814197bb0d98c996a404a1",
       "version_major": 2,
       "version_minor": 0
      },
      "text/plain": [
       "HBox(children=(FloatProgress(value=0.0, max=32.0), HTML(value='')))"
      ]
     },
     "metadata": {},
     "output_type": "display_data"
    },
    {
     "name": "stdout",
     "output_type": "stream",
     "text": [
      "\n",
      "맛 Classification Report\n",
      "              precision    recall  f1-score   support\n",
      "\n",
      "           0       1.00      1.00      1.00         1\n",
      "           1       1.00      1.00      1.00        19\n",
      "           2       1.00      1.00      1.00        12\n",
      "\n",
      "    accuracy                           1.00        32\n",
      "   macro avg       1.00      1.00      1.00        32\n",
      "weighted avg       1.00      1.00      1.00        32\n",
      "\n"
     ]
    },
    {
     "data": {
      "application/vnd.jupyter.widget-view+json": {
       "model_id": "3c015aa14df24883a28b157ffe38e951",
       "version_major": 2,
       "version_minor": 0
      },
      "text/plain": [
       "HBox(children=(FloatProgress(value=0.0, max=32.0), HTML(value='')))"
      ]
     },
     "metadata": {},
     "output_type": "display_data"
    },
    {
     "name": "stdout",
     "output_type": "stream",
     "text": [
      "\n",
      "효과 Classification Report\n",
      "              precision    recall  f1-score   support\n",
      "\n",
      "           0       1.00      1.00      1.00         2\n",
      "           1       1.00      1.00      1.00        28\n",
      "           2       1.00      1.00      1.00         2\n",
      "\n",
      "    accuracy                           1.00        32\n",
      "   macro avg       1.00      1.00      1.00        32\n",
      "weighted avg       1.00      1.00      1.00        32\n",
      "\n"
     ]
    },
    {
     "data": {
      "application/vnd.jupyter.widget-view+json": {
       "model_id": "9e0f2d4ae09943028f443defd6a57c46",
       "version_major": 2,
       "version_minor": 0
      },
      "text/plain": [
       "HBox(children=(FloatProgress(value=0.0, max=32.0), HTML(value='')))"
      ]
     },
     "metadata": {},
     "output_type": "display_data"
    },
    {
     "name": "stdout",
     "output_type": "stream",
     "text": [
      "\n",
      "영양성분 Classification Report\n",
      "              precision    recall  f1-score   support\n",
      "\n",
      "           0       1.00      1.00      1.00         2\n",
      "           1       1.00      1.00      1.00        30\n",
      "\n",
      "    accuracy                           1.00        32\n",
      "   macro avg       1.00      1.00      1.00        32\n",
      "weighted avg       1.00      1.00      1.00        32\n",
      "\n"
     ]
    },
    {
     "data": {
      "application/vnd.jupyter.widget-view+json": {
       "model_id": "ff85db34c2754706b92a2011acca5613",
       "version_major": 2,
       "version_minor": 0
      },
      "text/plain": [
       "HBox(children=(FloatProgress(value=0.0, max=32.0), HTML(value='')))"
      ]
     },
     "metadata": {},
     "output_type": "display_data"
    },
    {
     "name": "stdout",
     "output_type": "stream",
     "text": [
      "\n",
      "평점 Classification Report\n",
      "              precision    recall  f1-score   support\n",
      "\n",
      "           0       0.00      0.00      0.00         0\n",
      "           1       1.00      0.62      0.77        32\n",
      "\n",
      "    accuracy                           0.62        32\n",
      "   macro avg       0.50      0.31      0.38        32\n",
      "weighted avg       1.00      0.62      0.77        32\n",
      "\n"
     ]
    }
   ],
   "source": [
    "total_alpha_dict = dict()\n",
    "keyword_factor = dict()\n",
    "good_score_dict = dict()\n",
    "bad_score_dict = dict()\n",
    "good_alpha_list = list()\n",
    "bad_alpha_list = list()\n",
    "for factor_name in factor_name_list:\n",
    "    if factor_name == '평점':\n",
    "        num_labels = 2\n",
    "        dataset[factor_name] = 0\n",
    "    else:\n",
    "        num_labels = 3\n",
    "    model = DistilBertForSequenceClassification.from_pretrained('../../model/classification_model/distillbert_model/{}'.format(factor_name), num_labels=num_labels)\n",
    "    model.cuda()\n",
    "    model.eval()\n",
    "    dataset[factor_name] = dataset[factor_name].apply(lambda x: 2 if x==0 else x)\n",
    "    dataset[factor_name] = dataset[factor_name]-1\n",
    "    gsd, bsd, gal, bal = get_score_dict(dataset, factor_name)\n",
    "    good_score_dict.update(gsd)\n",
    "    bad_score_dict.update(bsd)\n",
    "    good_alpha_list.extend(gal)\n",
    "    bad_alpha_list.extend(bal)\n",
    "    total_alpha_dict[factor_name] = [gal, bal]\n",
    "    gsd.update(bsd)\n",
    "    for keyword in gsd.keys():\n",
    "        keyword_factor[keyword] = factor_name"
   ]
  },
  {
   "cell_type": "markdown",
   "metadata": {},
   "source": [
    "### WordCloud"
   ]
  },
  {
   "cell_type": "code",
   "execution_count": 139,
   "metadata": {},
   "outputs": [],
   "source": [
    "def color_func(word, *args, **kwargs):\n",
    "    min_value = min(word_score_dict.values())\n",
    "    max_value = max(word_score_dict.values())\n",
    "    if word in bad_score_dict.keys():\n",
    "        color = 'hsl(0, {:.0%}, 50%)'.format((bad_score_dict[word]-min_value) / 2*(max_value-min_value) + 0.5)   # Red\n",
    "    elif word in good_score_dict.keys():\n",
    "        color = 'hsl(220, {:.0%}, 50%)'.format((good_score_dict[word]-min_value) / 2*(max_value-min_value) + 0.5)    # Blue\n",
    "    else:\n",
    "        color = 'black' # black\n",
    "    return color"
   ]
  },
  {
   "cell_type": "code",
   "execution_count": 140,
   "metadata": {},
   "outputs": [],
   "source": [
    "proportion_dict = Counter(keyword_factor.values())\n",
    "proportion_dict = {k : v / len(keyword_factor) for k, v in proportion_dict.items()}\n",
    "proportion_dict['평점'] =.0"
   ]
  },
  {
   "cell_type": "code",
   "execution_count": 141,
   "metadata": {},
   "outputs": [
    {
     "data": {
      "text/plain": [
       "[]"
      ]
     },
     "execution_count": 141,
     "metadata": {},
     "output_type": "execute_result"
    }
   ],
   "source": [
    "[review for review, factor in keyword_factor.items() if factor == '평점']"
   ]
  },
  {
   "cell_type": "code",
   "execution_count": 142,
   "metadata": {},
   "outputs": [],
   "source": [
    "word_score_dict = dict()\n",
    "del_keys = list()\n",
    "\n",
    "for k, v in good_score_dict.items():\n",
    "    word_score_dict[k] = v\n",
    "for k, v in bad_score_dict.items():\n",
    "    if k in word_score_dict.keys():\n",
    "        del_keys.append(k)\n",
    "    else:\n",
    "        word_score_dict[k] = v\n",
    "for k in del_keys:\n",
    "    good_score_dict.pop(k)\n",
    "    bad_score_dict.pop(k)"
   ]
  },
  {
   "cell_type": "code",
   "execution_count": 143,
   "metadata": {},
   "outputs": [],
   "source": [
    "word_list = list(word_score_dict.keys())\n",
    "distance_matrix = np.asarray(get_jaccard_matrix(word_list))"
   ]
  },
  {
   "cell_type": "code",
   "execution_count": 144,
   "metadata": {},
   "outputs": [],
   "source": [
    "dbscan = DBSCAN(.35, metric='precomputed', min_samples=2)"
   ]
  },
  {
   "cell_type": "code",
   "execution_count": 145,
   "metadata": {},
   "outputs": [],
   "source": [
    "cluster_dict = dict()\n",
    "for token, label in zip(word_list, dbscan.fit_predict(distance_matrix)):\n",
    "    cluster_dict[label] = cluster_dict.get(label, list()) + [[token, word_score_dict[token]]]"
   ]
  },
  {
   "cell_type": "code",
   "execution_count": 146,
   "metadata": {},
   "outputs": [],
   "source": [
    "for k, v in cluster_dict.items():\n",
    "    if k == -1:\n",
    "        continue\n",
    "    else:\n",
    "        max_keyword = max(v)[0]\n",
    "        v = [k for k, v in v]\n",
    "        v.remove(max_keyword)\n",
    "        for keyword in v:\n",
    "            word_score_dict.pop(keyword)"
   ]
  },
  {
   "cell_type": "code",
   "execution_count": 147,
   "metadata": {},
   "outputs": [],
   "source": [
    "max_count_dict = {k : int(v * 30) for k, v in proportion_dict.items()}"
   ]
  },
  {
   "cell_type": "code",
   "execution_count": 148,
   "metadata": {},
   "outputs": [],
   "source": [
    "word_score_dict = dict(sorted(word_score_dict.items(), key=lambda x:x[1], reverse=True))\n",
    "final_score_dict = dict()\n",
    "for k, v in word_score_dict.items():\n",
    "    if max_count_dict[keyword_factor[k]]:\n",
    "        final_score_dict[k] = v\n",
    "        max_count_dict[keyword_factor[k]] -= 1"
   ]
  },
  {
   "cell_type": "code",
   "execution_count": 149,
   "metadata": {},
   "outputs": [],
   "source": [
    "wordcloud = WordCloud(\n",
    "    font_path = font_path,\n",
    "    width = 1600,\n",
    "    height = 800,\n",
    "    max_words=20,\n",
    "    background_color=\"white\",\n",
    "    prefer_horizontal=1,\n",
    "    max_font_size=80,\n",
    "    min_font_size=10,\n",
    "    scale=5,\n",
    "    color_func=color_func\n",
    ")\n",
    "wordcloud = wordcloud.generate_from_frequencies(final_score_dict)"
   ]
  },
  {
   "cell_type": "code",
   "execution_count": 150,
   "metadata": {},
   "outputs": [
    {
     "data": {
      "image/png": "[encoded data removed]",
      "text/plain": [
       "<Figure size 1440x720 with 1 Axes>"
      ]
     },
     "metadata": {
      "needs_background": "light"
     },
     "output_type": "display_data"
    }
   ],
   "source": [
    "array = wordcloud.to_array()\n",
    "plt.figure(figsize=(20,10))\n",
    "plt.imshow(array, interpolation=\"bilinear\")\n",
    "plt.axis(\"off\")\n",
    "plt.show()"
   ]
  },
  {
   "cell_type": "markdown",
   "metadata": {},
   "source": [
    "### KeywordMap"
   ]
  },
  {
   "cell_type": "code",
   "execution_count": 80,
   "metadata": {},
   "outputs": [],
   "source": [
    "from networkx.drawing.nx_pydot import graphviz_layout\n",
    "import networkx as nx"
   ]
  },
  {
   "cell_type": "code",
   "execution_count": 82,
   "metadata": {},
   "outputs": [],
   "source": [
    "custom_vocab = {'콤달콤' : '새콤달콤', '콤_달콤하다' : '새콤달콤하다', '너_미인' : '이너미인', '콤_달달' : '새콤달달', '성_바이오' : '성이바이오', '레모' : '레모나',\n",
    "               '양제_이다' : '영양제_이다', '고려_은' : '고려은단', '피곤하다_때' : '피곤할 때', '아르_오일' : '아르간 오일', '아르_오일이' : '아르간 오일'}"
   ]
  },
  {
   "cell_type": "code",
   "execution_count": 83,
   "metadata": {},
   "outputs": [],
   "source": [
    "except_vocabs = list(total_alpha_dict.keys())"
   ]
  },
  {
   "cell_type": "code",
   "execution_count": 84,
   "metadata": {},
   "outputs": [],
   "source": [
    "token_coocur = [[k for k, _ in review] for review in bad_alpha_list]\n",
    "token_coocur.extend([[k for k, _ in review] for review in good_alpha_list])"
   ]
  },
  {
   "cell_type": "code",
   "execution_count": 85,
   "metadata": {},
   "outputs": [
    {
     "data": {
      "application/vnd.jupyter.widget-view+json": {
       "model_id": "a9865391d32e4ca4ac0f48d03742789c",
       "version_major": 2,
       "version_minor": 0
      },
      "text/plain": [
       "HBox(children=(FloatProgress(value=0.0, max=20.0), HTML(value='')))"
      ]
     },
     "metadata": {},
     "output_type": "display_data"
    },
    {
     "name": "stdout",
     "output_type": "stream",
     "text": [
      "\n"
     ]
    }
   ],
   "source": [
    "corpus = []\n",
    "for review in tqdm(token_coocur):\n",
    "    corpus.append(get_tokens(' '.join(review), except_vocabs))"
   ]
  },
  {
   "cell_type": "code",
   "execution_count": 86,
   "metadata": {},
   "outputs": [],
   "source": [
    "bigram = Phrases(corpus, min_count=1)\n",
    "trigram = Phrases(bigram[corpus], min_count=1)"
   ]
  },
  {
   "cell_type": "code",
   "execution_count": 87,
   "metadata": {},
   "outputs": [],
   "source": [
    "node_weights = dict()\n",
    "for subject_name, al in total_alpha_dict.items():\n",
    "    good_al, bad_al = al\n",
    "    token_coocur = get_token_coocur(good_al + bad_al)\n",
    "    for review in token_coocur:\n",
    "        node_weights[(subject_name, review[0])] = node_weights.get((subject_name, review[0]), 0) + 1\n",
    "        if len(review)>1:\n",
    "            for i in range(len(review)-1):\n",
    "                node_weights[(review[i], review[i+1])] = node_weights.get((review[i], review[i+1]), 0) + 1"
   ]
  },
  {
   "cell_type": "code",
   "execution_count": 88,
   "metadata": {},
   "outputs": [],
   "source": [
    "max_nodes = 100"
   ]
  },
  {
   "cell_type": "code",
   "execution_count": 89,
   "metadata": {},
   "outputs": [],
   "source": [
    "node_weights = {k:v for k, v in node_weights.items() if v >= 5}\n",
    "node_weights = dict(sorted(node_weights.items(), key=lambda x:x[1], reverse=True)[:max_nodes])"
   ]
  },
  {
   "cell_type": "code",
   "execution_count": 90,
   "metadata": {},
   "outputs": [],
   "source": [
    "node_names = list()\n",
    "for pair in list(node_weights.keys()):\n",
    "    node_names.extend(list(pair))\n",
    "node_names = list(set(node_names))"
   ]
  },
  {
   "cell_type": "code",
   "execution_count": null,
   "metadata": {},
   "outputs": [],
   "source": [
    "G1 = nx.Graph()\n",
    "subject_nodes = [keyword for keyword in total_alpha_dict.keys()]\n",
    "G1.add_nodes_from(subject_nodes)\n",
    "G2 = nx.Graph()\n",
    "for keyword_pair, weight in node_weights.items():\n",
    "    a, b = keyword_pair\n",
    "    if a not in subject_nodes:\n",
    "        G2.add_node(a)\n",
    "    if b not in subject_nodes:\n",
    "        G2.add_node(b)\n",
    "    G2.add_edge(a, b, weight=weight)\n",
    "    \n",
    "pos = nx.nx_agraph.pygraphviz_layout(nx.compose_all([G1, G2]))\n",
    "\n",
    "plt.figure(figsize=(32, 24))\n",
    "plt.axis('off')\n",
    "\n",
    "nx.draw_networkx_nodes(G2, pos, nodelist=[node for node in node_names if node not in subject_nodes],\n",
    "                       node_shape='s', node_size=3000, node_color='#1288e3')\n",
    "nx.draw_networkx_edges(G2, pos, style='dashed')\n",
    "nx.draw_networkx_labels(G2, pos, labels={nodename : nodename for nodename in node_names if nodename not in subject_nodes},\n",
    "                        font_family=fontprop.get_name(), font_size=15)\n",
    "nx.draw_networkx_nodes(G1, pos, node_shape='h', nodelist=subject_nodes, node_size=6000, node_color='#cc6612')\n",
    "nx.draw_networkx_labels(G1, pos, font_family=fontprop.get_name(), font_weight='bold', font_size=20)\n",
    "plt.show()"
   ]
  },
  {
   "cell_type": "code",
   "execution_count": null,
   "metadata": {},
   "outputs": [],
   "source": []
  },
  {
   "cell_type": "code",
   "execution_count": null,
   "metadata": {},
   "outputs": [],
   "source": []
  }
 ],
 "metadata": {
  "kernelspec": {
   "display_name": "Python 3",
   "language": "python",
   "name": "python3"
  },
  "language_info": {
   "codemirror_mode": {
    "name": "ipython",
    "version": 3
   },
   "file_extension": ".py",
   "mimetype": "text/x-python",
   "name": "python",
   "nbconvert_exporter": "python",
   "pygments_lexer": "ipython3",
   "version": "3.7.7"
  }
 },
 "nbformat": 4,
 "nbformat_minor": 4
}
