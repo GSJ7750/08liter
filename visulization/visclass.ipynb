{
 "cells": [
  {
   "cell_type": "code",
   "execution_count": 1,
   "metadata": {},
   "outputs": [],
   "source": [
    "%matplotlib inline\n",
    "import matplotlib\n",
    "import matplotlib.pyplot as plt\n",
    "import numpy as np\n",
    "from scipy.interpolate import make_interp_spline,BSpline\n",
    "\n",
    "class vis():\n",
    "    def __init__(self):\n",
    "        None\n",
    "    def make_vis(self, X, Y, alpha = 0.3, n = 100, fig_size=(10,5), xlabel='', ylabel='', title='', scatter=None):\n",
    "        xnew = [np.linspace(x.min(), x.max(), n) for x in X]\n",
    "        spl = [make_interp_spline(x, y, k=2) for x, y in zip(X,Y)]\n",
    "        y_smooth = [spl_e(x) for x, spl_e in zip(xnew,spl)]\n",
    "\n",
    "        \n",
    "        plt.figure(figsize=fig_size)\n",
    "        plt.title(title)\n",
    "        plt.xlabel(xlabel)\n",
    "        plt.ylabel(ylabel, rotation=0)\n",
    "        [plt.fill_between(x,0,y,alpha=alpha) for x, y in zip(xnew, y_smooth)]\n",
    "        [plt.plot(x, y, alpha=alpha+0.1) for x, y in zip(xnew, y_smooth)]\n",
    "        if scatter == True:\n",
    "            [plt.scatter(x, y) for x, y in zip(X,Y)]\n",
    "        else:\n",
    "            pass\n",
    "        \n",
    "        plt.grid('on')\n",
    "        \n",
    "    def make_subplots(self, X, Y, alpha = 0.3, n = 100, fig_size=(10,5), xlabel='', ylabel='', columns=None, scatter=None):\n",
    "        xnew = [np.linspace(x.min(), x.max(), n) for x in X]\n",
    "        spl = [make_interp_spline(x, y, k=2) for x, y in zip(X,Y)]\n",
    "        y_smooth = [spl_e(x) for x, spl_e in zip(xnew,spl)]\n",
    "        \n",
    "        \n",
    "        for i in range(len(xnew)):\n",
    "            plt.figure(figsize=fig_size)\n",
    "            plt.subplot(len(xnew),1,i+1)\n",
    "            plt.xlabel(xlabel)\n",
    "            plt.ylabel(ylabel)\n",
    "            if columns:\n",
    "                plt.title(columns[i])\n",
    "            plt.fill_between(xnew[i],0,y_smooth[i], alpha=alpha)\n",
    "            plt.plot(xnew[i],y_smooth[i], alpha=alpha+0.1)\n",
    "            if scatter == True:\n",
    "                plt.scatter(X[i], Y[i])\n",
    "            else:\n",
    "                pass\n",
    "            plt.grid('on')\n",
    "        \n",
    "        \n",
    "        \n",
    "if __name__ == '__main__':\n",
    "    None"
   ]
  }
 ],
 "metadata": {
  "kernelspec": {
   "display_name": "Gale",
   "language": "python",
   "name": "gale"
  },
  "language_info": {
   "codemirror_mode": {
    "name": "ipython",
    "version": 3
   },
   "file_extension": ".py",
   "mimetype": "text/x-python",
   "name": "python",
   "nbconvert_exporter": "python",
   "pygments_lexer": "ipython3",
   "version": "3.7.7"
  }
 },
 "nbformat": 4,
 "nbformat_minor": 4
}
