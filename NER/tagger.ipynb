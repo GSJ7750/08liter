{
 "cells": [
  {
   "cell_type": "code",
   "execution_count": 1,
   "metadata": {},
   "outputs": [],
   "source": [
    "# 시퀀스타입 데이터로 만들기\n"
    "from itertools import islice\n",
    "import pandas as pd\n",
    "import h5py\n",
    "import regex as re\n",
    "import sentencepiece as spm\n",
    "from sklearn.model_selection import train_test_split\n",
    "from tqdm.notebook import tqdm"
   ]
  },
  {
   "cell_type": "code",
   "execution_count": 2,
   "metadata": {},
   "outputs": [],
   "source": [
    "sp = spm.SentencePieceProcessor()\n",
    "sp.Load('global_spm.model')\n",
    "temp = h5py.File('dataset/train.chunk.09', 'r')['train']\n",
    "dataset = pd.DataFrame(columns=temp.keys())\n",
    "for k, v in temp.items():\n",
    "    dataset[k] = v[()]\n",
    "str_columns = ['brand', 'maker', 'model', 'product', 'pid', 'updttm']\n",
    "for col in str_columns:\n",
    "    dataset[col] = dataset[col].map(lambda x:x.decode('utf-8'))\n",
    "    dataset[col] = dataset[col].map(lambda x:x if len(x) else None)\n"
   ]
  },
  {
   "cell_type": "code",
   "execution_count": 3,
   "metadata": {},
   "outputs": [],
   "source": [
    "def clean_reivew(review):\n",
    "    review = ''.join(re.compile('[가-힣.!?a-zA-Z ]').findall(review))\n",
    "    review = re.sub('\\n', ' ', review)\n",
    "    review = re.sub(r'\\!+', '!', review)\n",
    "    review = re.sub(r'\\?+', '?', review)\n",
    "    review = re.sub(r'\\.+', '.', review)\n",
    "    review = re.sub(r'\\([^)]*\\)', '', review)    # 괄호 안 내용 삭제\n",
    "    review = re.sub(r'\\[[^)]*\\]', '', review)    # 대괄호 안 내용 삭제\n",
    "    return review "
   ]
  },
  {
   "cell_type": "code",
   "execution_count": 4,
   "metadata": {},
   "outputs": [],
   "source": [
    "def find(target, seq):\n",
    "    max_window_size = len(target)\n",
    "    if max_window_size <= 0:\n",
    "        max_window_size = 1\n",
    "        \n",
    "    def window(seq, n=max_window_size):\n",
    "        \"Returns a sliding window (of width n) over data from the iterable\"\n",
    "        \"   s -> (s0,s1,...s[n-1]), (s1,s2,...,sn), ...                   \"\n",
    "        it = iter(seq)\n",
    "        result = tuple(islice(it, n))\n",
    "        if len(result) == n:\n",
    "            yield result\n",
    "        for elem in it:\n",
    "            result = result[1:] + (elem,)\n",
    "            yield result\n",
    "      \n",
    "    \n",
    "    def tune_window_size():\n",
    "        window_size = max_window_size\n",
    "        for i in range(max_window_size, 0, -1):\n",
    "      \n",
    "            for _s in window(seq=seq, n=i):# _s : 윈도우 결과\n",
    "                if target in ''.join(_s):\n",
    "                    window_size = i\n",
    "                    #print(i, _s, window_size)\n",
    "                    break\n",
    "                    \n",
    "        return window_size\n",
    "                \n",
    "    window_size = tune_window_size()\n",
    "      \n",
    "        \n",
    "    def get_ckpts(_seq):\n",
    "        pos = 0\n",
    "        ckpt = list()\n",
    "          \n",
    "        for _s in window(seq=_seq, n=window_size):\n",
    "            if target in ''.join(_s):\n",
    "                ckpt.append([pos, pos+window_size])\n",
    "            pos += 1\n",
    "        return ckpt\n",
    "            \n",
    "    ckpts = get_ckpts(seq)\n",
    "    label_list = ['O']*len(seq)\n",
    "    \n",
    "    for ckpt in ckpts:\n",
    "        label_list[ckpt[0]] = 'brand-B'\n",
    "        for i in range(ckpt[0]+1, ckpt[1]):\n",
    "            label_list[i] = 'brand-I'\n",
    "    \n",
    "  \n",
    "      \n",
    "    \n",
    "    return label_list"
   ]
  },
  {
   "cell_type": "code",
   "execution_count": 5,
   "metadata": {},
   "outputs": [
    {
     "data": {
      "text/html": [
       "<div>\n",
       "<style scoped>\n",
       "    .dataframe tbody tr th:only-of-type {\n",
       "        vertical-align: middle;\n",
       "    }\n",
       "\n",
       "    .dataframe tbody tr th {\n",
       "        vertical-align: top;\n",
       "    }\n",
       "\n",
       "    .dataframe thead th {\n",
       "        text-align: right;\n",
       "    }\n",
       "</style>\n",
       "<table border=\"1\" class=\"dataframe\">\n",
       "  <thead>\n",
       "    <tr style=\"text-align: right;\">\n",
       "      <th></th>\n",
       "      <th>bcateid</th>\n",
       "      <th>brand</th>\n",
       "      <th>dcateid</th>\n",
       "      <th>img_feat</th>\n",
       "      <th>maker</th>\n",
       "      <th>mcateid</th>\n",
       "      <th>model</th>\n",
       "      <th>pid</th>\n",
       "      <th>price</th>\n",
       "      <th>product</th>\n",
       "      <th>scateid</th>\n",
       "      <th>updttm</th>\n",
       "    </tr>\n",
       "  </thead>\n",
       "  <tbody>\n",
       "    <tr>\n",
       "      <th>0</th>\n",
       "      <td>11</td>\n",
       "      <td>None</td>\n",
       "      <td>-1</td>\n",
       "      <td>0.106391</td>\n",
       "      <td>기타</td>\n",
       "      <td>16</td>\n",
       "      <td>기타</td>\n",
       "      <td>G4724561361</td>\n",
       "      <td>-1</td>\n",
       "      <td>단풍나무 병풍 디자인 벽 시계 인테리어 그림 저소음</td>\n",
       "      <td>18</td>\n",
       "      <td>20180422093640</td>\n",
       "    </tr>\n",
       "    <tr>\n",
       "      <th>1</th>\n",
       "      <td>17</td>\n",
       "      <td>None</td>\n",
       "      <td>-1</td>\n",
       "      <td>0.590250</td>\n",
       "      <td>None</td>\n",
       "      <td>455</td>\n",
       "      <td>None</td>\n",
       "      <td>O3886316319</td>\n",
       "      <td>-1</td>\n",
       "      <td>[SB몰]ital. Tasche Damentasche Handtasche Trage...</td>\n",
       "      <td>1845</td>\n",
       "      <td>20180303115821</td>\n",
       "    </tr>\n",
       "    <tr>\n",
       "      <th>2</th>\n",
       "      <td>28</td>\n",
       "      <td>None</td>\n",
       "      <td>-1</td>\n",
       "      <td>0.000000</td>\n",
       "      <td>기타</td>\n",
       "      <td>76</td>\n",
       "      <td>기타</td>\n",
       "      <td>M4551712554</td>\n",
       "      <td>-1</td>\n",
       "      <td>세탁기 급수호스 2M 스프레이호스 호수 호스연결 세차</td>\n",
       "      <td>1899</td>\n",
       "      <td>20180412065745</td>\n",
       "    </tr>\n",
       "    <tr>\n",
       "      <th>3</th>\n",
       "      <td>28</td>\n",
       "      <td>상세정보참조</td>\n",
       "      <td>-1</td>\n",
       "      <td>0.445189</td>\n",
       "      <td>상세정보참조</td>\n",
       "      <td>94</td>\n",
       "      <td>인터파크/상세정보참조/전동공구/에어공구/전동공구/전동공구 기타</td>\n",
       "      <td>V1318142173</td>\n",
       "      <td>21190</td>\n",
       "      <td>[행사기간] 롱임팩소켓(롱임팩복스알) 3/4인찌(19mm) 38mm (GENIUS-...</td>\n",
       "      <td>977</td>\n",
       "      <td>20180413025443</td>\n",
       "    </tr>\n",
       "    <tr>\n",
       "      <th>4</th>\n",
       "      <td>54</td>\n",
       "      <td>화환전문점</td>\n",
       "      <td>-1</td>\n",
       "      <td>0.448950</td>\n",
       "      <td>나이스플라워(지역별 자체제작)</td>\n",
       "      <td>467</td>\n",
       "      <td>축하화환</td>\n",
       "      <td>K4427567319</td>\n",
       "      <td>88830</td>\n",
       "      <td>070-7591-8289 신도림웨딩홀 칠순화환 근처화원</td>\n",
       "      <td>2082</td>\n",
       "      <td>20180302104702</td>\n",
       "    </tr>\n",
       "    <tr>\n",
       "      <th>...</th>\n",
       "      <td>...</td>\n",
       "      <td>...</td>\n",
       "      <td>...</td>\n",
       "      <td>...</td>\n",
       "      <td>...</td>\n",
       "      <td>...</td>\n",
       "      <td>...</td>\n",
       "      <td>...</td>\n",
       "      <td>...</td>\n",
       "      <td>...</td>\n",
       "      <td>...</td>\n",
       "      <td>...</td>\n",
       "    </tr>\n",
       "    <tr>\n",
       "      <th>134813</th>\n",
       "      <td>37</td>\n",
       "      <td>None</td>\n",
       "      <td>-1</td>\n",
       "      <td>0.904224</td>\n",
       "      <td>기타</td>\n",
       "      <td>349</td>\n",
       "      <td>기타</td>\n",
       "      <td>T4336486181</td>\n",
       "      <td>-1</td>\n",
       "      <td>스킨다임 핸드크림 피치향(60g)핸드로션 면세점 입점</td>\n",
       "      <td>949</td>\n",
       "      <td>20180406104824</td>\n",
       "    </tr>\n",
       "    <tr>\n",
       "      <th>134814</th>\n",
       "      <td>40</td>\n",
       "      <td>oem</td>\n",
       "      <td>-1</td>\n",
       "      <td>0.000000</td>\n",
       "      <td>oem</td>\n",
       "      <td>100</td>\n",
       "      <td>인터파크/oem/계절/시즌 생활용품/문풍지/방풍비닐</td>\n",
       "      <td>X4551630682</td>\n",
       "      <td>18370</td>\n",
       "      <td>옥상트랩(하수구용 옥상 트랩)사이즈_100파이</td>\n",
       "      <td>1930</td>\n",
       "      <td>20180318032147</td>\n",
       "    </tr>\n",
       "    <tr>\n",
       "      <th>134815</th>\n",
       "      <td>16</td>\n",
       "      <td>소야도자기</td>\n",
       "      <td>-1</td>\n",
       "      <td>1.260320</td>\n",
       "      <td>소야도자기</td>\n",
       "      <td>38</td>\n",
       "      <td>인터파크/소야도자기/식기류/식기류기타</td>\n",
       "      <td>P4506131881</td>\n",
       "      <td>3280</td>\n",
       "      <td>[KB 5% 청구할인]소야 아름 사각종지 (5컬러) 사각종지 종지 여주도자</td>\n",
       "      <td>1420</td>\n",
       "      <td>20180312030353</td>\n",
       "    </tr>\n",
       "    <tr>\n",
       "      <th>134816</th>\n",
       "      <td>23</td>\n",
       "      <td>None</td>\n",
       "      <td>-1</td>\n",
       "      <td>0.088552</td>\n",
       "      <td>기타</td>\n",
       "      <td>425</td>\n",
       "      <td>기타</td>\n",
       "      <td>G4716723552</td>\n",
       "      <td>-1</td>\n",
       "      <td>모서리안전보호대 대 브라운 2M   유아안전 아이</td>\n",
       "      <td>2194</td>\n",
       "      <td>20180419183339</td>\n",
       "    </tr>\n",
       "    <tr>\n",
       "      <th>134817</th>\n",
       "      <td>50</td>\n",
       "      <td>None</td>\n",
       "      <td>-1</td>\n",
       "      <td>0.141478</td>\n",
       "      <td>None</td>\n",
       "      <td>256</td>\n",
       "      <td>쉬바 7세 촉촉한 닭가슴살 in 그레이비 캔 85g x 24</td>\n",
       "      <td>I4430549534</td>\n",
       "      <td>-1</td>\n",
       "      <td>쉬바 7세 촉촉한 닭가슴살 in 그레이비 캔 85g x 24</td>\n",
       "      <td>1208</td>\n",
       "      <td>20180419201254</td>\n",
       "    </tr>\n",
       "  </tbody>\n",
       "</table>\n",
       "<p>134818 rows × 12 columns</p>\n",
       "</div>"
      ],
      "text/plain": [
       "        bcateid   brand  dcateid  img_feat             maker  mcateid  \\\n",
       "0            11    None       -1  0.106391                기타       16   \n",
       "1            17    None       -1  0.590250              None      455   \n",
       "2            28    None       -1  0.000000                기타       76   \n",
       "3            28  상세정보참조       -1  0.445189            상세정보참조       94   \n",
       "4            54   화환전문점       -1  0.448950  나이스플라워(지역별 자체제작)      467   \n",
       "...         ...     ...      ...       ...               ...      ...   \n",
       "134813       37    None       -1  0.904224                기타      349   \n",
       "134814       40     oem       -1  0.000000               oem      100   \n",
       "134815       16   소야도자기       -1  1.260320             소야도자기       38   \n",
       "134816       23    None       -1  0.088552                기타      425   \n",
       "134817       50    None       -1  0.141478              None      256   \n",
       "\n",
       "                                     model          pid  price  \\\n",
       "0                                       기타  G4724561361     -1   \n",
       "1                                     None  O3886316319     -1   \n",
       "2                                       기타  M4551712554     -1   \n",
       "3       인터파크/상세정보참조/전동공구/에어공구/전동공구/전동공구 기타  V1318142173  21190   \n",
       "4                                     축하화환  K4427567319  88830   \n",
       "...                                    ...          ...    ...   \n",
       "134813                                  기타  T4336486181     -1   \n",
       "134814        인터파크/oem/계절/시즌 생활용품/문풍지/방풍비닐  X4551630682  18370   \n",
       "134815                인터파크/소야도자기/식기류/식기류기타  P4506131881   3280   \n",
       "134816                                  기타  G4716723552     -1   \n",
       "134817   쉬바 7세 촉촉한 닭가슴살 in 그레이비 캔 85g x 24  I4430549534     -1   \n",
       "\n",
       "                                                  product  scateid  \\\n",
       "0                            단풍나무 병풍 디자인 벽 시계 인테리어 그림 저소음       18   \n",
       "1       [SB몰]ital. Tasche Damentasche Handtasche Trage...     1845   \n",
       "2                           세탁기 급수호스 2M 스프레이호스 호수 호스연결 세차     1899   \n",
       "3       [행사기간] 롱임팩소켓(롱임팩복스알) 3/4인찌(19mm) 38mm (GENIUS-...      977   \n",
       "4                          070-7591-8289 신도림웨딩홀 칠순화환 근처화원     2082   \n",
       "...                                                   ...      ...   \n",
       "134813                      스킨다임 핸드크림 피치향(60g)핸드로션 면세점 입점      949   \n",
       "134814                          옥상트랩(하수구용 옥상 트랩)사이즈_100파이     1930   \n",
       "134815          [KB 5% 청구할인]소야 아름 사각종지 (5컬러) 사각종지 종지 여주도자     1420   \n",
       "134816                        모서리안전보호대 대 브라운 2M   유아안전 아이     2194   \n",
       "134817                  쉬바 7세 촉촉한 닭가슴살 in 그레이비 캔 85g x 24     1208   \n",
       "\n",
       "                updttm  \n",
       "0       20180422093640  \n",
       "1       20180303115821  \n",
       "2       20180412065745  \n",
       "3       20180413025443  \n",
       "4       20180302104702  \n",
       "...                ...  \n",
       "134813  20180406104824  \n",
       "134814  20180318032147  \n",
       "134815  20180312030353  \n",
       "134816  20180419183339  \n",
       "134817  20180419201254  \n",
       "\n",
       "[134818 rows x 12 columns]"
      ]
     },
     "execution_count": 5,
     "metadata": {},
     "output_type": "execute_result"
    }
   ],
   "source": [
    "dataset"
   ]
  },
  {
   "cell_type": "code",
   "execution_count": 6,
   "metadata": {},
   "outputs": [],
   "source": [
    "def get_label_list(_dataset):\n",
    "    dataset = _dataset\n",
    "    dataset['brand'] = dataset['brand'].fillna('__없음__')\n",
    "    dataset['product'] = dataset['product'].map(lambda x : clean_reivew(x))\n",
    "    dataset = dataset.dropna(subset=['brand']).reset_index(drop=True)\n",
    "    \n",
    "    product = dataset['product'].values\n",
    "    brand = dataset['brand'].values\n",
    "    \n",
    "    def cleaner(_list):\n",
    "        _str = [re.sub('▁', '', s) for s in _list]\n",
    "        _str = [s for s in _str if s]\n",
    "        return _str#re.sub('▁', '', _str)\n",
    "    \n",
    "    dataset['product'] = dataset['product'].map(sp.encode_as_pieces)\n",
    "    dataset['product'] = dataset['product'].map(lambda x: cleaner(x))\n",
    "    label_list = list()\n",
    "    a = [label_list.extend([find(b,p)]) for p,b in zip(product, brand)]\n",
    "    \n",
    "    dataset = dataset[['product' ,'brand']]\n",
    "    dataset['label'] = label_list\n",
    "    \n",
    "\n",
    "    drop_idx = list()\n",
    "    for i,r in tqdm(dataset.iterrows()):\n",
    "        if 'brand-B' not in r['label'] and r['brand'] != '__없음__':#브랜드명이 있으면서 찾아내지 못 한 케이스 제거\n",
    "\n",
    "            drop_idx.append(i)\n",
    "    dataset = dataset.drop(drop_idx)\n",
    "    \n",
    "    return dataset ,drop_idx\n",
    "    "
   ]
  },
  {
   "cell_type": "code",
   "execution_count": 7,
   "metadata": {},
   "outputs": [
    {
     "data": {
      "application/vnd.jupyter.widget-view+json": {
       "model_id": "019c557088a7438abf37a6460f963c4c",
       "version_major": 2,
       "version_minor": 0
      },
      "text/plain": [
       "HBox(children=(FloatProgress(value=1.0, bar_style='info', max=1.0), HTML(value='')))"
      ]
     },
     "metadata": {},
     "output_type": "display_data"
    },
    {
     "name": "stdout",
     "output_type": "stream",
     "text": [
      "\n"
     ]
    }
   ],
   "source": [
    "df,drop_idx = get_label_list(dataset)"
   ]
  },
  {
   "cell_type": "markdown",
   "metadata": {
    "jupyter": {
     "outputs_hidden": true
    }
   },
   "source": [
    "df['label'].tolist()"
   ]
  },
  {
   "cell_type": "code",
   "execution_count": 9,
   "metadata": {},
   "outputs": [],
   "source": [
    "dataset['brand'] = dataset['brand'].fillna('__없음__')"
   ]
  },
  {
   "cell_type": "code",
   "execution_count": 10,
   "metadata": {},
   "outputs": [],
   "source": [
    "dataset['product'] = dataset['product'].map(lambda x : clean_reivew(x))\n",
    "dataset = dataset.dropna(subset=['brand']).reset_index(drop=True)"
   ]
  },
  {
   "cell_type": "code",
   "execution_count": 11,
   "metadata": {},
   "outputs": [],
   "source": [
    "product = dataset['product'].values\n",
    "brand = dataset['brand'].values"
   ]
  },
  {
   "cell_type": "code",
   "execution_count": 12,
   "metadata": {},
   "outputs": [],
   "source": [
    "def cleaner(_list):\n",
    "    _str = [re.sub('▁', '', s) for s in _list]\n",
    "    _str = [s for s in _str if s]\n",
    "    return _str#re.sub('▁', '', _str)"
   ]
  },
  {
   "cell_type": "code",
   "execution_count": 13,
   "metadata": {},
   "outputs": [
    {
     "data": {
      "application/vnd.jupyter.widget-view+json": {
       "model_id": "b37ca0cd230549279381c613eee943c5",
       "version_major": 2,
       "version_minor": 0
      },
      "text/plain": [
       "HBox(children=(FloatProgress(value=1.0, bar_style='info', max=1.0), HTML(value='')))"
      ]
     },
     "metadata": {},
     "output_type": "display_data"
    },
    {
     "name": "stdout",
     "output_type": "stream",
     "text": [
      "\n"
     ]
    }
   ],
   "source": [
    "dataset['product'] = dataset['product'].map(sp.encode_as_pieces)\n",
    "dataset['product'] = dataset['product'].map(lambda x: cleaner(x))\n",
    "label_list = list()\n",
    "a = [label_list.extend([find(b,p)]) for p,b in tqdm(zip(product, brand))]"
   ]
  },
  {
   "cell_type": "code",
   "execution_count": 14,
   "metadata": {},
   "outputs": [
    {
     "data": {
      "text/html": [
       "<div>\n",
       "<style scoped>\n",
       "    .dataframe tbody tr th:only-of-type {\n",
       "        vertical-align: middle;\n",
       "    }\n",
       "\n",
       "    .dataframe tbody tr th {\n",
       "        vertical-align: top;\n",
       "    }\n",
       "\n",
       "    .dataframe thead th {\n",
       "        text-align: right;\n",
       "    }\n",
       "</style>\n",
       "<table border=\"1\" class=\"dataframe\">\n",
       "  <thead>\n",
       "    <tr style=\"text-align: right;\">\n",
       "      <th></th>\n",
       "      <th>bcateid</th>\n",
       "      <th>brand</th>\n",
       "      <th>dcateid</th>\n",
       "      <th>img_feat</th>\n",
       "      <th>maker</th>\n",
       "      <th>mcateid</th>\n",
       "      <th>model</th>\n",
       "      <th>pid</th>\n",
       "      <th>price</th>\n",
       "      <th>product</th>\n",
       "      <th>scateid</th>\n",
       "      <th>updttm</th>\n",
       "    </tr>\n",
       "  </thead>\n",
       "  <tbody>\n",
       "    <tr>\n",
       "      <th>0</th>\n",
       "      <td>11</td>\n",
       "      <td>__없음__</td>\n",
       "      <td>-1</td>\n",
       "      <td>0.106391</td>\n",
       "      <td>기타</td>\n",
       "      <td>16</td>\n",
       "      <td>기타</td>\n",
       "      <td>G4724561361</td>\n",
       "      <td>-1</td>\n",
       "      <td>[단, 풍, 나무, 병, 풍, 디자인, 벽, 시계, 인테리어, 그림, 저소음]</td>\n",
       "      <td>18</td>\n",
       "      <td>20180422093640</td>\n",
       "    </tr>\n",
       "    <tr>\n",
       "      <th>1</th>\n",
       "      <td>17</td>\n",
       "      <td>__없음__</td>\n",
       "      <td>-1</td>\n",
       "      <td>0.590250</td>\n",
       "      <td>None</td>\n",
       "      <td>455</td>\n",
       "      <td>None</td>\n",
       "      <td>O3886316319</td>\n",
       "      <td>-1</td>\n",
       "      <td>[SB, 몰, ital, ., Tasche, Damentasche, Handtasc...</td>\n",
       "      <td>1845</td>\n",
       "      <td>20180303115821</td>\n",
       "    </tr>\n",
       "    <tr>\n",
       "      <th>2</th>\n",
       "      <td>28</td>\n",
       "      <td>__없음__</td>\n",
       "      <td>-1</td>\n",
       "      <td>0.000000</td>\n",
       "      <td>기타</td>\n",
       "      <td>76</td>\n",
       "      <td>기타</td>\n",
       "      <td>M4551712554</td>\n",
       "      <td>-1</td>\n",
       "      <td>[세탁기, 급, 수, 호, 스, M, 스프레이, 호, 스, 호수, 호스, 연결, 세차]</td>\n",
       "      <td>1899</td>\n",
       "      <td>20180412065745</td>\n",
       "    </tr>\n",
       "    <tr>\n",
       "      <th>3</th>\n",
       "      <td>28</td>\n",
       "      <td>상세정보참조</td>\n",
       "      <td>-1</td>\n",
       "      <td>0.445189</td>\n",
       "      <td>상세정보참조</td>\n",
       "      <td>94</td>\n",
       "      <td>인터파크/상세정보참조/전동공구/에어공구/전동공구/전동공구 기타</td>\n",
       "      <td>V1318142173</td>\n",
       "      <td>21190</td>\n",
       "      <td>[행사, 기간, 롱, 임, 팩, 소, 켓, 롱, 임, 팩, 복, 스, 알, 인, 찌...</td>\n",
       "      <td>977</td>\n",
       "      <td>20180413025443</td>\n",
       "    </tr>\n",
       "    <tr>\n",
       "      <th>4</th>\n",
       "      <td>54</td>\n",
       "      <td>화환전문점</td>\n",
       "      <td>-1</td>\n",
       "      <td>0.448950</td>\n",
       "      <td>나이스플라워(지역별 자체제작)</td>\n",
       "      <td>467</td>\n",
       "      <td>축하화환</td>\n",
       "      <td>K4427567319</td>\n",
       "      <td>88830</td>\n",
       "      <td>[신, 도, 림, 웨, 딩, 홀, 칠, 순, 화, 환, 근처, 화, 원]</td>\n",
       "      <td>2082</td>\n",
       "      <td>20180302104702</td>\n",
       "    </tr>\n",
       "    <tr>\n",
       "      <th>...</th>\n",
       "      <td>...</td>\n",
       "      <td>...</td>\n",
       "      <td>...</td>\n",
       "      <td>...</td>\n",
       "      <td>...</td>\n",
       "      <td>...</td>\n",
       "      <td>...</td>\n",
       "      <td>...</td>\n",
       "      <td>...</td>\n",
       "      <td>...</td>\n",
       "      <td>...</td>\n",
       "      <td>...</td>\n",
       "    </tr>\n",
       "    <tr>\n",
       "      <th>134813</th>\n",
       "      <td>37</td>\n",
       "      <td>__없음__</td>\n",
       "      <td>-1</td>\n",
       "      <td>0.904224</td>\n",
       "      <td>기타</td>\n",
       "      <td>349</td>\n",
       "      <td>기타</td>\n",
       "      <td>T4336486181</td>\n",
       "      <td>-1</td>\n",
       "      <td>[스킨, 다, 임, 핸드크림, 피치, 향, g, 핸드, 로션, 면세점, 입, 점]</td>\n",
       "      <td>949</td>\n",
       "      <td>20180406104824</td>\n",
       "    </tr>\n",
       "    <tr>\n",
       "      <th>134814</th>\n",
       "      <td>40</td>\n",
       "      <td>oem</td>\n",
       "      <td>-1</td>\n",
       "      <td>0.000000</td>\n",
       "      <td>oem</td>\n",
       "      <td>100</td>\n",
       "      <td>인터파크/oem/계절/시즌 생활용품/문풍지/방풍비닐</td>\n",
       "      <td>X4551630682</td>\n",
       "      <td>18370</td>\n",
       "      <td>[옥, 상, 트, 랩, 하, 수, 구용, 옥, 상, 트, 랩, 사이즈, 파이]</td>\n",
       "      <td>1930</td>\n",
       "      <td>20180318032147</td>\n",
       "    </tr>\n",
       "    <tr>\n",
       "      <th>134815</th>\n",
       "      <td>16</td>\n",
       "      <td>소야도자기</td>\n",
       "      <td>-1</td>\n",
       "      <td>1.260320</td>\n",
       "      <td>소야도자기</td>\n",
       "      <td>38</td>\n",
       "      <td>인터파크/소야도자기/식기류/식기류기타</td>\n",
       "      <td>P4506131881</td>\n",
       "      <td>3280</td>\n",
       "      <td>[KB, 청구, 할인, 소, 야, 아, 름, 사각, 종, 지, 컬러, 사각, 종, ...</td>\n",
       "      <td>1420</td>\n",
       "      <td>20180312030353</td>\n",
       "    </tr>\n",
       "    <tr>\n",
       "      <th>134816</th>\n",
       "      <td>23</td>\n",
       "      <td>__없음__</td>\n",
       "      <td>-1</td>\n",
       "      <td>0.088552</td>\n",
       "      <td>기타</td>\n",
       "      <td>425</td>\n",
       "      <td>기타</td>\n",
       "      <td>G4716723552</td>\n",
       "      <td>-1</td>\n",
       "      <td>[모서리, 안전, 보호, 대, 대, 브라운, M, 유아, 안전, 아이]</td>\n",
       "      <td>2194</td>\n",
       "      <td>20180419183339</td>\n",
       "    </tr>\n",
       "    <tr>\n",
       "      <th>134817</th>\n",
       "      <td>50</td>\n",
       "      <td>__없음__</td>\n",
       "      <td>-1</td>\n",
       "      <td>0.141478</td>\n",
       "      <td>None</td>\n",
       "      <td>256</td>\n",
       "      <td>쉬바 7세 촉촉한 닭가슴살 in 그레이비 캔 85g x 24</td>\n",
       "      <td>I4430549534</td>\n",
       "      <td>-1</td>\n",
       "      <td>[쉬, 바, 세, 촉촉한, 닭가슴살, in, 그레이, 비, 캔, g, x]</td>\n",
       "      <td>1208</td>\n",
       "      <td>20180419201254</td>\n",
       "    </tr>\n",
       "  </tbody>\n",
       "</table>\n",
       "<p>134818 rows × 12 columns</p>\n",
       "</div>"
      ],
      "text/plain": [
       "        bcateid   brand  dcateid  img_feat             maker  mcateid  \\\n",
       "0            11  __없음__       -1  0.106391                기타       16   \n",
       "1            17  __없음__       -1  0.590250              None      455   \n",
       "2            28  __없음__       -1  0.000000                기타       76   \n",
       "3            28  상세정보참조       -1  0.445189            상세정보참조       94   \n",
       "4            54   화환전문점       -1  0.448950  나이스플라워(지역별 자체제작)      467   \n",
       "...         ...     ...      ...       ...               ...      ...   \n",
       "134813       37  __없음__       -1  0.904224                기타      349   \n",
       "134814       40     oem       -1  0.000000               oem      100   \n",
       "134815       16   소야도자기       -1  1.260320             소야도자기       38   \n",
       "134816       23  __없음__       -1  0.088552                기타      425   \n",
       "134817       50  __없음__       -1  0.141478              None      256   \n",
       "\n",
       "                                     model          pid  price  \\\n",
       "0                                       기타  G4724561361     -1   \n",
       "1                                     None  O3886316319     -1   \n",
       "2                                       기타  M4551712554     -1   \n",
       "3       인터파크/상세정보참조/전동공구/에어공구/전동공구/전동공구 기타  V1318142173  21190   \n",
       "4                                     축하화환  K4427567319  88830   \n",
       "...                                    ...          ...    ...   \n",
       "134813                                  기타  T4336486181     -1   \n",
       "134814        인터파크/oem/계절/시즌 생활용품/문풍지/방풍비닐  X4551630682  18370   \n",
       "134815                인터파크/소야도자기/식기류/식기류기타  P4506131881   3280   \n",
       "134816                                  기타  G4716723552     -1   \n",
       "134817   쉬바 7세 촉촉한 닭가슴살 in 그레이비 캔 85g x 24  I4430549534     -1   \n",
       "\n",
       "                                                  product  scateid  \\\n",
       "0             [단, 풍, 나무, 병, 풍, 디자인, 벽, 시계, 인테리어, 그림, 저소음]       18   \n",
       "1       [SB, 몰, ital, ., Tasche, Damentasche, Handtasc...     1845   \n",
       "2        [세탁기, 급, 수, 호, 스, M, 스프레이, 호, 스, 호수, 호스, 연결, 세차]     1899   \n",
       "3       [행사, 기간, 롱, 임, 팩, 소, 켓, 롱, 임, 팩, 복, 스, 알, 인, 찌...      977   \n",
       "4                [신, 도, 림, 웨, 딩, 홀, 칠, 순, 화, 환, 근처, 화, 원]     2082   \n",
       "...                                                   ...      ...   \n",
       "134813      [스킨, 다, 임, 핸드크림, 피치, 향, g, 핸드, 로션, 면세점, 입, 점]      949   \n",
       "134814        [옥, 상, 트, 랩, 하, 수, 구용, 옥, 상, 트, 랩, 사이즈, 파이]     1930   \n",
       "134815  [KB, 청구, 할인, 소, 야, 아, 름, 사각, 종, 지, 컬러, 사각, 종, ...     1420   \n",
       "134816            [모서리, 안전, 보호, 대, 대, 브라운, M, 유아, 안전, 아이]     2194   \n",
       "134817          [쉬, 바, 세, 촉촉한, 닭가슴살, in, 그레이, 비, 캔, g, x]     1208   \n",
       "\n",
       "                updttm  \n",
       "0       20180422093640  \n",
       "1       20180303115821  \n",
       "2       20180412065745  \n",
       "3       20180413025443  \n",
       "4       20180302104702  \n",
       "...                ...  \n",
       "134813  20180406104824  \n",
       "134814  20180318032147  \n",
       "134815  20180312030353  \n",
       "134816  20180419183339  \n",
       "134817  20180419201254  \n",
       "\n",
       "[134818 rows x 12 columns]"
      ]
     },
     "execution_count": 14,
     "metadata": {},
     "output_type": "execute_result"
    }
   ],
   "source": [
    "dataset"
   ]
  },
  {
   "cell_type": "code",
   "execution_count": 15,
   "metadata": {},
   "outputs": [
    {
     "name": "stderr",
     "output_type": "stream",
     "text": [
      "/home/literai-deploy/.conda/envs/ai_report/lib/python3.7/site-packages/ipykernel_launcher.py:2: SettingWithCopyWarning: \n",
      "A value is trying to be set on a copy of a slice from a DataFrame.\n",
      "Try using .loc[row_indexer,col_indexer] = value instead\n",
      "\n",
      "See the caveats in the documentation: https://pandas.pydata.org/pandas-docs/stable/user_guide/indexing.html#returning-a-view-versus-a-copy\n",
      "  \n"
     ]
    }
   ],
   "source": [
    "dataset = dataset[['product' ,'brand']]\n",
    "dataset['label'] = label_list"
   ]
  },
  {
   "cell_type": "code",
   "execution_count": 16,
   "metadata": {},
   "outputs": [
    {
     "data": {
      "application/vnd.jupyter.widget-view+json": {
       "model_id": "b310d1ea289240afa14bf15471abb2e3",
       "version_major": 2,
       "version_minor": 0
      },
      "text/plain": [
       "HBox(children=(FloatProgress(value=1.0, bar_style='info', max=1.0), HTML(value='')))"
      ]
     },
     "metadata": {},
     "output_type": "display_data"
    },
    {
     "name": "stdout",
     "output_type": "stream",
     "text": [
      "\n"
     ]
    }
   ],
   "source": [
    "drop_idx = list()\n",
    "for i,r in tqdm(dataset.iterrows()):\n",
    "    if 'brand-B' not in r['label'] and r['brand'] != '__없음__':#브랜드명이 있으면서 찾아내지 못 한 케이스 제거\n",
    "        \n",
    "        drop_idx.append(i)\n"
   ]
  },
  {
   "cell_type": "code",
   "execution_count": null,
   "metadata": {},
   "outputs": [],
   "source": []
  },
  {
   "cell_type": "code",
   "execution_count": null,
   "metadata": {},
   "outputs": [],
   "source": []
  },
  {
   "cell_type": "code",
   "execution_count": null,
   "metadata": {},
   "outputs": [],
   "source": []
  },
  {
   "cell_type": "code",
   "execution_count": null,
   "metadata": {},
   "outputs": [],
   "source": [
    "dataset = dataset.drop(drop_idx)"
   ]
  },
  {
   "cell_type": "code",
   "execution_count": 15,
   "metadata": {},
   "outputs": [],
   "source": [
    "df1 = dataset[dataset['brand'] != '__없음__']\n",
    "df2 = dataset[dataset['brand'] == '__없음__']"
   ]
  },
  {
   "cell_type": "code",
   "execution_count": 16,
   "metadata": {},
   "outputs": [],
   "source": [
    "data_len = min(df1.shape[0], df2.shape[0])"
   ]
  },
  {
   "cell_type": "code",
   "execution_count": 17,
   "metadata": {},
   "outputs": [],
   "source": [
    "if len(df1) < len(df2):\n",
    "    df1 = df1.reset_index(drop=True)\n",
    "    df2 = df2.sample(data_len).reset_index(drop=True)\n",
    "else:\n",
    "    df1 = df1.sample(data_len).reset_index(drop=True)\n",
    "    df2 = df2.reset_index(drop=True)"
   ]
  },
  {
   "cell_type": "code",
   "execution_count": 18,
   "metadata": {},
   "outputs": [],
   "source": [
    "def joiner(_list):\n",
    "    return ' '.join(_list)"
   ]
  },
  {
   "cell_type": "code",
   "execution_count": 19,
   "metadata": {},
   "outputs": [],
   "source": [
    "df1['product'] = df1['product'].map(lambda x: joiner(x))\n",
    "df2['product'] = df2['product'].map(lambda x: joiner(x))"
   ]
  },
  {
   "cell_type": "code",
   "execution_count": 20,
   "metadata": {},
   "outputs": [],
   "source": [
    "df1['label'] = df1['label'].map(lambda x: joiner(x))\n",
    "df2['label'] = df2['label'].map(lambda x: joiner(x))"
   ]
  },
  {
   "cell_type": "code",
   "execution_count": 19,
   "metadata": {},
   "outputs": [],
   "source": [
    "def split_concat(df1, df2=None, train_size = 0.85):\n",
    "    \"\"\"\n",
    "    df1 = brand명 있는 df\n",
    "    df2 = brand명 없는 df\n",
    "    \"\"\"\n",
    "    if df2:\n",
    "        df1 = df1.drop(['brand'],axis = 1)\n",
    "        df2 = df2.drop(['brand'], axis = 1)\n",
    "\n",
    "        df1_size = df1.shape[0]\n",
    "        df2_size = df2.shape[0]\n",
    "\n",
    "        df1_train = df1.loc[:(int)(df1_size*train_size)]\n",
    "        df1_test  = df1.loc[(int)(df1_size*train_size):]\n",
    "\n",
    "\n",
    "        df2_train = df2.loc[:(int)(df2_size*train_size)]\n",
    "        df2_test  = df2.loc[(int)(df2_size*train_size):]\n",
    "\n",
    "        train = pd.concat([df1_train, df2_train])\n",
    "        test = pd.concat([df1_test, df2_test])\n",
    "\n",
    "        train = train.sample(len(train)).reset_index(drop=True)\n",
    "        test = test.sample(len(test)).reset_index(drop=True)\n",
    "\n",
    "\n",
    "\n",
    "        #size = dataframe.shape[0]\n",
    "        #train = dataframe.loc[:(int)(size*train_size)]\n",
    "        #test = dataframe.loc[(int)(size*train_size):]\n",
    "        #test = test.reset_index(drop=True)\n",
    "\n",
    "        return train, test\n",
    "    \n",
    "    else:\n",
    "        size = df1.shape[0]\n",
    "        train = df1.loc[:(int)(size*train_size)]\n",
    "        test = df1.loc[(int)(size*train_size):]\n",
    "        test = test.reset_index(drop=True)\n",
    "        train = train.sample(len(train)).reset_index(drop=True)\n",
    "        test = test.sample(len(test)).reset_index(drop=True)\n",
    "        \n",
    "        return train, test"
   ]
  },
  {
   "cell_type": "code",
   "execution_count": 8,
   "metadata": {},
   "outputs": [
    {
     "ename": "NameError",
     "evalue": "name 'df1' is not defined",
     "output_type": "error",
     "traceback": [
      "\u001b[0;31m---------------------------------------------------------------------------\u001b[0m",
      "\u001b[0;31mNameError\u001b[0m                                 Traceback (most recent call last)",
      "\u001b[0;32m<ipython-input-8-b98b7dcf3528>\u001b[0m in \u001b[0;36m<module>\u001b[0;34m\u001b[0m\n\u001b[0;32m----> 1\u001b[0;31m \u001b[0mtrain\u001b[0m\u001b[0;34m,\u001b[0m \u001b[0mtest\u001b[0m \u001b[0;34m=\u001b[0m \u001b[0msplit_concat\u001b[0m\u001b[0;34m(\u001b[0m\u001b[0mdf1\u001b[0m\u001b[0;34m,\u001b[0m \u001b[0mdf2\u001b[0m\u001b[0;34m)\u001b[0m\u001b[0;34m\u001b[0m\u001b[0;34m\u001b[0m\u001b[0m\n\u001b[0m",
      "\u001b[0;31mNameError\u001b[0m: name 'df1' is not defined"
     ]
    }
   ],
   "source": [
    "train, test = split_concat(df1, df2)"
   ]
  },
  {
   "cell_type": "code",
   "execution_count": 23,
   "metadata": {},
   "outputs": [
    {
     "data": {
      "text/html": [
       "<div>\n",
       "<style scoped>\n",
       "    .dataframe tbody tr th:only-of-type {\n",
       "        vertical-align: middle;\n",
       "    }\n",
       "\n",
       "    .dataframe tbody tr th {\n",
       "        vertical-align: top;\n",
       "    }\n",
       "\n",
       "    .dataframe thead th {\n",
       "        text-align: right;\n",
       "    }\n",
       "</style>\n",
       "<table border=\"1\" class=\"dataframe\">\n",
       "  <thead>\n",
       "    <tr style=\"text-align: right;\">\n",
       "      <th></th>\n",
       "      <th>product</th>\n",
       "      <th>label</th>\n",
       "    </tr>\n",
       "  </thead>\n",
       "  <tbody>\n",
       "    <tr>\n",
       "      <th>0</th>\n",
       "      <td>일 신 케 미 칼 스토어 라이트 필름 칼라 투명 시트지 헤드 데 루 등 안개 등</td>\n",
       "      <td>brand-B brand-I brand-I brand-I brand-I brand-...</td>\n",
       "    </tr>\n",
       "    <tr>\n",
       "      <th>1</th>\n",
       "      <td>꾸 밈 ip 여름 엔 역시 시원 한 아이스 카페 라떼 그래 픽 스티커</td>\n",
       "      <td>brand-B brand-I O O O O O O O O O O O O</td>\n",
       "    </tr>\n",
       "    <tr>\n",
       "      <th>2</th>\n",
       "      <td>공구 커 터 칼 Active cutter 컷 터 칼 문 구 총 알 배송</td>\n",
       "      <td>O O O O O O O O O O O O O O</td>\n",
       "    </tr>\n",
       "    <tr>\n",
       "      <th>3</th>\n",
       "      <td>하 프 클럽 씨 투 써 미 트 컴 포트 플러스 LGRTcmP</td>\n",
       "      <td>O O O brand-B brand-I brand-I brand-I brand-I ...</td>\n",
       "    </tr>\n",
       "    <tr>\n",
       "      <th>4</th>\n",
       "      <td>파 나 소 닉 베 가 와 이드 블 랭 크 플레이 트 맹 커버 덮개</td>\n",
       "      <td>brand-B brand-I brand-I brand-I O O O O O O O ...</td>\n",
       "    </tr>\n",
       "    <tr>\n",
       "      <th>...</th>\n",
       "      <td>...</td>\n",
       "      <td>...</td>\n",
       "    </tr>\n",
       "    <tr>\n",
       "      <th>48743</th>\n",
       "      <td>C 에버 드림 휴대용 돌 돌이 지 사 썬 캡 아웃 도 어 모자 등 산 모자 단체 모...</td>\n",
       "      <td>O O O O O O O O O O O O O O O O O O O O O O O O O</td>\n",
       "    </tr>\n",
       "    <tr>\n",
       "      <th>48744</th>\n",
       "      <td>해외 폴 에 디 트 해외 쇼핑 Ventev dashport q Qualcomm Qu...</td>\n",
       "      <td>O O O O O O O brand-B O O O O O O O O O O</td>\n",
       "    </tr>\n",
       "    <tr>\n",
       "      <th>48745</th>\n",
       "      <td>해외 FAST SHIP Propellers for Parrot MiniDrones ...</td>\n",
       "      <td>O O O O O O O O O O O O O O O O O O</td>\n",
       "    </tr>\n",
       "    <tr>\n",
       "      <th>48746</th>\n",
       "      <td>쌀 바가 지 중 자루 바가 지 바가 지 손잡이 바가 지 욕실</td>\n",
       "      <td>O O O O O O O O O O O O O</td>\n",
       "    </tr>\n",
       "    <tr>\n",
       "      <th>48747</th>\n",
       "      <td>나이키 운동화 BG 줌 윈 플 로 남성용 런</td>\n",
       "      <td>brand-B O O O O O O O O</td>\n",
       "    </tr>\n",
       "  </tbody>\n",
       "</table>\n",
       "<p>48748 rows × 2 columns</p>\n",
       "</div>"
      ],
      "text/plain": [
       "                                                 product  \\\n",
       "0           일 신 케 미 칼 스토어 라이트 필름 칼라 투명 시트지 헤드 데 루 등 안개 등   \n",
       "1                 꾸 밈 ip 여름 엔 역시 시원 한 아이스 카페 라떼 그래 픽 스티커   \n",
       "2                공구 커 터 칼 Active cutter 컷 터 칼 문 구 총 알 배송   \n",
       "3                      하 프 클럽 씨 투 써 미 트 컴 포트 플러스 LGRTcmP   \n",
       "4                   파 나 소 닉 베 가 와 이드 블 랭 크 플레이 트 맹 커버 덮개   \n",
       "...                                                  ...   \n",
       "48743  C 에버 드림 휴대용 돌 돌이 지 사 썬 캡 아웃 도 어 모자 등 산 모자 단체 모...   \n",
       "48744  해외 폴 에 디 트 해외 쇼핑 Ventev dashport q Qualcomm Qu...   \n",
       "48745  해외 FAST SHIP Propellers for Parrot MiniDrones ...   \n",
       "48746                  쌀 바가 지 중 자루 바가 지 바가 지 손잡이 바가 지 욕실   \n",
       "48747                           나이키 운동화 BG 줌 윈 플 로 남성용 런   \n",
       "\n",
       "                                                   label  \n",
       "0      brand-B brand-I brand-I brand-I brand-I brand-...  \n",
       "1                brand-B brand-I O O O O O O O O O O O O  \n",
       "2                            O O O O O O O O O O O O O O  \n",
       "3      O O O brand-B brand-I brand-I brand-I brand-I ...  \n",
       "4      brand-B brand-I brand-I brand-I O O O O O O O ...  \n",
       "...                                                  ...  \n",
       "48743  O O O O O O O O O O O O O O O O O O O O O O O O O  \n",
       "48744          O O O O O O O brand-B O O O O O O O O O O  \n",
       "48745                O O O O O O O O O O O O O O O O O O  \n",
       "48746                          O O O O O O O O O O O O O  \n",
       "48747                            brand-B O O O O O O O O  \n",
       "\n",
       "[48748 rows x 2 columns]"
      ]
     },
     "execution_count": 23,
     "metadata": {},
     "output_type": "execute_result"
    }
   ],
   "source": [
    "train"
   ]
  },
  {
   "cell_type": "code",
   "execution_count": 24,
   "metadata": {},
   "outputs": [
    {
     "data": {
      "text/html": [
       "<div>\n",
       "<style scoped>\n",
       "    .dataframe tbody tr th:only-of-type {\n",
       "        vertical-align: middle;\n",
       "    }\n",
       "\n",
       "    .dataframe tbody tr th {\n",
       "        vertical-align: top;\n",
       "    }\n",
       "\n",
       "    .dataframe thead th {\n",
       "        text-align: right;\n",
       "    }\n",
       "</style>\n",
       "<table border=\"1\" class=\"dataframe\">\n",
       "  <thead>\n",
       "    <tr style=\"text-align: right;\">\n",
       "      <th></th>\n",
       "      <th>product</th>\n",
       "      <th>label</th>\n",
       "    </tr>\n",
       "  </thead>\n",
       "  <tbody>\n",
       "    <tr>\n",
       "      <th>0</th>\n",
       "      <td>까 르 띠 에 산 토스 드 모 아 젤 S 콤 비 총 배송 기간 일</td>\n",
       "      <td>O O O O O O O O O O O O O O O O O</td>\n",
       "    </tr>\n",
       "    <tr>\n",
       "      <th>1</th>\n",
       "      <td>독일 POPELINE 원피스 캐 쥬 얼 드레스</td>\n",
       "      <td>O O O O O O O</td>\n",
       "    </tr>\n",
       "    <tr>\n",
       "      <th>2</th>\n",
       "      <td>HP 정품 잉크 NO . XL 대용량 검정 매 H</td>\n",
       "      <td>O O O O O O O O O O</td>\n",
       "    </tr>\n",
       "    <tr>\n",
       "      <th>3</th>\n",
       "      <td>스타 전기 기구 제조 스 즈 키 도 SUZUKID S .</td>\n",
       "      <td>O O O O O O O O O O O</td>\n",
       "    </tr>\n",
       "    <tr>\n",
       "      <th>4</th>\n",
       "      <td>가격 준 수 감 좋은 햇 빛 청 춘 새 치 커버 염색 저 자극 헤어</td>\n",
       "      <td>O O O O O O O O O O O O O O O O</td>\n",
       "    </tr>\n",
       "    <tr>\n",
       "      <th>...</th>\n",
       "      <td>...</td>\n",
       "      <td>...</td>\n",
       "    </tr>\n",
       "    <tr>\n",
       "      <th>8599</th>\n",
       "      <td>바보 디자인 브리 더 애 견 배변 판 오렌지 xcm</td>\n",
       "      <td>O O O O O O O O O O</td>\n",
       "    </tr>\n",
       "    <tr>\n",
       "      <th>8600</th>\n",
       "      <td>기타 타이틀 리스트 투어 스포츠 메 쉬 투어 엘 리트 골프 모자 .</td>\n",
       "      <td>brand-B O O O O O O O O O O O O</td>\n",
       "    </tr>\n",
       "    <tr>\n",
       "      <th>8601</th>\n",
       "      <td>편한 가 게 대상 청정 원 순 창 재래 식 안심 생 된장 KG 쌈</td>\n",
       "      <td>O O O O O O O O O O O O O O O</td>\n",
       "    </tr>\n",
       "    <tr>\n",
       "      <th>8602</th>\n",
       "      <td>세트 프리 미 엄 로얄 캔 참 치 새우 gX 개 고양이 캔</td>\n",
       "      <td>O brand-B brand-I brand-I brand-I brand-I O O ...</td>\n",
       "    </tr>\n",
       "    <tr>\n",
       "      <th>8603</th>\n",
       "      <td>파 버 카 스텔 커넥터 펜 색 and 비밀 의 정원</td>\n",
       "      <td>O O O O O O O O O O O</td>\n",
       "    </tr>\n",
       "  </tbody>\n",
       "</table>\n",
       "<p>8604 rows × 2 columns</p>\n",
       "</div>"
      ],
      "text/plain": [
       "                                    product  \\\n",
       "0      까 르 띠 에 산 토스 드 모 아 젤 S 콤 비 총 배송 기간 일   \n",
       "1                 독일 POPELINE 원피스 캐 쥬 얼 드레스   \n",
       "2               HP 정품 잉크 NO . XL 대용량 검정 매 H   \n",
       "3           스타 전기 기구 제조 스 즈 키 도 SUZUKID S .   \n",
       "4     가격 준 수 감 좋은 햇 빛 청 춘 새 치 커버 염색 저 자극 헤어   \n",
       "...                                     ...   \n",
       "8599           바보 디자인 브리 더 애 견 배변 판 오렌지 xcm   \n",
       "8600  기타 타이틀 리스트 투어 스포츠 메 쉬 투어 엘 리트 골프 모자 .   \n",
       "8601   편한 가 게 대상 청정 원 순 창 재래 식 안심 생 된장 KG 쌈   \n",
       "8602       세트 프리 미 엄 로얄 캔 참 치 새우 gX 개 고양이 캔   \n",
       "8603           파 버 카 스텔 커넥터 펜 색 and 비밀 의 정원   \n",
       "\n",
       "                                                  label  \n",
       "0                     O O O O O O O O O O O O O O O O O  \n",
       "1                                         O O O O O O O  \n",
       "2                                   O O O O O O O O O O  \n",
       "3                                 O O O O O O O O O O O  \n",
       "4                       O O O O O O O O O O O O O O O O  \n",
       "...                                                 ...  \n",
       "8599                                O O O O O O O O O O  \n",
       "8600                    brand-B O O O O O O O O O O O O  \n",
       "8601                      O O O O O O O O O O O O O O O  \n",
       "8602  O brand-B brand-I brand-I brand-I brand-I O O ...  \n",
       "8603                              O O O O O O O O O O O  \n",
       "\n",
       "[8604 rows x 2 columns]"
      ]
     },
     "execution_count": 24,
     "metadata": {},
     "output_type": "execute_result"
    }
   ],
   "source": [
    "test"
   ]
  },
  {
   "cell_type": "code",
   "execution_count": 27,
   "metadata": {},
   "outputs": [],
   "source": [
    "train.to_csv('train.tsv',sep='\\t',index=False, header=None)"
   ]
  },
  {
   "cell_type": "code",
   "execution_count": 28,
   "metadata": {},
   "outputs": [],
   "source": [
    "test.to_csv('test.tsv',sep='\\t',index=False, header=None)"
   ]
  },
  {
   "cell_type": "code",
   "execution_count": null,
   "metadata": {},
   "outputs": [],
   "source": []
  },
  {
   "cell_type": "code",
   "execution_count": null,
   "metadata": {},
   "outputs": [],
   "source": []
  },
  {
   "cell_type": "code",
   "execution_count": null,
   "metadata": {},
   "outputs": [],
   "source": []
  },
  {
   "cell_type": "code",
   "execution_count": 22,
   "metadata": {},
   "outputs": [
    {
     "data": {
      "text/plain": [
       "1"
      ]
     },
     "execution_count": 22,
     "metadata": {},
     "output_type": "execute_result"
    }
   ],
   "source": [
    "len(train.loc[0][0].split(' '))"
   ]
  },
  {
   "cell_type": "code",
   "execution_count": 23,
   "metadata": {},
   "outputs": [
    {
     "data": {
      "text/plain": [
       "7"
      ]
     },
     "execution_count": 23,
     "metadata": {},
     "output_type": "execute_result"
    }
   ],
   "source": [
    "len(train.loc[0][1].split(' '))"
   ]
  },
  {
   "cell_type": "code",
   "execution_count": 24,
   "metadata": {},
   "outputs": [],
   "source": [
    "a= [len(r[0].split(' ')) != len(r[1].split(' ')) for t, r in test.iterrows()]"
   ]
  },
  {
   "cell_type": "code",
   "execution_count": 25,
   "metadata": {},
   "outputs": [],
   "source": [
    "aa = pd.DataFrame(a)"
   ]
  },
  {
   "cell_type": "code",
   "execution_count": 26,
   "metadata": {},
   "outputs": [
    {
     "data": {
      "text/html": [
       "<div>\n",
       "<style scoped>\n",
       "    .dataframe tbody tr th:only-of-type {\n",
       "        vertical-align: middle;\n",
       "    }\n",
       "\n",
       "    .dataframe tbody tr th {\n",
       "        vertical-align: top;\n",
       "    }\n",
       "\n",
       "    .dataframe thead th {\n",
       "        text-align: right;\n",
       "    }\n",
       "</style>\n",
       "<table border=\"1\" class=\"dataframe\">\n",
       "  <thead>\n",
       "    <tr style=\"text-align: right;\">\n",
       "      <th></th>\n",
       "      <th>0</th>\n",
       "    </tr>\n",
       "  </thead>\n",
       "  <tbody>\n",
       "    <tr>\n",
       "      <th>1</th>\n",
       "      <td>True</td>\n",
       "    </tr>\n",
       "    <tr>\n",
       "      <th>2</th>\n",
       "      <td>True</td>\n",
       "    </tr>\n",
       "    <tr>\n",
       "      <th>3</th>\n",
       "      <td>True</td>\n",
       "    </tr>\n",
       "    <tr>\n",
       "      <th>4</th>\n",
       "      <td>True</td>\n",
       "    </tr>\n",
       "    <tr>\n",
       "      <th>5</th>\n",
       "      <td>True</td>\n",
       "    </tr>\n",
       "    <tr>\n",
       "      <th>...</th>\n",
       "      <td>...</td>\n",
       "    </tr>\n",
       "    <tr>\n",
       "      <th>17201</th>\n",
       "      <td>True</td>\n",
       "    </tr>\n",
       "    <tr>\n",
       "      <th>17202</th>\n",
       "      <td>True</td>\n",
       "    </tr>\n",
       "    <tr>\n",
       "      <th>17203</th>\n",
       "      <td>True</td>\n",
       "    </tr>\n",
       "    <tr>\n",
       "      <th>17204</th>\n",
       "      <td>True</td>\n",
       "    </tr>\n",
       "    <tr>\n",
       "      <th>17205</th>\n",
       "      <td>True</td>\n",
       "    </tr>\n",
       "  </tbody>\n",
       "</table>\n",
       "<p>16546 rows × 1 columns</p>\n",
       "</div>"
      ],
      "text/plain": [
       "          0\n",
       "1      True\n",
       "2      True\n",
       "3      True\n",
       "4      True\n",
       "5      True\n",
       "...     ...\n",
       "17201  True\n",
       "17202  True\n",
       "17203  True\n",
       "17204  True\n",
       "17205  True\n",
       "\n",
       "[16546 rows x 1 columns]"
      ]
     },
     "execution_count": 26,
     "metadata": {},
     "output_type": "execute_result"
    }
   ],
   "source": [
    "aa[aa[0] == True]"
   ]
  },
  {
   "cell_type": "code",
   "execution_count": 27,
   "metadata": {},
   "outputs": [
    {
     "data": {
      "text/html": [
       "<div>\n",
       "<style scoped>\n",
       "    .dataframe tbody tr th:only-of-type {\n",
       "        vertical-align: middle;\n",
       "    }\n",
       "\n",
       "    .dataframe tbody tr th {\n",
       "        vertical-align: top;\n",
       "    }\n",
       "\n",
       "    .dataframe thead th {\n",
       "        text-align: right;\n",
       "    }\n",
       "</style>\n",
       "<table border=\"1\" class=\"dataframe\">\n",
       "  <thead>\n",
       "    <tr style=\"text-align: right;\">\n",
       "      <th></th>\n",
       "      <th>brand</th>\n",
       "      <th>product</th>\n",
       "    </tr>\n",
       "  </thead>\n",
       "  <tbody>\n",
       "    <tr>\n",
       "      <th>0</th>\n",
       "      <td>__없음__</td>\n",
       "      <td>오줌싸개 printing 오토바이크   스티커카스티커헬멧튜닝</td>\n",
       "    </tr>\n",
       "    <tr>\n",
       "      <th>1</th>\n",
       "      <td>__없음__</td>\n",
       "      <td>씽크대배수구청소캡 대형</td>\n",
       "    </tr>\n",
       "    <tr>\n",
       "      <th>2</th>\n",
       "      <td>쁘띠바또</td>\n",
       "      <td>쁘띠바또 키즈 레드꽃 방수배낭</td>\n",
       "    </tr>\n",
       "    <tr>\n",
       "      <th>3</th>\n",
       "      <td>__없음__</td>\n",
       "      <td>해외쇼핑Apollo Small Cuff</td>\n",
       "    </tr>\n",
       "    <tr>\n",
       "      <th>4</th>\n",
       "      <td>삼성</td>\n",
       "      <td>삼성 SCX 정품토너 SCXDC</td>\n",
       "    </tr>\n",
       "    <tr>\n",
       "      <th>...</th>\n",
       "      <td>...</td>\n",
       "      <td>...</td>\n",
       "    </tr>\n",
       "    <tr>\n",
       "      <th>40141</th>\n",
       "      <td>디젤</td>\n",
       "      <td>아트박스 POOM디젤 국내배송  QR인증 DIESEL 디젤 DZ</td>\n",
       "    </tr>\n",
       "    <tr>\n",
       "      <th>40142</th>\n",
       "      <td>__없음__</td>\n",
       "      <td>스와들디자인 코튼 블루리틀치킨</td>\n",
       "    </tr>\n",
       "    <tr>\n",
       "      <th>40143</th>\n",
       "      <td>에뜨와</td>\n",
       "      <td>롯데백화점에뜨와밀리 밤비 내의 J</td>\n",
       "    </tr>\n",
       "    <tr>\n",
       "      <th>40144</th>\n",
       "      <td>__없음__</td>\n",
       "      <td>해외high quanlity depression slidesingle notch 페...</td>\n",
       "    </tr>\n",
       "    <tr>\n",
       "      <th>40145</th>\n",
       "      <td>__없음__</td>\n",
       "      <td>Geewhiz Vodisa Makeup Glitter Eyeshadow Palett...</td>\n",
       "    </tr>\n",
       "  </tbody>\n",
       "</table>\n",
       "<p>40146 rows × 2 columns</p>\n",
       "</div>"
      ],
      "text/plain": [
       "        brand                                            product\n",
       "0      __없음__                  오줌싸개 printing 오토바이크   스티커카스티커헬멧튜닝\n",
       "1      __없음__                                       씽크대배수구청소캡 대형\n",
       "2        쁘띠바또                                  쁘띠바또 키즈 레드꽃 방수배낭 \n",
       "3      __없음__                              해외쇼핑Apollo Small Cuff\n",
       "4          삼성                                  삼성 SCX 정품토너 SCXDC\n",
       "...       ...                                                ...\n",
       "40141      디젤                아트박스 POOM디젤 국내배송  QR인증 DIESEL 디젤 DZ\n",
       "40142  __없음__                                   스와들디자인 코튼 블루리틀치킨\n",
       "40143     에뜨와                                 롯데백화점에뜨와밀리 밤비 내의 J\n",
       "40144  __없음__  해외high quanlity depression slidesingle notch 페...\n",
       "40145  __없음__  Geewhiz Vodisa Makeup Glitter Eyeshadow Palett...\n",
       "\n",
       "[40146 rows x 2 columns]"
      ]
     },
     "execution_count": 27,
     "metadata": {},
     "output_type": "execute_result"
    }
   ],
   "source": [
    "train"
   ]
  },
  {
   "cell_type": "code",
   "execution_count": 28,
   "metadata": {},
   "outputs": [],
   "source": [
    "test = test[['product']]"
   ]
  },
  {
   "cell_type": "code",
   "execution_count": 29,
   "metadata": {},
   "outputs": [],
   "source": [
    "test.to_csv('test_sample2.txt', index=False, header=None, sep=\"\\t\")"
   ]
  },
  {
   "cell_type": "code",
   "execution_count": null,
   "metadata": {},
   "outputs": [],
   "source": []
  },
  {
   "cell_type": "code",
   "execution_count": null,
   "metadata": {},
   "outputs": [],
   "source": []
  },
  {
   "cell_type": "code",
   "execution_count": null,
   "metadata": {},
   "outputs": [],
   "source": []
  },
  {
   "cell_type": "code",
   "execution_count": null,
   "metadata": {},
   "outputs": [],
   "source": []
  },
  {
   "cell_type": "code",
   "execution_count": null,
   "metadata": {},
   "outputs": [],
   "source": []
  },
  {
   "cell_type": "code",
   "execution_count": null,
   "metadata": {},
   "outputs": [],
   "source": []
  },
  {
   "cell_type": "code",
   "execution_count": null,
   "metadata": {},
   "outputs": [],
   "source": []
  },
  {
   "cell_type": "code",
   "execution_count": null,
   "metadata": {},
   "outputs": [],
   "source": []
  },
  {
   "cell_type": "code",
   "execution_count": null,
   "metadata": {},
   "outputs": [],
   "source": []
  },
  {
   "cell_type": "code",
   "execution_count": null,
   "metadata": {},
   "outputs": [],
   "source": []
  },
  {
   "cell_type": "code",
   "execution_count": 1,
   "metadata": {},
   "outputs": [],
   "source": [
    "from itertools import islice\n",
    "import pandas as pd\n",
    "import h5py\n",
    "import regex as re\n",
    "import sentencepiece as spm\n",
    "from sklearn.model_selection import train_test_split\n",
    "from tqdm.notebook import tqdm"
   ]
  },
  {
   "cell_type": "code",
   "execution_count": 2,
   "metadata": {},
   "outputs": [],
   "source": [
    "sp = spm.SentencePieceProcessor()\n",
    "sp.Load('global_spm.model')\n",
    "temp = h5py.File('dataset/train.chunk.09', 'r')['train']\n",
    "dataset = pd.DataFrame(columns=temp.keys())\n",
    "for k, v in temp.items():\n",
    "    dataset[k] = v[()]\n",
    "str_columns = ['brand', 'maker', 'model', 'product', 'pid', 'updttm']\n",
    "for col in str_columns:\n",
    "    dataset[col] = dataset[col].map(lambda x:x.decode('utf-8'))\n",
    "    dataset[col] = dataset[col].map(lambda x:x if len(x) else None)\n"
   ]
  },
  {
   "cell_type": "code",
   "execution_count": 3,
   "metadata": {},
   "outputs": [],
   "source": [
    "def clean_reivew(review):\n",
    "    review = ''.join(re.compile('[가-힣.!?a-zA-Z ]').findall(review))\n",
    "    review = re.sub('\\n', ' ', review)\n",
    "    review = re.sub(r'\\!+', '!', review)\n",
    "    review = re.sub(r'\\?+', '?', review)\n",
    "    review = re.sub(r'\\.+', '.', review)\n",
    "    review = re.sub(r'\\([^)]*\\)', '', review)    # 괄호 안 내용 삭제\n",
    "    review = re.sub(r'\\[[^)]*\\]', '', review)    # 대괄호 안 내용 삭제\n",
    "    return review "
   ]
  },
  {
   "cell_type": "code",
   "execution_count": 4,
   "metadata": {},
   "outputs": [],
   "source": [
    "def find(target, seq):\n",
    "    max_window_size = len(target)\n",
    "    if max_window_size <= 0:\n",
    "        max_window_size = 1\n",
    "        \n",
    "    def window(seq, n=max_window_size):\n",
    "        \"Returns a sliding window (of width n) over data from the iterable\"\n",
    "        \"   s -> (s0,s1,...s[n-1]), (s1,s2,...,sn), ...                   \"\n",
    "        it = iter(seq)\n",
    "        result = tuple(islice(it, n))\n",
    "        if len(result) == n:\n",
    "            yield result\n",
    "        for elem in it:\n",
    "            result = result[1:] + (elem,)\n",
    "            yield result\n",
    "      \n",
    "    \n",
    "    def tune_window_size():\n",
    "        window_size = max_window_size\n",
    "        for i in range(max_window_size, 0, -1):\n",
    "      \n",
    "            for _s in window(seq=seq, n=i):# _s : 윈도우 결과\n",
    "                if target in ''.join(_s):\n",
    "                    window_size = i\n",
    "                    #print(i, _s, window_size)\n",
    "                    break\n",
    "                    \n",
    "        return window_size\n",
    "                \n",
    "    window_size = tune_window_size()\n",
    "      \n",
    "        \n",
    "    def get_ckpts(_seq):\n",
    "        pos = 0\n",
    "        ckpt = list()\n",
    "          \n",
    "        for _s in window(seq=_seq, n=window_size):\n",
    "            if target in ''.join(_s):\n",
    "                ckpt.append([pos, pos+window_size])\n",
    "            pos += 1\n",
    "        return ckpt\n",
    "            \n",
    "    ckpts = get_ckpts(seq)\n",
    "    label_list = ['O']*len(seq)\n",
    "    \n",
    "    for ckpt in ckpts:\n",
    "        label_list[ckpt[0]] = 'brand-B'\n",
    "        for i in range(ckpt[0]+1, ckpt[1]):\n",
    "            label_list[i] = 'brand-I'\n",
    "    \n",
    "  \n",
    "      \n",
    "    \n",
    "    return label_list"
   ]
  },
  {
   "cell_type": "code",
   "execution_count": 5,
   "metadata": {},
   "outputs": [],
   "source": [
    "def get_label_list(_dataset):\n",
    "    dataset = _dataset\n",
    "    dataset['brand'] = dataset['brand'].fillna('__없음__')\n",
    "    dataset['product'] = dataset['product'].map(lambda x : clean_reivew(x))\n",
    "    dataset = dataset.dropna(subset=['brand']).reset_index(drop=True)\n",
    "    \n",
    "    product = dataset['product'].values\n",
    "    brand = dataset['brand'].values\n",
    "    \n",
    "    def cleaner(_list):\n",
    "        _str = [re.sub('▁', '', s) for s in _list]\n",
    "        _str = [s for s in _str if s]\n",
    "        return _str#re.sub('▁', '', _str)\n",
    "    \n",
    "    dataset['product'] = dataset['product'].map(sp.encode_as_pieces)\n",
    "    dataset['product'] = dataset['product'].map(lambda x: cleaner(x))\n",
    "    label_list = list()\n",
    "    a = [label_list.extend([find(b,p)]) for p,b in zip(product, brand)]\n",
    "    \n",
    "    dataset = dataset[['product' ,'brand']]\n",
    "    dataset['label'] = label_list\n",
    "    \n",
    "\n",
    "    drop_idx = list()\n",
    "    for i,r in tqdm(dataset.iterrows()):\n",
    "        if 'brand-B' not in r['label'] and r['brand'] != '__없음__':#브랜드명이 있으면서 찾아내지 못 한 케이스 제거\n",
    "\n",
    "            drop_idx.append(i)\n",
    "    dataset = dataset.drop(drop_idx)\n",
    "    \n",
    "    return dataset ,drop_idx\n",
    "    "
   ]
  },
  {
   "cell_type": "code",
   "execution_count": 6,
   "metadata": {},
   "outputs": [],
   "source": [
    "def split_concat(df1, df2=None, train_size = 0.85):\n",
    "    \"\"\"\n",
    "    df1 = brand명 있는 df\n",
    "    df2 = brand명 없는 df\n",
    "    \"\"\"\n",
    "    if type(df2) == pd.DataFrame:\n",
    "\n",
    "        df1_size = df1.shape[0]\n",
    "        df2_size = df2.shape[0]\n",
    "\n",
    "        df1_train = df1.loc[:(int)(df1_size*train_size)]\n",
    "        df1_test  = df1.loc[(int)(df1_size*train_size):]\n",
    "\n",
    "\n",
    "        df2_train = df2.loc[:(int)(df2_size*train_size)]\n",
    "        df2_test  = df2.loc[(int)(df2_size*train_size):]\n",
    "\n",
    "        train = pd.concat([df1_train, df2_train])\n",
    "        test = pd.concat([df1_test, df2_test])\n",
    "\n",
    "        train = train.sample(len(train)).reset_index(drop=True)\n",
    "        test = test.sample(len(test)).reset_index(drop=True)\n",
    "\n",
    "\n",
    "\n",
    "        #size = dataframe.shape[0]\n",
    "        #train = dataframe.loc[:(int)(size*train_size)]\n",
    "        #test = dataframe.loc[(int)(size*train_size):]\n",
    "        #test = test.reset_index(drop=True)\n",
    "\n",
    "        return train, test\n",
    "    \n",
    "    else:\n",
    "        size = df1.shape[0]\n",
    "        train = df1.loc[:(int)(size*train_size)]\n",
    "        test = df1.loc[(int)(size*train_size):]\n",
    "        test = test.reset_index(drop=True)\n",
    "        train = train.sample(len(train)).reset_index(drop=True)\n",
    "        test = test.sample(len(test)).reset_index(drop=True)\n",
    "        \n",
    "        return train, test"
   ]
  },
  {
   "cell_type": "code",
   "execution_count": 7,
   "metadata": {},
   "outputs": [
    {
     "data": {
      "application/vnd.jupyter.widget-view+json": {
       "model_id": "4df06163541d487a9369bcf9ec7b4372",
       "version_major": 2,
       "version_minor": 0
      },
      "text/plain": [
       "HBox(children=(FloatProgress(value=1.0, bar_style='info', max=1.0), HTML(value='')))"
      ]
     },
     "metadata": {},
     "output_type": "display_data"
    },
    {
     "name": "stdout",
     "output_type": "stream",
     "text": [
      "\n"
     ]
    }
   ],
   "source": [
    "df,drop_idx = get_label_list(dataset)"
   ]
  },
  {
   "cell_type": "code",
   "execution_count": 8,
   "metadata": {},
   "outputs": [],
   "source": [
    "dataset = dataset.drop(drop_idx)"
   ]
  },
  {
   "cell_type": "code",
   "execution_count": 9,
   "metadata": {},
   "outputs": [],
   "source": [
    "input_texts = dataset[['brand',  'product']]"
   ]
  },
  {
   "cell_type": "code",
   "execution_count": 10,
   "metadata": {},
   "outputs": [
    {
     "name": "stderr",
     "output_type": "stream",
     "text": [
      "/home/literai-deploy/.conda/envs/ai_report/lib/python3.7/site-packages/ipykernel_launcher.py:1: SettingWithCopyWarning: \n",
      "A value is trying to be set on a copy of a slice from a DataFrame.\n",
      "Try using .loc[row_indexer,col_indexer] = value instead\n",
      "\n",
      "See the caveats in the documentation: https://pandas.pydata.org/pandas-docs/stable/user_guide/indexing.html#returning-a-view-versus-a-copy\n",
      "  \"\"\"Entry point for launching an IPython kernel.\n",
      "/home/literai-deploy/.conda/envs/ai_report/lib/python3.7/site-packages/ipykernel_launcher.py:2: SettingWithCopyWarning: \n",
      "A value is trying to be set on a copy of a slice from a DataFrame.\n",
      "Try using .loc[row_indexer,col_indexer] = value instead\n",
      "\n",
      "See the caveats in the documentation: https://pandas.pydata.org/pandas-docs/stable/user_guide/indexing.html#returning-a-view-versus-a-copy\n",
      "  \n",
      "/home/literai-deploy/.conda/envs/ai_report/lib/python3.7/site-packages/ipykernel_launcher.py:3: SettingWithCopyWarning: \n",
      "A value is trying to be set on a copy of a slice from a DataFrame.\n",
      "Try using .loc[row_indexer,col_indexer] = value instead\n",
      "\n",
      "See the caveats in the documentation: https://pandas.pydata.org/pandas-docs/stable/user_guide/indexing.html#returning-a-view-versus-a-copy\n",
      "  This is separate from the ipykernel package so we can avoid doing imports until\n"
     ]
    }
   ],
   "source": [
    "input_texts['brand'] = input_texts['brand'].map(lambda x: ''.join(re.compile('[가-힣.!?a-zA-Z_0-9]').findall(x)))\n",
    "input_texts['brand'] = input_texts['brand'].fillna('__없음__')\n",
    "input_texts['product'] = input_texts['product'].map(lambda x: clean_reivew(x))"
   ]
  },
  {
   "cell_type": "code",
   "execution_count": 11,
   "metadata": {},
   "outputs": [
    {
     "data": {
      "application/vnd.jupyter.widget-view+json": {
       "model_id": "6fce6b30ae2447219d0bd427770577e2",
       "version_major": 2,
       "version_minor": 0
      },
      "text/plain": [
       "HBox(children=(FloatProgress(value=1.0, bar_style='info', max=1.0), HTML(value='')))"
      ]
     },
     "metadata": {},
     "output_type": "display_data"
    },
    {
     "name": "stdout",
     "output_type": "stream",
     "text": [
      "\n"
     ]
    }
   ],
   "source": [
    "drop_idx = list()\n",
    "for i,r in tqdm(input_texts.iterrows()):\n",
    "    if len(r['brand']) < 1:\n",
    "        drop_idx.append(i)\n",
    "input_texts = input_texts.drop(drop_idx)"
   ]
  },
  {
   "cell_type": "code",
   "execution_count": 12,
   "metadata": {},
   "outputs": [],
   "source": [
    "df1 = input_texts[input_texts['brand'] != '__없음__']\n",
    "df2 = input_texts[input_texts['brand'] == '__없음__']"
   ]
  },
  {
   "cell_type": "code",
   "execution_count": 13,
   "metadata": {},
   "outputs": [],
   "source": [
    "data_len = min(df1.shape[0], df2.shape[0])"
   ]
  },
  {
   "cell_type": "code",
   "execution_count": 14,
   "metadata": {},
   "outputs": [],
   "source": [
    "if len(df1) < len(df2):\n",
    "    df1 = df1.reset_index(drop=True)\n",
    "    df2 = df2.sample(data_len).reset_index(drop=True)\n",
    "else:\n",
    "    df1 = df1.sample(data_len).reset_index(drop=True)\n",
    "    df2 = df2.reset_index(drop=True)"
   ]
  },
  {
   "cell_type": "code",
   "execution_count": 15,
   "metadata": {},
   "outputs": [],
   "source": [
    "train, test = split_concat(df1=df1, df2=df2, train_size=0.7)"
   ]
  },
  {
   "cell_type": "code",
   "execution_count": 18,
   "metadata": {},
   "outputs": [],
   "source": [
    "train.to_csv('../train.tsv',sep='\\t',index=False, header=None)"
   ]
  },
  {
   "cell_type": "code",
   "execution_count": 19,
   "metadata": {},
   "outputs": [],
   "source": [
    "test.to_csv('../test.tsv',sep='\\t',index=False, header=None)"
   ]
  },
  {
   "cell_type": "code",
   "execution_count": 16,
   "metadata": {},
   "outputs": [
    {
     "data": {
      "text/html": [
       "<div>\n",
       "<style scoped>\n",
       "    .dataframe tbody tr th:only-of-type {\n",
       "        vertical-align: middle;\n",
       "    }\n",
       "\n",
       "    .dataframe tbody tr th {\n",
       "        vertical-align: top;\n",
       "    }\n",
       "\n",
       "    .dataframe thead th {\n",
       "        text-align: right;\n",
       "    }\n",
       "</style>\n",
       "<table border=\"1\" class=\"dataframe\">\n",
       "  <thead>\n",
       "    <tr style=\"text-align: right;\">\n",
       "      <th></th>\n",
       "      <th>brand</th>\n",
       "      <th>product</th>\n",
       "    </tr>\n",
       "  </thead>\n",
       "  <tbody>\n",
       "    <tr>\n",
       "      <th>0</th>\n",
       "      <td>__없음__</td>\n",
       "      <td>오줌싸개 printing 오토바이크   스티커카스티커헬멧튜닝</td>\n",
       "    </tr>\n",
       "    <tr>\n",
       "      <th>1</th>\n",
       "      <td>__없음__</td>\n",
       "      <td>씽크대배수구청소캡 대형</td>\n",
       "    </tr>\n",
       "    <tr>\n",
       "      <th>2</th>\n",
       "      <td>쁘띠바또</td>\n",
       "      <td>쁘띠바또 키즈 레드꽃 방수배낭</td>\n",
       "    </tr>\n",
       "    <tr>\n",
       "      <th>3</th>\n",
       "      <td>__없음__</td>\n",
       "      <td>해외쇼핑Apollo Small Cuff</td>\n",
       "    </tr>\n",
       "    <tr>\n",
       "      <th>4</th>\n",
       "      <td>삼성</td>\n",
       "      <td>삼성 SCX 정품토너 SCXDC</td>\n",
       "    </tr>\n",
       "    <tr>\n",
       "      <th>...</th>\n",
       "      <td>...</td>\n",
       "      <td>...</td>\n",
       "    </tr>\n",
       "    <tr>\n",
       "      <th>40141</th>\n",
       "      <td>디젤</td>\n",
       "      <td>아트박스 POOM디젤 국내배송  QR인증 DIESEL 디젤 DZ</td>\n",
       "    </tr>\n",
       "    <tr>\n",
       "      <th>40142</th>\n",
       "      <td>__없음__</td>\n",
       "      <td>스와들디자인 코튼 블루리틀치킨</td>\n",
       "    </tr>\n",
       "    <tr>\n",
       "      <th>40143</th>\n",
       "      <td>에뜨와</td>\n",
       "      <td>롯데백화점에뜨와밀리 밤비 내의 J</td>\n",
       "    </tr>\n",
       "    <tr>\n",
       "      <th>40144</th>\n",
       "      <td>__없음__</td>\n",
       "      <td>해외high quanlity depression slidesingle notch 페...</td>\n",
       "    </tr>\n",
       "    <tr>\n",
       "      <th>40145</th>\n",
       "      <td>__없음__</td>\n",
       "      <td>Geewhiz Vodisa Makeup Glitter Eyeshadow Palett...</td>\n",
       "    </tr>\n",
       "  </tbody>\n",
       "</table>\n",
       "<p>40146 rows × 2 columns</p>\n",
       "</div>"
      ],
      "text/plain": [
       "        brand                                            product\n",
       "0      __없음__                  오줌싸개 printing 오토바이크   스티커카스티커헬멧튜닝\n",
       "1      __없음__                                       씽크대배수구청소캡 대형\n",
       "2        쁘띠바또                                  쁘띠바또 키즈 레드꽃 방수배낭 \n",
       "3      __없음__                              해외쇼핑Apollo Small Cuff\n",
       "4          삼성                                  삼성 SCX 정품토너 SCXDC\n",
       "...       ...                                                ...\n",
       "40141      디젤                아트박스 POOM디젤 국내배송  QR인증 DIESEL 디젤 DZ\n",
       "40142  __없음__                                   스와들디자인 코튼 블루리틀치킨\n",
       "40143     에뜨와                                 롯데백화점에뜨와밀리 밤비 내의 J\n",
       "40144  __없음__  해외high quanlity depression slidesingle notch 페...\n",
       "40145  __없음__  Geewhiz Vodisa Makeup Glitter Eyeshadow Palett...\n",
       "\n",
       "[40146 rows x 2 columns]"
      ]
     },
     "execution_count": 16,
     "metadata": {},
     "output_type": "execute_result"
    }
   ],
   "source": [
    "train"
   ]
  },
  {
   "cell_type": "code",
   "execution_count": 17,
   "metadata": {},
   "outputs": [
    {
     "data": {
      "text/html": [
       "<div>\n",
       "<style scoped>\n",
       "    .dataframe tbody tr th:only-of-type {\n",
       "        vertical-align: middle;\n",
       "    }\n",
       "\n",
       "    .dataframe tbody tr th {\n",
       "        vertical-align: top;\n",
       "    }\n",
       "\n",
       "    .dataframe thead th {\n",
       "        text-align: right;\n",
       "    }\n",
       "</style>\n",
       "<table border=\"1\" class=\"dataframe\">\n",
       "  <thead>\n",
       "    <tr style=\"text-align: right;\">\n",
       "      <th></th>\n",
       "      <th>brand</th>\n",
       "      <th>product</th>\n",
       "    </tr>\n",
       "  </thead>\n",
       "  <tbody>\n",
       "    <tr>\n",
       "      <th>0</th>\n",
       "      <td>__없음__</td>\n",
       "      <td>NT디자인컷터날BWP웨이브</td>\n",
       "    </tr>\n",
       "    <tr>\n",
       "      <th>1</th>\n",
       "      <td>영실업</td>\n",
       "      <td>영실업 지오메카 비스트 가디언 나스혼 선물추천</td>\n",
       "    </tr>\n",
       "    <tr>\n",
       "      <th>2</th>\n",
       "      <td>디스커버리</td>\n",
       "      <td>디스커버리롯데백화점남성 전판 SHARK 프린트 반팔 티셔츠 DMRTA</td>\n",
       "    </tr>\n",
       "    <tr>\n",
       "      <th>3</th>\n",
       "      <td>__없음__</td>\n",
       "      <td>F NETmate CAT. 포트 패치 판넬U</td>\n",
       "    </tr>\n",
       "    <tr>\n",
       "      <th>4</th>\n",
       "      <td>본타몰</td>\n",
       "      <td>본타몰 모코나종선물세트A호헤이즐넛향gx</td>\n",
       "    </tr>\n",
       "    <tr>\n",
       "      <th>...</th>\n",
       "      <td>...</td>\n",
       "      <td>...</td>\n",
       "    </tr>\n",
       "    <tr>\n",
       "      <th>17201</th>\n",
       "      <td>쌈지</td>\n",
       "      <td>쌈지 SB 사피아노 라인 중지갑  그레이남성고급모던심플캐주얼가죽홀더학생선물특가</td>\n",
       "    </tr>\n",
       "    <tr>\n",
       "      <th>17202</th>\n",
       "      <td>Converse</td>\n",
       "      <td>해외컨버스 Converse Converse Unisex Chuck Taylor Cl...</td>\n",
       "    </tr>\n",
       "    <tr>\n",
       "      <th>17203</th>\n",
       "      <td>프리티맘</td>\n",
       "      <td>프리티맘 이로 슬랙스특가</td>\n",
       "    </tr>\n",
       "    <tr>\n",
       "      <th>17204</th>\n",
       "      <td>네오플램</td>\n",
       "      <td>네오플램 큐브 후라이팬 리프그린 cm 팬 후라이팬</td>\n",
       "    </tr>\n",
       "    <tr>\n",
       "      <th>17205</th>\n",
       "      <td>무냐무냐</td>\n",
       "      <td>무냐무냐무냐쁘띠운동회나시유아복년SS 이월특가경기점</td>\n",
       "    </tr>\n",
       "  </tbody>\n",
       "</table>\n",
       "<p>17206 rows × 2 columns</p>\n",
       "</div>"
      ],
      "text/plain": [
       "          brand                                            product\n",
       "0        __없음__                                     NT디자인컷터날BWP웨이브\n",
       "1           영실업                          영실업 지오메카 비스트 가디언 나스혼 선물추천\n",
       "2         디스커버리             디스커버리롯데백화점남성 전판 SHARK 프린트 반팔 티셔츠 DMRTA\n",
       "3        __없음__                           F NETmate CAT. 포트 패치 판넬U\n",
       "4           본타몰                              본타몰 모코나종선물세트A호헤이즐넛향gx\n",
       "...         ...                                                ...\n",
       "17201        쌈지        쌈지 SB 사피아노 라인 중지갑  그레이남성고급모던심플캐주얼가죽홀더학생선물특가\n",
       "17202  Converse  해외컨버스 Converse Converse Unisex Chuck Taylor Cl...\n",
       "17203      프리티맘                                      프리티맘 이로 슬랙스특가\n",
       "17204      네오플램                        네오플램 큐브 후라이팬 리프그린 cm 팬 후라이팬\n",
       "17205      무냐무냐                        무냐무냐무냐쁘띠운동회나시유아복년SS 이월특가경기점\n",
       "\n",
       "[17206 rows x 2 columns]"
      ]
     },
     "execution_count": 17,
     "metadata": {},
     "output_type": "execute_result"
    }
   ],
   "source": [
    "test"
   ]
  },
  {
   "cell_type": "code",
   "execution_count": 50,
   "metadata": {},
   "outputs": [
    {
     "name": "stdout",
     "output_type": "stream",
     "text": [
      "Tue Sep 15 16:01:27 2020       \n",
      "+-----------------------------------------------------------------------------+\n",
      "| NVIDIA-SMI 440.100      Driver Version: 440.100      CUDA Version: 10.2     |\n",
      "|-------------------------------+----------------------+----------------------+\n",
      "| GPU  Name        Persistence-M| Bus-Id        Disp.A | Volatile Uncorr. ECC |\n",
      "| Fan  Temp  Perf  Pwr:Usage/Cap|         Memory-Usage | GPU-Util  Compute M. |\n",
      "|===============================+======================+======================|\n",
      "|   0  TITAN RTX           Off  | 00000000:02:00.0 Off |                  N/A |\n",
      "| 41%   51C    P8    14W / 280W |     21MiB / 24217MiB |      0%      Default |\n",
      "+-------------------------------+----------------------+----------------------+\n",
      "                                                                               \n",
      "+-----------------------------------------------------------------------------+\n",
      "| Processes:                                                       GPU Memory |\n",
      "|  GPU       PID   Type   Process name                             Usage      |\n",
      "|=============================================================================|\n",
      "|    0      1237      G   /usr/lib/xorg/Xorg                             9MiB |\n",
      "|    0      1301      G   /usr/bin/gnome-shell                           9MiB |\n",
      "+-----------------------------------------------------------------------------+\n"
     ]
    }
   ],
   "source": [
    "!nvidia-smi"
   ]
  },
  {
   "cell_type": "code",
   "execution_count": 36,
   "metadata": {},
   "outputs": [
    {
     "data": {
      "text/plain": [
       "'a'"
      ]
     },
     "execution_count": 36,
     "metadata": {},
     "output_type": "execute_result"
    }
   ],
   "source": [
    "'asdf'[0]"
   ]
  },
  {
   "cell_type": "code",
   "execution_count": 21,
   "metadata": {},
   "outputs": [
    {
     "data": {
      "text/plain": [
       "[]"
      ]
     },
     "execution_count": 21,
     "metadata": {},
     "output_type": "execute_result"
    }
   ],
   "source": [
    "['1']*0"
   ]
  },
  {
   "cell_type": "code",
   "execution_count": 30,
   "metadata": {},
   "outputs": [],
   "source": [
    "a= [1,2]"
   ]
  },
  {
   "cell_type": "code",
   "execution_count": 34,
   "metadata": {},
   "outputs": [],
   "source": [
    "a.extend('asdf')"
   ]
  },
  {
   "cell_type": "code",
   "execution_count": 35,
   "metadata": {},
   "outputs": [
    {
     "data": {
      "text/plain": [
       "[1, 2, 'asdf', 'a', 's', 'd', 'f']"
      ]
     },
     "execution_count": 35,
     "metadata": {},
     "output_type": "execute_result"
    }
   ],
   "source": [
    "a"
   ]
  },
  {
   "cell_type": "code",
   "execution_count": null,
   "metadata": {},
   "outputs": [],
   "source": []
  }
 ],
 "metadata": {
  "kernelspec": {
   "display_name": "ai_report",
   "language": "python",
   "name": "ai_report"
  },
  "language_info": {
   "codemirror_mode": {
    "name": "ipython",
    "version": 3
   },
   "file_extension": ".py",
   "mimetype": "text/x-python",
   "name": "python",
   "nbconvert_exporter": "python",
   "pygments_lexer": "ipython3",
   "version": "3.7.7"
  }
 },
 "nbformat": 4,
 "nbformat_minor": 4
}
